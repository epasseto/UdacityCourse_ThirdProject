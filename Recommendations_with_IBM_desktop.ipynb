{
 "cells": [
  {
   "cell_type": "markdown",
   "metadata": {
    "id": "Yi3zJufj0sPl"
   },
   "source": [
    "# Recommendations with IBM\n",
    "\n",
    "In this notebook, you will be putting your recommendation skills to use on real data from the IBM Watson Studio platform. \n",
    "\n",
    "\n",
    "You may either submit your notebook through the workspace here, or you may work from your local machine and submit through the next page.  Either way assure that your code passes the project [RUBRIC](https://review.udacity.com/#!/rubrics/2322/view).  **Please save regularly.**\n",
    "\n",
    "By following the table of contents, you will build out a number of different methods for making recommendations that can be used for different situations. \n",
    "\n",
    "\n",
    "## Table of Contents\n",
    "\n",
    "I. [Exploratory Data Analysis](#Exploratory-Data-Analysis)<br>\n",
    "II. [Rank Based Recommendations](#Rank)<br>\n",
    "III. [User-User Based Collaborative Filtering](#User-User)<br>\n",
    "IV. [Content Based Recommendations (EXTRA - NOT REQUIRED)](#Content-Recs)<br>\n",
    "V. [Matrix Factorization](#Matrix-Fact)<br>\n",
    "VI. [Extras & Concluding](#conclusions)\n",
    "\n",
    "At the end of the notebook, you will find directions for how to submit your work.  Let's get started by importing the necessary libraries and reading in the data.\n",
    "\n",
    "### First steps\n",
    "\n",
    "**Observation:** this project was originally developed using Google Colab. Why using Google Colab? Just because some parts of the studies on this module (especially **FunkSVD**) where too heavy for my **not so new** Lenovo T450! This version of the notebook is adapted to work at Desktop. So, some code blocks were commented, just because they are part of the **Colab** stuff.\n",
    "\n",
    "My computer couldn´t stand for this kind of project. So, I migrated the project to Google Colab.\n",
    "\n",
    "Source of code for this step: **Google Colab Documentation**\n",
    "\n",
    "*only uncomment these cells if you are planning to test this notebook on Google Colab + Google Drive (you will need to transfer all the project files to a file fold at your own Google Drive!)\n",
    "\n",
    "**Last comment:** my experience using Google Colab was really **positive**. Things run really fast and the virtual machine is not so hard to configurate. I rented **Google Colab Pro** when it was necessary, and is really easy to do it. So, I strongly recommend, for every student of Data Science classes to try it!"
   ]
  },
  {
   "cell_type": "code",
   "execution_count": 1,
   "metadata": {
    "id": "sv7pwHasWi-E"
   },
   "outputs": [],
   "source": [
    "#from google.colab import drive\n",
    "#drive.mount('/content/gdrive')"
   ]
  },
  {
   "cell_type": "code",
   "execution_count": 2,
   "metadata": {
    "id": "pJhETvecW9Fg"
   },
   "outputs": [],
   "source": [
    "#from pathlib import Path\n",
    "#patmy = Path('/content/gdrive/MyDrive/GoogleColab/DataScientistStudies3')"
   ]
  },
  {
   "cell_type": "markdown",
   "metadata": {
    "id": "2gitoUIczfPX"
   },
   "source": [
    "See if everything is in the original directory"
   ]
  },
  {
   "cell_type": "code",
   "execution_count": 3,
   "metadata": {
    "colab": {
     "base_uri": "https://localhost:8080/"
    },
    "executionInfo": {
     "elapsed": 1355,
     "status": "ok",
     "timestamp": 1637439031213,
     "user": {
      "displayName": "Eduardo Passeto",
      "photoUrl": "https://lh3.googleusercontent.com/a-/AOh14GjI6hyWqRLc_tvBbX89lELJagwb0PXyrM8cuapKGQ=s64",
      "userId": "17164463605285505900"
     },
     "user_tz": 180
    },
    "id": "AwvNlnwXXfj-",
    "outputId": "bccc06ac-2518-4be6-a71c-60f2f3e2e5ec"
   },
   "outputs": [],
   "source": [
    "#%ls /content/gdrive/MyDrive/GoogleColab/DataScientistStudies3"
   ]
  },
  {
   "cell_type": "markdown",
   "metadata": {
    "id": "PgiCwSzMzm9_"
   },
   "source": [
    "Moving from Google Drive to the Google Colab virtual machine"
   ]
  },
  {
   "cell_type": "code",
   "execution_count": 4,
   "metadata": {
    "colab": {
     "base_uri": "https://localhost:8080/"
    },
    "executionInfo": {
     "elapsed": 7411,
     "status": "ok",
     "timestamp": 1637439178608,
     "user": {
      "displayName": "Eduardo Passeto",
      "photoUrl": "https://lh3.googleusercontent.com/a-/AOh14GjI6hyWqRLc_tvBbX89lELJagwb0PXyrM8cuapKGQ=s64",
      "userId": "17164463605285505900"
     },
     "user_tz": 180
    },
    "id": "w4mR24MqXqC5",
    "outputId": "7efc787f-bb5f-4f87-c52e-3f2f3b3bda00"
   },
   "outputs": [],
   "source": [
    "#copying libraries into google colab virtual machine\n",
    "#!cp /content/gdrive/MyDrive/GoogleColab/DataScientistStudies3/project_tests.py .\n",
    "#!cp /content/gdrive/MyDrive/GoogleColab/DataScientistStudies3/udacourse3.py .\n",
    "\n",
    "#aditional picle files for validation\n",
    "#!cp /content/gdrive/MyDrive/GoogleColab/DataScientistStudies3/top_5.p .\n",
    "#!cp /content/gdrive/MyDrive/GoogleColab/DataScientistStudies3/top_10.p .\n",
    "#!cp /content/gdrive/MyDrive/GoogleColab/DataScientistStudies3/top_20.p .\n",
    "#!cp /content/gdrive/MyDrive/GoogleColab/DataScientistStudies3/user_item_matrix.p .\n",
    "\n",
    "#creating data subdirectory and copying necessary libraries into it\n",
    "#!mkdir data\n",
    "#!cp /content/gdrive/MyDrive/GoogleColab/DataScientistStudies3/data/user-item-interactions.csv ./data\n",
    "#!cp /content/gdrive/MyDrive/GoogleColab/DataScientistStudies3/data/articles_community.csv ./data\n",
    "#!ls ./data"
   ]
  },
  {
   "cell_type": "code",
   "execution_count": 5,
   "metadata": {
    "colab": {
     "base_uri": "https://localhost:8080/"
    },
    "executionInfo": {
     "elapsed": 797,
     "status": "ok",
     "timestamp": 1637439183190,
     "user": {
      "displayName": "Eduardo Passeto",
      "photoUrl": "https://lh3.googleusercontent.com/a-/AOh14GjI6hyWqRLc_tvBbX89lELJagwb0PXyrM8cuapKGQ=s64",
      "userId": "17164463605285505900"
     },
     "user_tz": 180
    },
    "id": "enU2hTnK0sPp",
    "outputId": "65aa3182-7278-4c18-f129-4546de8c1928"
   },
   "outputs": [],
   "source": [
    "import pandas as pd\n",
    "import numpy as np\n",
    "import matplotlib.pyplot as plt\n",
    "import project_tests as t\n",
    "import pickle\n",
    "from time import time\n",
    "\n",
    "#my library for this part of the course\n",
    "import udacourse3 as udc3\n",
    "\n",
    "#%matplotlib inline"
   ]
  },
  {
   "cell_type": "markdown",
   "metadata": {
    "id": "jhFiYWCWcTht"
   },
   "source": [
    "Reloader for udacourse library (use it if is necessary)\n",
    "\n",
    "- if you want to edit `udacourse3.py` library and then reload the library, you will need to the above cell\n",
    "\n",
    "- the first line is only for copying from Google Drive to your Google Colab virtual machine. It will work only if you copied all the files into your Google Drive!"
   ]
  },
  {
   "cell_type": "code",
   "execution_count": 6,
   "metadata": {
    "id": "5Vdper61cSbA"
   },
   "outputs": [],
   "source": [
    "#!cp /content/gdrive/MyDrive/GoogleColab/DataScientistStudies3/udacourse3.py . #works with Google Drive!\n",
    "#reloader for our functions library\n",
    "#from importlib import reload \n",
    "#import udacourse3 as udc3\n",
    "\n",
    "#udc3 = reload(udc3)"
   ]
  },
  {
   "cell_type": "code",
   "execution_count": 7,
   "metadata": {
    "colab": {
     "base_uri": "https://localhost:8080/",
     "height": 148
    },
    "executionInfo": {
     "elapsed": 310,
     "status": "ok",
     "timestamp": 1636389386143,
     "user": {
      "displayName": "Eduardo Passeto",
      "photoUrl": "https://lh3.googleusercontent.com/a-/AOh14GjI6hyWqRLc_tvBbX89lELJagwb0PXyrM8cuapKGQ=s64",
      "userId": "17164463605285505900"
     },
     "user_tz": 180
    },
    "id": "udCNxlxPcv0r",
    "outputId": "b2b6f224-8424-4c3e-a707-31788c45803d"
   },
   "outputs": [
    {
     "name": "stdout",
     "output_type": "stream",
     "text": [
      "###function read data from .csv file started\n",
      "index reset and drop\n",
      "dataframe created from data/user-item-interactions.csv has 45993 lines and 3 columns\n",
      "elapsed time: 0.2139s\n"
     ]
    },
    {
     "data": {
      "text/html": [
       "<div>\n",
       "<style scoped>\n",
       "    .dataframe tbody tr th:only-of-type {\n",
       "        vertical-align: middle;\n",
       "    }\n",
       "\n",
       "    .dataframe tbody tr th {\n",
       "        vertical-align: top;\n",
       "    }\n",
       "\n",
       "    .dataframe thead th {\n",
       "        text-align: right;\n",
       "    }\n",
       "</style>\n",
       "<table border=\"1\" class=\"dataframe\">\n",
       "  <thead>\n",
       "    <tr style=\"text-align: right;\">\n",
       "      <th></th>\n",
       "      <th>article_id</th>\n",
       "      <th>title</th>\n",
       "      <th>email</th>\n",
       "    </tr>\n",
       "  </thead>\n",
       "  <tbody>\n",
       "    <tr>\n",
       "      <th>0</th>\n",
       "      <td>1430.0</td>\n",
       "      <td>using pixiedust for fast, flexible, and easier...</td>\n",
       "      <td>ef5f11f77ba020cd36e1105a00ab868bbdbf7fe7</td>\n",
       "    </tr>\n",
       "  </tbody>\n",
       "</table>\n",
       "</div>"
      ],
      "text/plain": [
       "   article_id                                              title  \\\n",
       "0      1430.0  using pixiedust for fast, flexible, and easier...   \n",
       "\n",
       "                                      email  \n",
       "0  ef5f11f77ba020cd36e1105a00ab868bbdbf7fe7  "
      ]
     },
     "execution_count": 7,
     "metadata": {},
     "output_type": "execute_result"
    }
   ],
   "source": [
    "#reading the datasets\n",
    "df_inter = udc3.fn_read_data(\n",
    "               filepath='data/user-item-interactions.csv',\n",
    "               remove_noisy_cols=True,\n",
    "               verbose=True\n",
    ")\n",
    "df_inter.head(1)"
   ]
  },
  {
   "cell_type": "markdown",
   "metadata": {
    "id": "swzfSQxoOaI0"
   },
   "source": [
    "This is not OK:\n",
    "\n",
    "- id is imported as `float64`, and this is not nice!\n",
    "\n",
    "- ids normally are **numerical string** or **long integer**\n",
    "\n",
    "So, let's correct it\n"
   ]
  },
  {
   "cell_type": "code",
   "execution_count": 8,
   "metadata": {
    "colab": {
     "base_uri": "https://localhost:8080/"
    },
    "executionInfo": {
     "elapsed": 296,
     "status": "ok",
     "timestamp": 1636389388794,
     "user": {
      "displayName": "Eduardo Passeto",
      "photoUrl": "https://lh3.googleusercontent.com/a-/AOh14GjI6hyWqRLc_tvBbX89lELJagwb0PXyrM8cuapKGQ=s64",
      "userId": "17164463605285505900"
     },
     "user_tz": 180
    },
    "id": "qC7BbFpDNPMV",
    "outputId": "6309a134-8bf6-473b-f315-67d8d2d81cc5"
   },
   "outputs": [
    {
     "data": {
      "text/plain": [
       "numpy.float64"
      ]
     },
     "execution_count": 8,
     "metadata": {},
     "output_type": "execute_result"
    }
   ],
   "source": [
    "df_inter['article_id'].dtype.type"
   ]
  },
  {
   "cell_type": "markdown",
   "metadata": {
    "id": "wNXu2rSwSQI_"
   },
   "source": [
    "Much better now:\n",
    "\n",
    "- this one is a **huge** dataframe\n",
    "\n",
    "- it represents a kind of **junction** between **articles** and **users**\n",
    "\n",
    "- it looks like an **intermediary table** of a database, for making **n:m** relationships (multiple on both sizes)\n",
    "\n",
    "- more accurately, it looks like a **reified n:m**, as it keeps some special data inside it (a title field)\n",
    "\n",
    "Later Add:\n",
    "\n",
    "- create `df_inter_enc` forking dataframe, with better User IDs (we will use only this version later)\n",
    "\n",
    "- create `df_user_item` forking dataframe, for later use"
   ]
  },
  {
   "cell_type": "code",
   "execution_count": 9,
   "metadata": {
    "colab": {
     "base_uri": "https://localhost:8080/",
     "height": 354
    },
    "executionInfo": {
     "elapsed": 1804,
     "status": "ok",
     "timestamp": 1637439202495,
     "user": {
      "displayName": "Eduardo Passeto",
      "photoUrl": "https://lh3.googleusercontent.com/a-/AOh14GjI6hyWqRLc_tvBbX89lELJagwb0PXyrM8cuapKGQ=s64",
      "userId": "17164463605285505900"
     },
     "user_tz": 180
    },
    "id": "Fd4fQTEtOfQY",
    "outputId": "75fab23c-10cd-45a6-bd15-a28acc24fae6"
   },
   "outputs": [
    {
     "name": "stdout",
     "output_type": "stream",
     "text": [
      "###function read data from .csv file started\n",
      "index name set as article_id\n",
      "dataframe created from data/user-item-interactions.csv has 45993 lines and 2 columns\n",
      "elapsed time: 0.1969s\n",
      "###function create user item matrix started\n",
      "user matrix has 5149 users (rows) and 714 articles (columns)\n",
      "elapsed time: 3.2840s\n"
     ]
    },
    {
     "data": {
      "text/html": [
       "<div>\n",
       "<style scoped>\n",
       "    .dataframe tbody tr th:only-of-type {\n",
       "        vertical-align: middle;\n",
       "    }\n",
       "\n",
       "    .dataframe tbody tr th {\n",
       "        vertical-align: top;\n",
       "    }\n",
       "\n",
       "    .dataframe thead th {\n",
       "        text-align: right;\n",
       "    }\n",
       "</style>\n",
       "<table border=\"1\" class=\"dataframe\">\n",
       "  <thead>\n",
       "    <tr style=\"text-align: right;\">\n",
       "      <th></th>\n",
       "      <th>title</th>\n",
       "      <th>email</th>\n",
       "    </tr>\n",
       "    <tr>\n",
       "      <th>article_id</th>\n",
       "      <th></th>\n",
       "      <th></th>\n",
       "    </tr>\n",
       "  </thead>\n",
       "  <tbody>\n",
       "    <tr>\n",
       "      <th>1430</th>\n",
       "      <td>using pixiedust for fast, flexible, and easier...</td>\n",
       "      <td>ef5f11f77ba020cd36e1105a00ab868bbdbf7fe7</td>\n",
       "    </tr>\n",
       "    <tr>\n",
       "      <th>1314</th>\n",
       "      <td>healthcare python streaming application demo</td>\n",
       "      <td>083cbdfa93c8444beaa4c5f5e0f5f9198e4f9e0b</td>\n",
       "    </tr>\n",
       "    <tr>\n",
       "      <th>1429</th>\n",
       "      <td>use deep learning for image classification</td>\n",
       "      <td>b96a4f2e92d8572034b1e9b28f9ac673765cd074</td>\n",
       "    </tr>\n",
       "    <tr>\n",
       "      <th>1338</th>\n",
       "      <td>ml optimization using cognitive assistant</td>\n",
       "      <td>06485706b34a5c9bf2a0ecdac41daf7e7654ceb7</td>\n",
       "    </tr>\n",
       "    <tr>\n",
       "      <th>1276</th>\n",
       "      <td>deploy your python model as a restful api</td>\n",
       "      <td>f01220c46fc92c6e6b161b1849de11faacd7ccb2</td>\n",
       "    </tr>\n",
       "  </tbody>\n",
       "</table>\n",
       "</div>"
      ],
      "text/plain": [
       "                                                        title  \\\n",
       "article_id                                                      \n",
       "1430        using pixiedust for fast, flexible, and easier...   \n",
       "1314             healthcare python streaming application demo   \n",
       "1429               use deep learning for image classification   \n",
       "1338                ml optimization using cognitive assistant   \n",
       "1276                deploy your python model as a restful api   \n",
       "\n",
       "                                               email  \n",
       "article_id                                            \n",
       "1430        ef5f11f77ba020cd36e1105a00ab868bbdbf7fe7  \n",
       "1314        083cbdfa93c8444beaa4c5f5e0f5f9198e4f9e0b  \n",
       "1429        b96a4f2e92d8572034b1e9b28f9ac673765cd074  \n",
       "1338        06485706b34a5c9bf2a0ecdac41daf7e7654ceb7  \n",
       "1276        f01220c46fc92c6e6b161b1849de11faacd7ccb2  "
      ]
     },
     "execution_count": 9,
     "metadata": {},
     "output_type": "execute_result"
    }
   ],
   "source": [
    "#reading the datasets - part I\n",
    "df_inter = udc3.fn_read_data(\n",
    "               filepath='data/user-item-interactions.csv',\n",
    "               index=True,\n",
    "               dtype={'article_id': int},\n",
    "               index_col='article_id',\n",
    "               remove_noisy_cols=True,\n",
    "               verbose=True\n",
    ")\n",
    "df_inter_enc = udc3.fn_email_mapper(\n",
    "                   df_input=df_inter,\n",
    "                   verbose=False\n",
    ")\n",
    "df_user_item = udc3.fn_create_user_item_matrix(\n",
    "                df=df_inter_enc,\n",
    "                verbose=True\n",
    ")\n",
    "df_inter.head(5)"
   ]
  },
  {
   "cell_type": "markdown",
   "metadata": {
    "id": "-rcKmlldrayO"
   },
   "source": [
    "Seeing how these fields are structured:\n",
    "\n",
    "- these first analysis on dataframes can give us some insights of how they are **structured**\n",
    "\n",
    "- it is not so rare that a **dataframe** came from a queue or a **table** from a database\n",
    "\n",
    "- if you catch the **logic** of how this dataset was structured, you can later rebuild its relationship structure, and that is really cool!\n",
    "\n"
   ]
  },
  {
   "cell_type": "code",
   "execution_count": 10,
   "metadata": {
    "colab": {
     "base_uri": "https://localhost:8080/",
     "height": 35
    },
    "executionInfo": {
     "elapsed": 444,
     "status": "ok",
     "timestamp": 1637269201611,
     "user": {
      "displayName": "Eduardo Passeto",
      "photoUrl": "https://lh3.googleusercontent.com/a-/AOh14GjI6hyWqRLc_tvBbX89lELJagwb0PXyrM8cuapKGQ=s64",
      "userId": "17164463605285505900"
     },
     "user_tz": 180
    },
    "id": "Sd5zid53qaeE",
    "outputId": "211929e1-f150-4878-ac6b-508955cf6852"
   },
   "outputs": [
    {
     "data": {
      "text/plain": [
       "'using pixiedust for fast, flexible, and easier data analysis and experimentation'"
      ]
     },
     "execution_count": 10,
     "metadata": {},
     "output_type": "execute_result"
    }
   ],
   "source": [
    "df_inter.iloc[0]['title']"
   ]
  },
  {
   "cell_type": "code",
   "execution_count": 11,
   "metadata": {
    "colab": {
     "base_uri": "https://localhost:8080/",
     "height": 35
    },
    "executionInfo": {
     "elapsed": 339,
     "status": "ok",
     "timestamp": 1636461339690,
     "user": {
      "displayName": "Eduardo Passeto",
      "photoUrl": "https://lh3.googleusercontent.com/a-/AOh14GjI6hyWqRLc_tvBbX89lELJagwb0PXyrM8cuapKGQ=s64",
      "userId": "17164463605285505900"
     },
     "user_tz": 180
    },
    "id": "4fQh4lafrOxh",
    "outputId": "0a71c7a1-360a-42c5-a4dd-53db9fa972fb"
   },
   "outputs": [
    {
     "data": {
      "text/plain": [
       "'ef5f11f77ba020cd36e1105a00ab868bbdbf7fe7'"
      ]
     },
     "execution_count": 11,
     "metadata": {},
     "output_type": "execute_result"
    }
   ],
   "source": [
    "df_inter.iloc[0]['email']"
   ]
  },
  {
   "cell_type": "markdown",
   "metadata": {
    "id": "0LXb9IQVttYf"
   },
   "source": [
    "This one is a **not so big** dataframe:    \n",
    "\n",
    "- it looks like a **table** from a **database**\n",
    "\n",
    "- it seems to have an ID field and some columns to store speciallized data about **articles**\n",
    "\n",
    "- so, if I want to retrieve data about a specific **article**, this is the right place for seeking for it!"
   ]
  },
  {
   "cell_type": "markdown",
   "metadata": {
    "id": "vl5wN-Fq3wcm"
   },
   "source": [
    "#### Later adding\n",
    "\n",
    "- **remove duplicates** for better access for data, in other parts of the project"
   ]
  },
  {
   "cell_type": "code",
   "execution_count": 12,
   "metadata": {
    "colab": {
     "base_uri": "https://localhost:8080/",
     "height": 354
    },
    "executionInfo": {
     "elapsed": 377,
     "status": "ok",
     "timestamp": 1637439209276,
     "user": {
      "displayName": "Eduardo Passeto",
      "photoUrl": "https://lh3.googleusercontent.com/a-/AOh14GjI6hyWqRLc_tvBbX89lELJagwb0PXyrM8cuapKGQ=s64",
      "userId": "17164463605285505900"
     },
     "user_tz": 180
    },
    "id": "KyhRBuAH3wcn",
    "outputId": "6bc32ad7-89bb-4741-93de-b731835f2ffb"
   },
   "outputs": [
    {
     "name": "stdout",
     "output_type": "stream",
     "text": [
      "###function read data from .csv file started\n",
      "index name set as article_id\n",
      "dataframe created from data/articles_community.csv has 1056 lines and 4 columns\n",
      "elapsed time: 0.7026s\n",
      "articles dataframe now have 1051 entries\n"
     ]
    },
    {
     "data": {
      "text/html": [
       "<div>\n",
       "<style scoped>\n",
       "    .dataframe tbody tr th:only-of-type {\n",
       "        vertical-align: middle;\n",
       "    }\n",
       "\n",
       "    .dataframe tbody tr th {\n",
       "        vertical-align: top;\n",
       "    }\n",
       "\n",
       "    .dataframe thead th {\n",
       "        text-align: right;\n",
       "    }\n",
       "</style>\n",
       "<table border=\"1\" class=\"dataframe\">\n",
       "  <thead>\n",
       "    <tr style=\"text-align: right;\">\n",
       "      <th></th>\n",
       "      <th>doc_body</th>\n",
       "      <th>doc_description</th>\n",
       "      <th>doc_full_name</th>\n",
       "      <th>doc_status</th>\n",
       "    </tr>\n",
       "    <tr>\n",
       "      <th>article_id</th>\n",
       "      <th></th>\n",
       "      <th></th>\n",
       "      <th></th>\n",
       "      <th></th>\n",
       "    </tr>\n",
       "  </thead>\n",
       "  <tbody>\n",
       "    <tr>\n",
       "      <th>0</th>\n",
       "      <td>Skip navigation Sign in SearchLoading...\\r\\n\\r...</td>\n",
       "      <td>Detect bad readings in real time using Python ...</td>\n",
       "      <td>Detect Malfunctioning IoT Sensors with Streami...</td>\n",
       "      <td>Live</td>\n",
       "    </tr>\n",
       "    <tr>\n",
       "      <th>1</th>\n",
       "      <td>No Free Hunch Navigation * kaggle.com\\r\\n\\r\\n ...</td>\n",
       "      <td>See the forest, see the trees. Here lies the c...</td>\n",
       "      <td>Communicating data science: A guide to present...</td>\n",
       "      <td>Live</td>\n",
       "    </tr>\n",
       "    <tr>\n",
       "      <th>2</th>\n",
       "      <td>☰ * Login\\r\\n * Sign Up\\r\\n\\r\\n * Learning Pat...</td>\n",
       "      <td>Here’s this week’s news in Data Science and Bi...</td>\n",
       "      <td>This Week in Data Science (April 18, 2017)</td>\n",
       "      <td>Live</td>\n",
       "    </tr>\n",
       "    <tr>\n",
       "      <th>3</th>\n",
       "      <td>DATALAYER: HIGH THROUGHPUT, LOW LATENCY AT SCA...</td>\n",
       "      <td>Learn how distributed DBs solve the problem of...</td>\n",
       "      <td>DataLayer Conference: Boost the performance of...</td>\n",
       "      <td>Live</td>\n",
       "    </tr>\n",
       "    <tr>\n",
       "      <th>4</th>\n",
       "      <td>Skip navigation Sign in SearchLoading...\\r\\n\\r...</td>\n",
       "      <td>This video demonstrates the power of IBM DataS...</td>\n",
       "      <td>Analyze NY Restaurant data using Spark in DSX</td>\n",
       "      <td>Live</td>\n",
       "    </tr>\n",
       "  </tbody>\n",
       "</table>\n",
       "</div>"
      ],
      "text/plain": [
       "                                                     doc_body  \\\n",
       "article_id                                                      \n",
       "0           Skip navigation Sign in SearchLoading...\\r\\n\\r...   \n",
       "1           No Free Hunch Navigation * kaggle.com\\r\\n\\r\\n ...   \n",
       "2           ☰ * Login\\r\\n * Sign Up\\r\\n\\r\\n * Learning Pat...   \n",
       "3           DATALAYER: HIGH THROUGHPUT, LOW LATENCY AT SCA...   \n",
       "4           Skip navigation Sign in SearchLoading...\\r\\n\\r...   \n",
       "\n",
       "                                              doc_description  \\\n",
       "article_id                                                      \n",
       "0           Detect bad readings in real time using Python ...   \n",
       "1           See the forest, see the trees. Here lies the c...   \n",
       "2           Here’s this week’s news in Data Science and Bi...   \n",
       "3           Learn how distributed DBs solve the problem of...   \n",
       "4           This video demonstrates the power of IBM DataS...   \n",
       "\n",
       "                                                doc_full_name doc_status  \n",
       "article_id                                                                \n",
       "0           Detect Malfunctioning IoT Sensors with Streami...       Live  \n",
       "1           Communicating data science: A guide to present...       Live  \n",
       "2                  This Week in Data Science (April 18, 2017)       Live  \n",
       "3           DataLayer Conference: Boost the performance of...       Live  \n",
       "4               Analyze NY Restaurant data using Spark in DSX       Live  "
      ]
     },
     "execution_count": 12,
     "metadata": {},
     "output_type": "execute_result"
    }
   ],
   "source": [
    "#reading the datasets - part I\n",
    "df_article = udc3.fn_read_data(\n",
    "                 filepath='data/articles_community.csv',\n",
    "                 index=True,\n",
    "                 index_col='article_id',\n",
    "                 remove_noisy_cols=True,\n",
    "                 verbose=True)\n",
    "\n",
    "df_article = df_article[~df_article.index.duplicated()]\n",
    "print('articles dataframe now have {} entries'.format(df_article.shape[0]))\n",
    "df_article.head(5)"
   ]
  },
  {
   "cell_type": "markdown",
   "metadata": {
    "id": "It09Wrg00sPs"
   },
   "source": [
    "### <a class=\"anchor\" id=\"Exploratory-Data-Analysis\">Part I : Exploratory Data Analysis</a>\n",
    "\n",
    "Use the dictionary and cells below to provide some insight into the descriptive statistics of the data.\n",
    "\n",
    "`1.` What is the distribution of how many articles a user interacts with in the dataset?  Provide a visual and descriptive statistics to assist with giving a look at the number of times each user interacts with an article."
   ]
  },
  {
   "cell_type": "markdown",
   "metadata": {
    "id": "tWxvpQMxqZRT"
   },
   "source": [
    "df_inter → is what in SQL is named an **intermediary table**\n",
    "\n",
    "- it documents the relationships between two **main tables** in a dataset\n",
    "\n",
    "- so we have an hipothetical database structure like\n",
    "\n",
    "  - **articles table** Vs **who_readed_what table** Vs **users table** (we don't have this dataframe here!)\n",
    "\n",
    "  - and this one expresses a kind of **n by m** relationships\n",
    "\n",
    "\n",
    "Let´s detail it:"
   ]
  },
  {
   "cell_type": "code",
   "execution_count": 13,
   "metadata": {
    "colab": {
     "base_uri": "https://localhost:8080/",
     "height": 111
    },
    "executionInfo": {
     "elapsed": 351,
     "status": "ok",
     "timestamp": 1636834914355,
     "user": {
      "displayName": "Eduardo Passeto",
      "photoUrl": "https://lh3.googleusercontent.com/a-/AOh14GjI6hyWqRLc_tvBbX89lELJagwb0PXyrM8cuapKGQ=s64",
      "userId": "17164463605285505900"
     },
     "user_tz": 180
    },
    "id": "2xKcP_duqRm-",
    "outputId": "ea456ae5-9777-45c6-b0f6-82f0b751d198"
   },
   "outputs": [
    {
     "data": {
      "text/html": [
       "<div>\n",
       "<style scoped>\n",
       "    .dataframe tbody tr th:only-of-type {\n",
       "        vertical-align: middle;\n",
       "    }\n",
       "\n",
       "    .dataframe tbody tr th {\n",
       "        vertical-align: top;\n",
       "    }\n",
       "\n",
       "    .dataframe thead th {\n",
       "        text-align: right;\n",
       "    }\n",
       "</style>\n",
       "<table border=\"1\" class=\"dataframe\">\n",
       "  <thead>\n",
       "    <tr style=\"text-align: right;\">\n",
       "      <th></th>\n",
       "      <th>title</th>\n",
       "      <th>email</th>\n",
       "    </tr>\n",
       "    <tr>\n",
       "      <th>article_id</th>\n",
       "      <th></th>\n",
       "      <th></th>\n",
       "    </tr>\n",
       "  </thead>\n",
       "  <tbody>\n",
       "    <tr>\n",
       "      <th>1430</th>\n",
       "      <td>using pixiedust for fast, flexible, and easier...</td>\n",
       "      <td>ef5f11f77ba020cd36e1105a00ab868bbdbf7fe7</td>\n",
       "    </tr>\n",
       "  </tbody>\n",
       "</table>\n",
       "</div>"
      ],
      "text/plain": [
       "                                                        title  \\\n",
       "article_id                                                      \n",
       "1430        using pixiedust for fast, flexible, and easier...   \n",
       "\n",
       "                                               email  \n",
       "article_id                                            \n",
       "1430        ef5f11f77ba020cd36e1105a00ab868bbdbf7fe7  "
      ]
     },
     "execution_count": 13,
     "metadata": {},
     "output_type": "execute_result"
    }
   ],
   "source": [
    "df_inter.head(1)"
   ]
  },
  {
   "cell_type": "markdown",
   "metadata": {
    "id": "WbamwqVcbhpl"
   },
   "source": [
    "What reveals that an **user** is unique by his e-mail (in this case, it is encoded by a long hexadecimal code - just to preserve the user privacy)\n"
   ]
  },
  {
   "cell_type": "code",
   "execution_count": 14,
   "metadata": {
    "colab": {
     "base_uri": "https://localhost:8080/"
    },
    "executionInfo": {
     "elapsed": 307,
     "status": "ok",
     "timestamp": 1636834919558,
     "user": {
      "displayName": "Eduardo Passeto",
      "photoUrl": "https://lh3.googleusercontent.com/a-/AOh14GjI6hyWqRLc_tvBbX89lELJagwb0PXyrM8cuapKGQ=s64",
      "userId": "17164463605285505900"
     },
     "user_tz": 180
    },
    "id": "kjnWEfSibXSa",
    "outputId": "e69047ca-4222-4abb-b8f1-f19f467e66cd"
   },
   "outputs": [
    {
     "data": {
      "text/plain": [
       "article_id\n",
       "1430    ef5f11f77ba020cd36e1105a00ab868bbdbf7fe7\n",
       "Name: email, dtype: object"
      ]
     },
     "execution_count": 14,
     "metadata": {},
     "output_type": "execute_result"
    }
   ],
   "source": [
    "df_usr = df_inter['email']\n",
    "df_usr.head(1)"
   ]
  },
  {
   "cell_type": "markdown",
   "metadata": {
    "id": "mGHTDlXVbuhw"
   },
   "source": [
    "Then I can count unique e-mails for each article, and sort them from the most readed article:"
   ]
  },
  {
   "cell_type": "code",
   "execution_count": 15,
   "metadata": {
    "colab": {
     "base_uri": "https://localhost:8080/"
    },
    "executionInfo": {
     "elapsed": 326,
     "status": "ok",
     "timestamp": 1636834922587,
     "user": {
      "displayName": "Eduardo Passeto",
      "photoUrl": "https://lh3.googleusercontent.com/a-/AOh14GjI6hyWqRLc_tvBbX89lELJagwb0PXyrM8cuapKGQ=s64",
      "userId": "17164463605285505900"
     },
     "user_tz": 180
    },
    "id": "92btHb_Qa4h8",
    "outputId": "f212902f-def1-4691-8b7a-29e59efe6024"
   },
   "outputs": [
    {
     "data": {
      "text/plain": [
       "article_id\n",
       "1429    937\n",
       "1330    927\n",
       "1431    671\n",
       "1427    643\n",
       "1364    627\n",
       "1314    614\n",
       "1293    572\n",
       "1170    565\n",
       "1162    512\n",
       "1304    483\n",
       "Name: email, dtype: int64"
      ]
     },
     "execution_count": 15,
     "metadata": {},
     "output_type": "execute_result"
    }
   ],
   "source": [
    "df_usr = df_inter['email']\n",
    "most_readed = df_usr.groupby(by=df_usr.index).count().sort_values(ascending=False)\n",
    "most_readed.head(10)"
   ]
  },
  {
   "cell_type": "markdown",
   "metadata": {
    "id": "eopUxbw9gsDH"
   },
   "source": [
    "Most viewed was **article 1429**\n",
    "\n",
    "Next step, what reveals that an **article** is unique is his id"
   ]
  },
  {
   "cell_type": "code",
   "execution_count": 16,
   "metadata": {
    "colab": {
     "base_uri": "https://localhost:8080/"
    },
    "executionInfo": {
     "elapsed": 306,
     "status": "ok",
     "timestamp": 1636834928218,
     "user": {
      "displayName": "Eduardo Passeto",
      "photoUrl": "https://lh3.googleusercontent.com/a-/AOh14GjI6hyWqRLc_tvBbX89lELJagwb0PXyrM8cuapKGQ=s64",
      "userId": "17164463605285505900"
     },
     "user_tz": 180
    },
    "id": "sYvZtDbLhKHT",
    "outputId": "013f235e-5c5f-44e9-d768-6524f0874903"
   },
   "outputs": [
    {
     "data": {
      "text/plain": [
       "article_id\n",
       "1430    ef5f11f77ba020cd36e1105a00ab868bbdbf7fe7\n",
       "Name: email, dtype: object"
      ]
     },
     "execution_count": 16,
     "metadata": {},
     "output_type": "execute_result"
    }
   ],
   "source": [
    "df_mail = df_inter['email']\n",
    "df_mail.head(1)"
   ]
  },
  {
   "cell_type": "markdown",
   "metadata": {
    "id": "EXKOdbk1o4P-"
   },
   "source": [
    "Counting for different e-mails:"
   ]
  },
  {
   "cell_type": "code",
   "execution_count": 17,
   "metadata": {
    "colab": {
     "base_uri": "https://localhost:8080/"
    },
    "executionInfo": {
     "elapsed": 321,
     "status": "ok",
     "timestamp": 1636834930919,
     "user": {
      "displayName": "Eduardo Passeto",
      "photoUrl": "https://lh3.googleusercontent.com/a-/AOh14GjI6hyWqRLc_tvBbX89lELJagwb0PXyrM8cuapKGQ=s64",
      "userId": "17164463605285505900"
     },
     "user_tz": 180
    },
    "id": "tn9a2JQIkwU7",
    "outputId": "1780d182-343c-4a77-a715-db948d97ce06"
   },
   "outputs": [
    {
     "data": {
      "text/plain": [
       "2b6c0f514c2f2b04ad3c4583407dccd0810469ee    364\n",
       "77959baaa9895a7e2bdc9297f8b27c1b6f2cb52a    363\n",
       "2f5c7feae533ce046f2cb16fb3a29fe00528ed66    170\n",
       "a37adec71b667b297ed2440a9ff7dad427c7ac85    169\n",
       "8510a5010a5d4c89f5b07baac6de80cd12cfaf93    160\n",
       "f8c978bcf2ae2fb8885814a9b85ffef2f54c3c76    158\n",
       "284d0c17905de71e209b376e3309c0b08134f7e2    148\n",
       "18e7255ee311d4bd78f5993a9f09538e459e3fcc    147\n",
       "d9032ff68d0fd45dfd18c0c5f7324619bb55362c    147\n",
       "276d9d8ca0bf52c780b5a3fc554fa69e74f934a3    145\n",
       "Name: email, dtype: int64"
      ]
     },
     "execution_count": 17,
     "metadata": {},
     "output_type": "execute_result"
    }
   ],
   "source": [
    "counting_diver = df_mail.value_counts(ascending=False)\n",
    "counting_diver.head(10)"
   ]
  },
  {
   "cell_type": "markdown",
   "metadata": {
    "id": "oIckQfSKpHfJ"
   },
   "source": [
    "So **user** that most viewed, took **364** different articles\n",
    "\n",
    "Now some stats for **user**:\n",
    "\n",
    "- **5148** different **articles** viewed **by** different **users**\n",
    "\n",
    "- in the **mean**, each user views kind of **9** articles, with a standard deviation of **16.8**\n",
    "\n",
    "- the **minimum** articles that an user viewed is **1** (that looks really reasonable, as this is a **n by m** table, so users that not viewed any articles were **not** recorded in this dataframe!)\n",
    "\n",
    "- first **quartile** upper is 1 (so a lot of users - more than **25%** of them - had his eyes over only **one** article)\n",
    "\n",
    "- second **quartile**  3\n",
    "\n",
    "- third **quartile** median is 3\n",
    "\n",
    "- forth **quartile** lower is 9\n",
    "\n",
    "- the **best** view value is 364\n",
    "\n",
    "What we can infer from these data?\n",
    "\n",
    "1. almost the users (more than 80% had seen **less than 9 articles** - that not seem so good)\n",
    "\n",
    "2. standard deviation is a bit **high** (so I can suppose that kind of few users are responsible for a lot of views - they are really **active**, but in a low number)\n"
   ]
  },
  {
   "cell_type": "code",
   "execution_count": 18,
   "metadata": {
    "colab": {
     "base_uri": "https://localhost:8080/",
     "height": 297
    },
    "executionInfo": {
     "elapsed": 500,
     "status": "ok",
     "timestamp": 1636834939607,
     "user": {
      "displayName": "Eduardo Passeto",
      "photoUrl": "https://lh3.googleusercontent.com/a-/AOh14GjI6hyWqRLc_tvBbX89lELJagwb0PXyrM8cuapKGQ=s64",
      "userId": "17164463605285505900"
     },
     "user_tz": 180
    },
    "id": "wdosv44KsP-b",
    "outputId": "17be0b65-a398-4b4f-f5d9-3271cc71cd2f"
   },
   "outputs": [
    {
     "data": {
      "text/html": [
       "<div>\n",
       "<style scoped>\n",
       "    .dataframe tbody tr th:only-of-type {\n",
       "        vertical-align: middle;\n",
       "    }\n",
       "\n",
       "    .dataframe tbody tr th {\n",
       "        vertical-align: top;\n",
       "    }\n",
       "\n",
       "    .dataframe thead th {\n",
       "        text-align: right;\n",
       "    }\n",
       "</style>\n",
       "<table border=\"1\" class=\"dataframe\">\n",
       "  <thead>\n",
       "    <tr style=\"text-align: right;\">\n",
       "      <th></th>\n",
       "      <th>title</th>\n",
       "    </tr>\n",
       "  </thead>\n",
       "  <tbody>\n",
       "    <tr>\n",
       "      <th>count</th>\n",
       "      <td>5148.000000</td>\n",
       "    </tr>\n",
       "    <tr>\n",
       "      <th>mean</th>\n",
       "      <td>8.930847</td>\n",
       "    </tr>\n",
       "    <tr>\n",
       "      <th>std</th>\n",
       "      <td>16.802267</td>\n",
       "    </tr>\n",
       "    <tr>\n",
       "      <th>min</th>\n",
       "      <td>1.000000</td>\n",
       "    </tr>\n",
       "    <tr>\n",
       "      <th>25%</th>\n",
       "      <td>1.000000</td>\n",
       "    </tr>\n",
       "    <tr>\n",
       "      <th>50%</th>\n",
       "      <td>3.000000</td>\n",
       "    </tr>\n",
       "    <tr>\n",
       "      <th>75%</th>\n",
       "      <td>9.000000</td>\n",
       "    </tr>\n",
       "    <tr>\n",
       "      <th>max</th>\n",
       "      <td>364.000000</td>\n",
       "    </tr>\n",
       "  </tbody>\n",
       "</table>\n",
       "</div>"
      ],
      "text/plain": [
       "             title\n",
       "count  5148.000000\n",
       "mean      8.930847\n",
       "std      16.802267\n",
       "min       1.000000\n",
       "25%       1.000000\n",
       "50%       3.000000\n",
       "75%       9.000000\n",
       "max     364.000000"
      ]
     },
     "execution_count": 18,
     "metadata": {},
     "output_type": "execute_result"
    }
   ],
   "source": [
    "df_inter.groupby(by='email').count().describe()"
   ]
  },
  {
   "cell_type": "markdown",
   "metadata": {
    "id": "0fIwqQdZ1BwV"
   },
   "source": [
    "Counting the articles viewed by each user "
   ]
  },
  {
   "cell_type": "code",
   "execution_count": 19,
   "metadata": {
    "colab": {
     "base_uri": "https://localhost:8080/",
     "height": 246
    },
    "executionInfo": {
     "elapsed": 111,
     "status": "ok",
     "timestamp": 1636810493599,
     "user": {
      "displayName": "Eduardo Passeto",
      "photoUrl": "https://lh3.googleusercontent.com/a-/AOh14GjI6hyWqRLc_tvBbX89lELJagwb0PXyrM8cuapKGQ=s64",
      "userId": "17164463605285505900"
     },
     "user_tz": 180
    },
    "id": "5p0aluYiynJQ",
    "outputId": "3b0fbf34-a3aa-4a60-d63d-01d4a136cce4"
   },
   "outputs": [
    {
     "name": "stdout",
     "output_type": "stream",
     "text": [
      "elapsed time: 0.157903s\n"
     ]
    },
    {
     "data": {
      "image/png": "[encoded data removed]",
      "text/plain": [
       "<Figure size 1008x216 with 1 Axes>"
      ]
     },
     "metadata": {
      "needs_background": "light"
     },
     "output_type": "display_data"
    }
   ],
   "source": [
    "start=time()\n",
    "\n",
    "y_axis = df_inter.groupby('email').count().values\n",
    "\n",
    "end = time()\n",
    "print('elapsed time: {:.6f}s'.format(end-start))\n",
    "\n",
    "#source: matplotlib documentation for plot at\n",
    "#https://matplotlib.org/2.1.1/api/_as_gen/matplotlib.pyplot.plot.html\n",
    "plt.figure(figsize=(14,3))\n",
    "plt.plot(y_axis, color='green')\n",
    "plt.title('User vs articles viewed', fontsize=15)\n",
    "plt.ylabel('articles viewed', fontsize=12)\n",
    "plt.xlabel('user position', fontsize=12);"
   ]
  },
  {
   "cell_type": "code",
   "execution_count": 20,
   "metadata": {
    "id": "yfgGUDjt0sPu"
   },
   "outputs": [],
   "source": [
    "# Fill in the median and maximum number of user_article interactions below\n",
    "median_val = 3 # 50% of individuals interact with 3 of articles or fewer.\n",
    "max_views_by_user = 364 # The maximum number of user-article interactions by any 1 user is 364."
   ]
  },
  {
   "cell_type": "markdown",
   "metadata": {
    "id": "9WsE8_LA0sPv"
   },
   "source": [
    "`2.` Explore and remove duplicate articles from the **df_content** dataframe.  "
   ]
  },
  {
   "cell_type": "code",
   "execution_count": 21,
   "metadata": {
    "colab": {
     "base_uri": "https://localhost:8080/",
     "height": 128
    },
    "executionInfo": {
     "elapsed": 129,
     "status": "ok",
     "timestamp": 1636810493621,
     "user": {
      "displayName": "Eduardo Passeto",
      "photoUrl": "https://lh3.googleusercontent.com/a-/AOh14GjI6hyWqRLc_tvBbX89lELJagwb0PXyrM8cuapKGQ=s64",
      "userId": "17164463605285505900"
     },
     "user_tz": 180
    },
    "id": "FnXlw9Nm0sPv",
    "outputId": "6f73fc39-29b5-44c2-d510-f026a4e7ebee"
   },
   "outputs": [
    {
     "name": "stdout",
     "output_type": "stream",
     "text": [
      "articles dataframe have originally 1051 entries\n"
     ]
    },
    {
     "data": {
      "text/html": [
       "<div>\n",
       "<style scoped>\n",
       "    .dataframe tbody tr th:only-of-type {\n",
       "        vertical-align: middle;\n",
       "    }\n",
       "\n",
       "    .dataframe tbody tr th {\n",
       "        vertical-align: top;\n",
       "    }\n",
       "\n",
       "    .dataframe thead th {\n",
       "        text-align: right;\n",
       "    }\n",
       "</style>\n",
       "<table border=\"1\" class=\"dataframe\">\n",
       "  <thead>\n",
       "    <tr style=\"text-align: right;\">\n",
       "      <th></th>\n",
       "      <th>doc_body</th>\n",
       "      <th>doc_description</th>\n",
       "      <th>doc_full_name</th>\n",
       "      <th>doc_status</th>\n",
       "    </tr>\n",
       "    <tr>\n",
       "      <th>article_id</th>\n",
       "      <th></th>\n",
       "      <th></th>\n",
       "      <th></th>\n",
       "      <th></th>\n",
       "    </tr>\n",
       "  </thead>\n",
       "  <tbody>\n",
       "    <tr>\n",
       "      <th>0</th>\n",
       "      <td>Skip navigation Sign in SearchLoading...\\r\\n\\r...</td>\n",
       "      <td>Detect bad readings in real time using Python ...</td>\n",
       "      <td>Detect Malfunctioning IoT Sensors with Streami...</td>\n",
       "      <td>Live</td>\n",
       "    </tr>\n",
       "  </tbody>\n",
       "</table>\n",
       "</div>"
      ],
      "text/plain": [
       "                                                     doc_body  \\\n",
       "article_id                                                      \n",
       "0           Skip navigation Sign in SearchLoading...\\r\\n\\r...   \n",
       "\n",
       "                                              doc_description  \\\n",
       "article_id                                                      \n",
       "0           Detect bad readings in real time using Python ...   \n",
       "\n",
       "                                                doc_full_name doc_status  \n",
       "article_id                                                                \n",
       "0           Detect Malfunctioning IoT Sensors with Streami...       Live  "
      ]
     },
     "execution_count": 21,
     "metadata": {},
     "output_type": "execute_result"
    }
   ],
   "source": [
    "print('articles dataframe have originally {} entries'.format(df_article.shape[0]))\n",
    "df_article.head(1)"
   ]
  },
  {
   "cell_type": "markdown",
   "metadata": {
    "id": "kpTHL4GC7bHL"
   },
   "source": [
    "Finding duplicates:\n",
    "\n",
    "- Pandas function in [documentation](https://pandas.pydata.org/docs/reference/api/pandas.DataFrame.duplicated.html)"
   ]
  },
  {
   "cell_type": "code",
   "execution_count": 22,
   "metadata": {
    "colab": {
     "base_uri": "https://localhost:8080/",
     "height": 235
    },
    "executionInfo": {
     "elapsed": 122,
     "status": "ok",
     "timestamp": 1636810493622,
     "user": {
      "displayName": "Eduardo Passeto",
      "photoUrl": "https://lh3.googleusercontent.com/a-/AOh14GjI6hyWqRLc_tvBbX89lELJagwb0PXyrM8cuapKGQ=s64",
      "userId": "17164463605285505900"
     },
     "user_tz": 180
    },
    "id": "zoeDWuhM7Azy",
    "outputId": "e3ee984f-3c8f-407c-dd52-1416cd0de64d"
   },
   "outputs": [
    {
     "data": {
      "text/html": [
       "<div>\n",
       "<style scoped>\n",
       "    .dataframe tbody tr th:only-of-type {\n",
       "        vertical-align: middle;\n",
       "    }\n",
       "\n",
       "    .dataframe tbody tr th {\n",
       "        vertical-align: top;\n",
       "    }\n",
       "\n",
       "    .dataframe thead th {\n",
       "        text-align: right;\n",
       "    }\n",
       "</style>\n",
       "<table border=\"1\" class=\"dataframe\">\n",
       "  <thead>\n",
       "    <tr style=\"text-align: right;\">\n",
       "      <th></th>\n",
       "      <th>doc_body</th>\n",
       "      <th>doc_description</th>\n",
       "      <th>doc_full_name</th>\n",
       "      <th>doc_status</th>\n",
       "    </tr>\n",
       "    <tr>\n",
       "      <th>article_id</th>\n",
       "      <th></th>\n",
       "      <th></th>\n",
       "      <th></th>\n",
       "      <th></th>\n",
       "    </tr>\n",
       "  </thead>\n",
       "  <tbody>\n",
       "  </tbody>\n",
       "</table>\n",
       "</div>"
      ],
      "text/plain": [
       "Empty DataFrame\n",
       "Columns: [doc_body, doc_description, doc_full_name, doc_status]\n",
       "Index: []"
      ]
     },
     "execution_count": 22,
     "metadata": {},
     "output_type": "execute_result"
    }
   ],
   "source": [
    "df_article[df_article.index.duplicated()]"
   ]
  },
  {
   "cell_type": "code",
   "execution_count": 23,
   "metadata": {
    "colab": {
     "base_uri": "https://localhost:8080/",
     "height": 128
    },
    "executionInfo": {
     "elapsed": 737,
     "status": "ok",
     "timestamp": 1636810494239,
     "user": {
      "displayName": "Eduardo Passeto",
      "photoUrl": "https://lh3.googleusercontent.com/a-/AOh14GjI6hyWqRLc_tvBbX89lELJagwb0PXyrM8cuapKGQ=s64",
      "userId": "17164463605285505900"
     },
     "user_tz": 180
    },
    "id": "84w2jg7c0sPv",
    "outputId": "0e9eafbe-780d-4e86-a4ef-0bc7d5cacfa5"
   },
   "outputs": [
    {
     "name": "stdout",
     "output_type": "stream",
     "text": [
      "articles dataframe have now 1051 entries\n"
     ]
    },
    {
     "data": {
      "text/html": [
       "<div>\n",
       "<style scoped>\n",
       "    .dataframe tbody tr th:only-of-type {\n",
       "        vertical-align: middle;\n",
       "    }\n",
       "\n",
       "    .dataframe tbody tr th {\n",
       "        vertical-align: top;\n",
       "    }\n",
       "\n",
       "    .dataframe thead th {\n",
       "        text-align: right;\n",
       "    }\n",
       "</style>\n",
       "<table border=\"1\" class=\"dataframe\">\n",
       "  <thead>\n",
       "    <tr style=\"text-align: right;\">\n",
       "      <th></th>\n",
       "      <th>doc_body</th>\n",
       "      <th>doc_description</th>\n",
       "      <th>doc_full_name</th>\n",
       "      <th>doc_status</th>\n",
       "    </tr>\n",
       "    <tr>\n",
       "      <th>article_id</th>\n",
       "      <th></th>\n",
       "      <th></th>\n",
       "      <th></th>\n",
       "      <th></th>\n",
       "    </tr>\n",
       "  </thead>\n",
       "  <tbody>\n",
       "    <tr>\n",
       "      <th>0</th>\n",
       "      <td>Skip navigation Sign in SearchLoading...\\r\\n\\r...</td>\n",
       "      <td>Detect bad readings in real time using Python ...</td>\n",
       "      <td>Detect Malfunctioning IoT Sensors with Streami...</td>\n",
       "      <td>Live</td>\n",
       "    </tr>\n",
       "  </tbody>\n",
       "</table>\n",
       "</div>"
      ],
      "text/plain": [
       "                                                     doc_body  \\\n",
       "article_id                                                      \n",
       "0           Skip navigation Sign in SearchLoading...\\r\\n\\r...   \n",
       "\n",
       "                                              doc_description  \\\n",
       "article_id                                                      \n",
       "0           Detect bad readings in real time using Python ...   \n",
       "\n",
       "                                                doc_full_name doc_status  \n",
       "article_id                                                                \n",
       "0           Detect Malfunctioning IoT Sensors with Streami...       Live  "
      ]
     },
     "execution_count": 23,
     "metadata": {},
     "output_type": "execute_result"
    }
   ],
   "source": [
    "df_article = df_article[~df_article.index.duplicated()]\n",
    "print('articles dataframe have now {} entries'.format(df_article.shape[0]))\n",
    "df_article.head(1)"
   ]
  },
  {
   "cell_type": "markdown",
   "metadata": {
    "id": "LpYpb8C80sPw"
   },
   "source": [
    "`3.` Use the cells below to find:\n",
    "\n",
    "**a.** The number of unique articles that have an interaction with a user."
   ]
  },
  {
   "cell_type": "code",
   "execution_count": 24,
   "metadata": {
    "colab": {
     "base_uri": "https://localhost:8080/"
    },
    "executionInfo": {
     "elapsed": 230,
     "status": "ok",
     "timestamp": 1636810494241,
     "user": {
      "displayName": "Eduardo Passeto",
      "photoUrl": "https://lh3.googleusercontent.com/a-/AOh14GjI6hyWqRLc_tvBbX89lELJagwb0PXyrM8cuapKGQ=s64",
      "userId": "17164463605285505900"
     },
     "user_tz": 180
    },
    "id": "8ak59ffw0sPw",
    "outputId": "1269ff3b-fdaa-4bb7-e94f-6d8f5a60c486"
   },
   "outputs": [
    {
     "data": {
      "text/plain": [
       "714"
      ]
     },
     "execution_count": 24,
     "metadata": {},
     "output_type": "execute_result"
    }
   ],
   "source": [
    "len(set(df_inter.index))\n"
   ]
  },
  {
   "cell_type": "markdown",
   "metadata": {
    "id": "B73YefIO9EXs"
   },
   "source": [
    "**b.** The number of unique articles in the dataset (whether they have any interactions or not).<br>"
   ]
  },
  {
   "cell_type": "code",
   "execution_count": 25,
   "metadata": {
    "colab": {
     "base_uri": "https://localhost:8080/"
    },
    "executionInfo": {
     "elapsed": 238,
     "status": "ok",
     "timestamp": 1636810494255,
     "user": {
      "displayName": "Eduardo Passeto",
      "photoUrl": "https://lh3.googleusercontent.com/a-/AOh14GjI6hyWqRLc_tvBbX89lELJagwb0PXyrM8cuapKGQ=s64",
      "userId": "17164463605285505900"
     },
     "user_tz": 180
    },
    "id": "pWReauPy9JPc",
    "outputId": "f9ac77d1-3aad-4736-de8c-386bf313d437"
   },
   "outputs": [
    {
     "data": {
      "text/plain": [
       "1051"
      ]
     },
     "execution_count": 25,
     "metadata": {},
     "output_type": "execute_result"
    }
   ],
   "source": [
    "df_article.shape[0]"
   ]
  },
  {
   "cell_type": "markdown",
   "metadata": {
    "id": "_qzX--os9KS9"
   },
   "source": [
    "**c.** The number of unique users in the dataset. (excluding null values) <br>"
   ]
  },
  {
   "cell_type": "code",
   "execution_count": 26,
   "metadata": {
    "colab": {
     "base_uri": "https://localhost:8080/"
    },
    "executionInfo": {
     "elapsed": 232,
     "status": "ok",
     "timestamp": 1636810494256,
     "user": {
      "displayName": "Eduardo Passeto",
      "photoUrl": "https://lh3.googleusercontent.com/a-/AOh14GjI6hyWqRLc_tvBbX89lELJagwb0PXyrM8cuapKGQ=s64",
      "userId": "17164463605285505900"
     },
     "user_tz": 180
    },
    "id": "shNblT0KKDpE",
    "outputId": "ffbb78a4-e0c7-4500-c3ae-83a684580bf1"
   },
   "outputs": [
    {
     "name": "stdout",
     "output_type": "stream",
     "text": [
      "*an invalid user ID was found: nan\n"
     ]
    }
   ],
   "source": [
    "#my little test to catch this little Joker over here...\n",
    "#based on this article (not without some  blood, sweat and tears)\n",
    "#https://appdividend.com/2019/08/16/null-object-in-python-example-python-null-value-tutorial/#:~:text=There's%20no%20null%20in%20Python,use%20a%20None%20value%20(types.\n",
    "users = set(df_inter['email'])\n",
    "for user in users:\n",
    "    try: \n",
    "        if len(user) == 0:\n",
    "            print('*an empty user was found:', user)\n",
    "    except TypeError:\n",
    "        print('*an invalid user ID was found:', user)"
   ]
  },
  {
   "cell_type": "code",
   "execution_count": 27,
   "metadata": {
    "colab": {
     "base_uri": "https://localhost:8080/"
    },
    "executionInfo": {
     "elapsed": 230,
     "status": "ok",
     "timestamp": 1636810494258,
     "user": {
      "displayName": "Eduardo Passeto",
      "photoUrl": "https://lh3.googleusercontent.com/a-/AOh14GjI6hyWqRLc_tvBbX89lELJagwb0PXyrM8cuapKGQ=s64",
      "userId": "17164463605285505900"
     },
     "user_tz": 180
    },
    "id": "dDWedSYU9MtV",
    "outputId": "d916b7c9-6a96-4d09-d329-0fefe4855b99"
   },
   "outputs": [
    {
     "data": {
      "text/plain": [
       "5148"
      ]
     },
     "execution_count": 27,
     "metadata": {},
     "output_type": "execute_result"
    }
   ],
   "source": [
    "len(users) - 1"
   ]
  },
  {
   "cell_type": "markdown",
   "metadata": {
    "id": "ySSIPZ2v9NUT"
   },
   "source": [
    "**d.** The number of user-article interactions in the dataset."
   ]
  },
  {
   "cell_type": "code",
   "execution_count": 28,
   "metadata": {
    "colab": {
     "base_uri": "https://localhost:8080/"
    },
    "executionInfo": {
     "elapsed": 226,
     "status": "ok",
     "timestamp": 1636810494259,
     "user": {
      "displayName": "Eduardo Passeto",
      "photoUrl": "https://lh3.googleusercontent.com/a-/AOh14GjI6hyWqRLc_tvBbX89lELJagwb0PXyrM8cuapKGQ=s64",
      "userId": "17164463605285505900"
     },
     "user_tz": 180
    },
    "id": "Dgzcba-b9PBH",
    "outputId": "e87f6158-0351-464f-ed8a-9ee3c459dc55"
   },
   "outputs": [
    {
     "data": {
      "text/plain": [
       "45993"
      ]
     },
     "execution_count": 28,
     "metadata": {},
     "output_type": "execute_result"
    }
   ],
   "source": [
    "df_inter.shape[0]"
   ]
  },
  {
   "cell_type": "code",
   "execution_count": 29,
   "metadata": {
    "id": "MbF7JUPl0sPw"
   },
   "outputs": [],
   "source": [
    "unique_articles = 714 # The number of unique articles that have at least one interaction\n",
    "total_articles = 1051 # The number of unique articles on the IBM platform\n",
    "unique_users = 5148 # The number of unique users\n",
    "user_article_interactions = 45993 # The number of user-article interactions"
   ]
  },
  {
   "cell_type": "markdown",
   "metadata": {
    "id": "V5GVrsj60sPx"
   },
   "source": [
    "`4.` Use the cells below to find the most viewed **article_id**, as well as how often it was viewed.  After talking to the company leaders, the `email_mapper` function was deemed a reasonable way to map users to ids.  There were a small number of null values, and it was found that all of these null values likely belonged to a single user (which is how they are stored using the function below)."
   ]
  },
  {
   "cell_type": "code",
   "execution_count": 30,
   "metadata": {
    "colab": {
     "base_uri": "https://localhost:8080/"
    },
    "executionInfo": {
     "elapsed": 205,
     "status": "ok",
     "timestamp": 1636810494262,
     "user": {
      "displayName": "Eduardo Passeto",
      "photoUrl": "https://lh3.googleusercontent.com/a-/AOh14GjI6hyWqRLc_tvBbX89lELJagwb0PXyrM8cuapKGQ=s64",
      "userId": "17164463605285505900"
     },
     "user_tz": 180
    },
    "id": "Q0P6FQg60rQg",
    "outputId": "d92dcae3-bd35-4746-f9a1-d50f14e482af"
   },
   "outputs": [
    {
     "data": {
      "text/plain": [
       "article_id\n",
       "1429    937\n",
       "1330    927\n",
       "1431    671\n",
       "1427    643\n",
       "1364    627\n",
       "1314    614\n",
       "1293    572\n",
       "1170    565\n",
       "1162    512\n",
       "1304    483\n",
       "Name: email, dtype: int64"
      ]
     },
     "execution_count": 30,
     "metadata": {},
     "output_type": "execute_result"
    }
   ],
   "source": [
    "df_usr = df_inter['email']\n",
    "most_readed = df_usr.groupby(by=df_usr.index).count().sort_values(ascending=False)\n",
    "most_readed.head(10)"
   ]
  },
  {
   "cell_type": "code",
   "execution_count": 31,
   "metadata": {
    "id": "oIoOIo--0sPx"
   },
   "outputs": [],
   "source": [
    "most_viewed_article_id = '1429.0' \n",
    "# The most viewed article in the dataset as a string with one value following the decimal \n",
    "max_views = 937 # The most viewed article in the dataset was viewed how many times?"
   ]
  },
  {
   "cell_type": "code",
   "execution_count": 32,
   "metadata": {
    "id": "b7DtgYNa0sPy"
   },
   "outputs": [],
   "source": [
    "## No need to change the code here - this will be helpful for later parts of the notebook\n",
    "# Run this cell to map the user email to a user_id column and remove the email column\n",
    "#########1#########2#########3#########4#########5#########6#########7#########8\n",
    "def fn_email_mapper(df_input,\n",
    "                    verbose=False):\n",
    "    '''This function maps the user e-mail to a user ID. Then e-mail column will\n",
    "    be removed. This is a standard function on this notebook\n",
    "    Inputs:\n",
    "      - df_input (mandatory) - your relationship dataframe (Pandas Dataframe)\n",
    "      - verbose (optional) - if you want some verbosity on this process, please\n",
    "      turn it on (default=False)\n",
    "    Output:\n",
    "      - df_output - your relationship dataframe, modified (Pandas Dataframe)\n",
    "    '''\n",
    "    if verbose:\n",
    "      print('###e-mail mapper function started')\n",
    "    #just to prevent modifying the original dataframe  \n",
    "    df_output = df_input.copy()#deep=True)\n",
    "    coded_dict = dict()\n",
    "    cter = 1\n",
    "    ls_encoded = []\n",
    "    \n",
    "    for val in df_output['email']:\n",
    "        #if verbose:\n",
    "        #    print('iteration')\n",
    "        if val not in coded_dict:\n",
    "            if verbose:\n",
    "              print('*for value {} it was append {}'.format(val, cter))\n",
    "            coded_dict[val] = cter\n",
    "            cter+=1\n",
    "        ls_encoded.append(str(coded_dict[val]))\n",
    "\n",
    "    #exclude old column and add the new one\n",
    "    del df_output['email']\n",
    "    df_output['user_id'] = ls_encoded    \n",
    "\n",
    "    return df_output"
   ]
  },
  {
   "cell_type": "markdown",
   "metadata": {
    "id": "YOMTfgIX5iWC"
   },
   "source": [
    "function `df_inter_enc` created!"
   ]
  },
  {
   "cell_type": "code",
   "execution_count": 33,
   "metadata": {
    "id": "_MFtVTLB5Ls-"
   },
   "outputs": [],
   "source": [
    "df_inter_enc = udc3.fn_email_mapper(\n",
    "                   df_input=df_inter,\n",
    "                   verbose=False\n",
    ")"
   ]
  },
  {
   "cell_type": "markdown",
   "metadata": {
    "id": "wcuPe6dk5w21"
   },
   "source": [
    "Only run this if you need to run it locally:"
   ]
  },
  {
   "cell_type": "code",
   "execution_count": 34,
   "metadata": {
    "id": "hyVP_K0t5Hq2"
   },
   "outputs": [],
   "source": [
    "#df_inter_enc = fn_email_mapper(\n",
    "#                   df_input=df_inter,\n",
    "#                   verbose=False)"
   ]
  },
  {
   "cell_type": "code",
   "execution_count": 35,
   "metadata": {
    "colab": {
     "base_uri": "https://localhost:8080/",
     "height": 235
    },
    "executionInfo": {
     "elapsed": 200,
     "status": "ok",
     "timestamp": 1636810494267,
     "user": {
      "displayName": "Eduardo Passeto",
      "photoUrl": "https://lh3.googleusercontent.com/a-/AOh14GjI6hyWqRLc_tvBbX89lELJagwb0PXyrM8cuapKGQ=s64",
      "userId": "17164463605285505900"
     },
     "user_tz": 180
    },
    "id": "Hsa3d0su59Sq",
    "outputId": "655e45c7-9013-4df6-d2ef-952f2ec1aeda"
   },
   "outputs": [
    {
     "data": {
      "text/html": [
       "<div>\n",
       "<style scoped>\n",
       "    .dataframe tbody tr th:only-of-type {\n",
       "        vertical-align: middle;\n",
       "    }\n",
       "\n",
       "    .dataframe tbody tr th {\n",
       "        vertical-align: top;\n",
       "    }\n",
       "\n",
       "    .dataframe thead th {\n",
       "        text-align: right;\n",
       "    }\n",
       "</style>\n",
       "<table border=\"1\" class=\"dataframe\">\n",
       "  <thead>\n",
       "    <tr style=\"text-align: right;\">\n",
       "      <th></th>\n",
       "      <th>title</th>\n",
       "      <th>user_id</th>\n",
       "    </tr>\n",
       "    <tr>\n",
       "      <th>article_id</th>\n",
       "      <th></th>\n",
       "      <th></th>\n",
       "    </tr>\n",
       "  </thead>\n",
       "  <tbody>\n",
       "    <tr>\n",
       "      <th>1324</th>\n",
       "      <td>ibm watson facebook posts for 2015</td>\n",
       "      <td>5146</td>\n",
       "    </tr>\n",
       "    <tr>\n",
       "      <th>142</th>\n",
       "      <td>neural networks for beginners: popular types a...</td>\n",
       "      <td>5146</td>\n",
       "    </tr>\n",
       "    <tr>\n",
       "      <th>233</th>\n",
       "      <td>bayesian nonparametric models – stats and bots</td>\n",
       "      <td>5147</td>\n",
       "    </tr>\n",
       "    <tr>\n",
       "      <th>1160</th>\n",
       "      <td>analyze accident reports on amazon emr spark</td>\n",
       "      <td>5148</td>\n",
       "    </tr>\n",
       "    <tr>\n",
       "      <th>16</th>\n",
       "      <td>higher-order logistic regression for large dat...</td>\n",
       "      <td>5149</td>\n",
       "    </tr>\n",
       "  </tbody>\n",
       "</table>\n",
       "</div>"
      ],
      "text/plain": [
       "                                                        title user_id\n",
       "article_id                                                           \n",
       "1324                       ibm watson facebook posts for 2015    5146\n",
       "142         neural networks for beginners: popular types a...    5146\n",
       "233            bayesian nonparametric models – stats and bots    5147\n",
       "1160             analyze accident reports on amazon emr spark    5148\n",
       "16          higher-order logistic regression for large dat...    5149"
      ]
     },
     "execution_count": 35,
     "metadata": {},
     "output_type": "execute_result"
    }
   ],
   "source": [
    "df_inter_enc.tail(5)"
   ]
  },
  {
   "cell_type": "code",
   "execution_count": 36,
   "metadata": {
    "colab": {
     "base_uri": "https://localhost:8080/"
    },
    "executionInfo": {
     "elapsed": 199,
     "status": "ok",
     "timestamp": 1636810494268,
     "user": {
      "displayName": "Eduardo Passeto",
      "photoUrl": "https://lh3.googleusercontent.com/a-/AOh14GjI6hyWqRLc_tvBbX89lELJagwb0PXyrM8cuapKGQ=s64",
      "userId": "17164463605285505900"
     },
     "user_tz": 180
    },
    "id": "J9f7EGXG0sPy",
    "outputId": "a25e5554-eb7c-42af-b036-7be55eb3751a"
   },
   "outputs": [
    {
     "name": "stdout",
     "output_type": "stream",
     "text": [
      "It looks like you have everything right here! Nice job!\n"
     ]
    }
   ],
   "source": [
    "## If you stored all your results in the variable names above, \n",
    "## you shouldn't need to change anything in this cell\n",
    "\n",
    "sol_1_dict = {\n",
    "    '`50% of individuals have _____ or fewer interactions.`': median_val,\n",
    "    '`The total number of user-article interactions in the dataset is ______.`': user_article_interactions,\n",
    "    '`The maximum number of user-article interactions by any 1 user is ______.`': max_views_by_user,\n",
    "    '`The most viewed article in the dataset was viewed _____ times.`': max_views,\n",
    "    '`The article_id of the most viewed article is ______.`': most_viewed_article_id,\n",
    "    '`The number of unique articles that have at least 1 rating ______.`': unique_articles,\n",
    "    '`The number of unique users in the dataset is ______`': unique_users,\n",
    "    '`The number of unique articles on the IBM platform`': total_articles\n",
    "}\n",
    "\n",
    "# Test your dictionary against the solution\n",
    "t.sol_1_test(sol_1_dict)"
   ]
  },
  {
   "cell_type": "markdown",
   "metadata": {
    "id": "rjDZ60U-0sPy"
   },
   "source": [
    "### <a class=\"anchor\" id=\"Rank\">Part II: Rank-Based Recommendations</a>\n",
    "\n",
    "Unlike in the earlier lessons, we don't actually have ratings for whether a user liked an article or not.  We only know that a user has interacted with an article.  In these cases, the popularity of an article can really only be based on how often an article was interacted with.\n",
    "\n",
    "`1.` Fill in the function below to return the **n** top articles ordered with most interactions as the top. Test your function using the tests below."
   ]
  },
  {
   "cell_type": "code",
   "execution_count": 37,
   "metadata": {
    "colab": {
     "base_uri": "https://localhost:8080/",
     "height": 111
    },
    "executionInfo": {
     "elapsed": 186,
     "status": "ok",
     "timestamp": 1636810494269,
     "user": {
      "displayName": "Eduardo Passeto",
      "photoUrl": "https://lh3.googleusercontent.com/a-/AOh14GjI6hyWqRLc_tvBbX89lELJagwb0PXyrM8cuapKGQ=s64",
      "userId": "17164463605285505900"
     },
     "user_tz": 180
    },
    "id": "MLqynDZywat8",
    "outputId": "26acd43b-bf28-4e68-a1c2-7123bf39d3f8"
   },
   "outputs": [
    {
     "data": {
      "text/html": [
       "<div>\n",
       "<style scoped>\n",
       "    .dataframe tbody tr th:only-of-type {\n",
       "        vertical-align: middle;\n",
       "    }\n",
       "\n",
       "    .dataframe tbody tr th {\n",
       "        vertical-align: top;\n",
       "    }\n",
       "\n",
       "    .dataframe thead th {\n",
       "        text-align: right;\n",
       "    }\n",
       "</style>\n",
       "<table border=\"1\" class=\"dataframe\">\n",
       "  <thead>\n",
       "    <tr style=\"text-align: right;\">\n",
       "      <th></th>\n",
       "      <th>title</th>\n",
       "      <th>user_id</th>\n",
       "    </tr>\n",
       "    <tr>\n",
       "      <th>article_id</th>\n",
       "      <th></th>\n",
       "      <th></th>\n",
       "    </tr>\n",
       "  </thead>\n",
       "  <tbody>\n",
       "    <tr>\n",
       "      <th>1430</th>\n",
       "      <td>using pixiedust for fast, flexible, and easier...</td>\n",
       "      <td>1</td>\n",
       "    </tr>\n",
       "  </tbody>\n",
       "</table>\n",
       "</div>"
      ],
      "text/plain": [
       "                                                        title user_id\n",
       "article_id                                                           \n",
       "1430        using pixiedust for fast, flexible, and easier...       1"
      ]
     },
     "execution_count": 37,
     "metadata": {},
     "output_type": "execute_result"
    }
   ],
   "source": [
    "df_inter_enc.head(1)"
   ]
  },
  {
   "cell_type": "code",
   "execution_count": 38,
   "metadata": {
    "colab": {
     "base_uri": "https://localhost:8080/"
    },
    "executionInfo": {
     "elapsed": 186,
     "status": "ok",
     "timestamp": 1636810494271,
     "user": {
      "displayName": "Eduardo Passeto",
      "photoUrl": "https://lh3.googleusercontent.com/a-/AOh14GjI6hyWqRLc_tvBbX89lELJagwb0PXyrM8cuapKGQ=s64",
      "userId": "17164463605285505900"
     },
     "user_tz": 180
    },
    "id": "UK4NrfISwnq_",
    "outputId": "f2fdf3f9-c3fe-4ba0-c0e7-4ad29e158790"
   },
   "outputs": [
    {
     "data": {
      "text/plain": [
       "title      object\n",
       "user_id    object\n",
       "dtype: object"
      ]
     },
     "execution_count": 38,
     "metadata": {},
     "output_type": "execute_result"
    }
   ],
   "source": [
    "df_inter_enc.dtypes"
   ]
  },
  {
   "cell_type": "markdown",
   "metadata": {
    "id": "KGzU-1TmyFCJ"
   },
   "source": [
    "Only to see in another way:    \n"
   ]
  },
  {
   "cell_type": "code",
   "execution_count": 39,
   "metadata": {
    "colab": {
     "base_uri": "https://localhost:8080/"
    },
    "executionInfo": {
     "elapsed": 181,
     "status": "ok",
     "timestamp": 1636810494272,
     "user": {
      "displayName": "Eduardo Passeto",
      "photoUrl": "https://lh3.googleusercontent.com/a-/AOh14GjI6hyWqRLc_tvBbX89lELJagwb0PXyrM8cuapKGQ=s64",
      "userId": "17164463605285505900"
     },
     "user_tz": 180
    },
    "id": "iK_GUYYmN_m3",
    "outputId": "4c8fdba3-c292-4036-9ac9-a8663dbdfc39"
   },
   "outputs": [
    {
     "name": "stdout",
     "output_type": "stream",
     "text": [
      "<class 'pandas.core.frame.DataFrame'>\n",
      "Int64Index: 45993 entries, 1430 to 16\n",
      "Data columns (total 2 columns):\n",
      " #   Column   Non-Null Count  Dtype \n",
      "---  ------   --------------  ----- \n",
      " 0   title    45993 non-null  object\n",
      " 1   user_id  45993 non-null  object\n",
      "dtypes: object(2)\n",
      "memory usage: 2.1+ MB\n"
     ]
    }
   ],
   "source": [
    "df_inter_enc.info()"
   ]
  },
  {
   "cell_type": "code",
   "execution_count": 40,
   "metadata": {
    "colab": {
     "base_uri": "https://localhost:8080/"
    },
    "executionInfo": {
     "elapsed": 180,
     "status": "ok",
     "timestamp": 1636810494273,
     "user": {
      "displayName": "Eduardo Passeto",
      "photoUrl": "https://lh3.googleusercontent.com/a-/AOh14GjI6hyWqRLc_tvBbX89lELJagwb0PXyrM8cuapKGQ=s64",
      "userId": "17164463605285505900"
     },
     "user_tz": 180
    },
    "id": "hhMSK-_ZyUg_",
    "outputId": "392876f6-684c-4c23-f7ff-166c4e11c0ed"
   },
   "outputs": [
    {
     "data": {
      "text/plain": [
       "use deep learning for image classification                            937\n",
       "insights from new york car accident reports                           927\n",
       "visualize car data with brunel                                        671\n",
       "use xgboost, scikit-learn & ibm watson machine learning apis          643\n",
       "predicting churn with the spss random tree algorithm                  627\n",
       "healthcare python streaming application demo                          614\n",
       "finding optimal locations of new store using decision optimization    572\n",
       "apache spark lab, part 1: basic concepts                              565\n",
       "analyze energy consumption in buildings                               512\n",
       "gosales transactions for logistic regression model                    483\n",
       "Name: title, dtype: int64"
      ]
     },
     "execution_count": 40,
     "metadata": {},
     "output_type": "execute_result"
    }
   ],
   "source": [
    "df_inter_enc['title'].value_counts()[:10]"
   ]
  },
  {
   "cell_type": "code",
   "execution_count": 41,
   "metadata": {
    "colab": {
     "base_uri": "https://localhost:8080/"
    },
    "executionInfo": {
     "elapsed": 128,
     "status": "ok",
     "timestamp": 1636810494274,
     "user": {
      "displayName": "Eduardo Passeto",
      "photoUrl": "https://lh3.googleusercontent.com/a-/AOh14GjI6hyWqRLc_tvBbX89lELJagwb0PXyrM8cuapKGQ=s64",
      "userId": "17164463605285505900"
     },
     "user_tz": 180
    },
    "id": "1VK3WJMM-JmE",
    "outputId": "5f8784f2-61ab-4a84-a975-b804b06a7cdb"
   },
   "outputs": [
    {
     "data": {
      "text/plain": [
       "1429    937\n",
       "1330    927\n",
       "1431    671\n",
       "1427    643\n",
       "1364    627\n",
       "1314    614\n",
       "1293    572\n",
       "1170    565\n",
       "1162    512\n",
       "1304    483\n",
       "Name: article_id, dtype: int64"
      ]
     },
     "execution_count": 41,
     "metadata": {},
     "output_type": "execute_result"
    }
   ],
   "source": [
    "df_inter_enc.index.value_counts()[:10]#.index.tolist()"
   ]
  },
  {
   "cell_type": "markdown",
   "metadata": {
    "id": "6YDsctzw1Uwg"
   },
   "source": [
    "Why to return an **Index** instead of just a **List**?\n",
    "\n",
    "- basically they are the same thing, an object carrying some text strings\n",
    "\n",
    "- but, just imagine that in this case, each of these strings can be used to **retrieve data** from a dataframe. And in this case, an **Index** normally is recommended, instead of just using a List. "
   ]
  },
  {
   "cell_type": "code",
   "execution_count": 42,
   "metadata": {
    "colab": {
     "base_uri": "https://localhost:8080/"
    },
    "executionInfo": {
     "elapsed": 128,
     "status": "ok",
     "timestamp": 1636810494276,
     "user": {
      "displayName": "Eduardo Passeto",
      "photoUrl": "https://lh3.googleusercontent.com/a-/AOh14GjI6hyWqRLc_tvBbX89lELJagwb0PXyrM8cuapKGQ=s64",
      "userId": "17164463605285505900"
     },
     "user_tz": 180
    },
    "id": "zZYuLfGKOAo2",
    "outputId": "b78a6e16-f996-48a7-acd1-632e3aefed5c"
   },
   "outputs": [
    {
     "data": {
      "text/plain": [
       "Index(['use deep learning for image classification',\n",
       "       'insights from new york car accident reports',\n",
       "       'visualize car data with brunel',\n",
       "       'use xgboost, scikit-learn & ibm watson machine learning apis',\n",
       "       'predicting churn with the spss random tree algorithm',\n",
       "       'healthcare python streaming application demo',\n",
       "       'finding optimal locations of new store using decision optimization',\n",
       "       'apache spark lab, part 1: basic concepts',\n",
       "       'analyze energy consumption in buildings',\n",
       "       'gosales transactions for logistic regression model'],\n",
       "      dtype='object')"
      ]
     },
     "execution_count": 42,
     "metadata": {},
     "output_type": "execute_result"
    }
   ],
   "source": [
    "df_inter_enc['title'].value_counts()[:10].index"
   ]
  },
  {
   "cell_type": "markdown",
   "metadata": {
    "id": "Xi05dMuO2M_4"
   },
   "source": [
    "Just observe another thing. I allways use **singular** to designate variables. Why? In the past, we used to program in very, very old computers, that run Pascal 3. So you needed to do a lot of steps before having something to test. And then you messed a single variable, just because you stucked in designating it \"dogs\" and not \"dog\". And in the middle of a lot of messy code, you forgot and called it by the singular! So, this is an only short story, but for the same reason I like to start my functions with this weird **fn_** prefix, just to remember that I am calling my own function (and not a kind of a special command in my programming language). "
   ]
  },
  {
   "cell_type": "code",
   "execution_count": 43,
   "metadata": {
    "id": "4hEbuN1j0sPz"
   },
   "outputs": [],
   "source": [
    "#########1#########2#########3#########4#########5#########6#########7#########8\n",
    "def fn_get_top_article(df,\n",
    "                       num_art=10,\n",
    "                       as_index=True,\n",
    "                       verbose=False):\n",
    "    '''This function takes a dataframe of user vs articles interactions and\n",
    "    return the titles of the most accessed ones. \n",
    "    \n",
    "    Inputs:\n",
    "      - df (mandatory) -  is a kind of df_inter_enc (intermediary encoded)\n",
    "        dataframe type (Pandas Dataframe)\n",
    "      - num_art - (optional) - the number of most accessed articles in the \n",
    "        dataframe (Integer, default=10)\n",
    "      - as_index - if you want to return it as an Pandas Index, instead of a \n",
    "        list (default=True)\n",
    "      - verbose (optional) - if you want some verbosity in your function -\n",
    "        (Boolean, default=False)\n",
    "    Output:\n",
    "      - top_article - (list) A list of the top 'n' article titles \n",
    "    '''\n",
    "    if verbose:\n",
    "        print('###function get top articles started')  \n",
    "\n",
    "    start = time()\n",
    "    most_art = df['title'].value_counts()[:num_art].index\n",
    "\n",
    "    if not as_index:\n",
    "        most_art = most_art.tolist()\n",
    "\n",
    "    end = time()\n",
    "\n",
    "    if verbose:\n",
    "        print('elapsed time: {:.6f}s'.format(end-start))\n",
    "    \n",
    "    return most_art #article titles only"
   ]
  },
  {
   "cell_type": "code",
   "execution_count": 44,
   "metadata": {
    "id": "ab3q9NQB0sPz"
   },
   "outputs": [],
   "source": [
    "#########1#########2#########3#########4#########5#########6#########7#########8\n",
    "def fn_get_top_article_id(df, \n",
    "                          num_art=10,\n",
    "                          as_index=True,\n",
    "                          verbose=False):\n",
    "    '''This function takes a dataframe of user vs articles interactions and\n",
    "    return the titles of the most accessed ones. \n",
    "    \n",
    "    Inputs:\n",
    "      - df (mandatory) -  is a kind of df_inter_enc (intermediary encoded)\n",
    "        dataframe type (Pandas Dataframe)\n",
    "      - num_art - (optional) - the number of most accessed articles in the \n",
    "        dataframe (Integer, default=10)\n",
    "      - as_index - if you want to return it as an Pandas Index, instead of a \n",
    "        list (default=True)   \n",
    "      - verbose (optional) - if you want some verbosity in your function -\n",
    "        (Boolean, default=False)\n",
    "    Output:\n",
    "      - top_article - (list) A list of the top 'n' article titles\n",
    "    '''\n",
    "    if verbose:\n",
    "        print('###function get top articles started')        \n",
    " \n",
    "    start = time()\n",
    "    most_art = df.index.value_counts()[:num_art].index\n",
    "\n",
    "    if not as_index:\n",
    "        most_art = most_art.tolist()\n",
    "\n",
    "    end = time()\n",
    "\n",
    "    if verbose:\n",
    "        print('elapsed time: {:.6f}s'.format(end-start))\n",
    " \n",
    "    return most_art #most accessed articles ids"
   ]
  },
  {
   "cell_type": "markdown",
   "metadata": {
    "id": "WM71ayIR7iqJ"
   },
   "source": [
    "function `fn_get_top_article` created!\n",
    "\n",
    "function `fn_get_top_article_id` created!"
   ]
  },
  {
   "cell_type": "code",
   "execution_count": 45,
   "metadata": {
    "colab": {
     "base_uri": "https://localhost:8080/"
    },
    "executionInfo": {
     "elapsed": 153,
     "status": "ok",
     "timestamp": 1636810494306,
     "user": {
      "displayName": "Eduardo Passeto",
      "photoUrl": "https://lh3.googleusercontent.com/a-/AOh14GjI6hyWqRLc_tvBbX89lELJagwb0PXyrM8cuapKGQ=s64",
      "userId": "17164463605285505900"
     },
     "user_tz": 180
    },
    "id": "kxCKAm457zdK",
    "outputId": "4ba20f03-88cd-4ee5-92c1-3c9262d36d8b"
   },
   "outputs": [
    {
     "name": "stdout",
     "output_type": "stream",
     "text": [
      "###function get top articles started\n",
      "elapsed time: 0.006994s\n",
      "Index(['use deep learning for image classification',\n",
      "       'insights from new york car accident reports',\n",
      "       'visualize car data with brunel',\n",
      "       'use xgboost, scikit-learn & ibm watson machine learning apis',\n",
      "       'predicting churn with the spss random tree algorithm',\n",
      "       'healthcare python streaming application demo',\n",
      "       'finding optimal locations of new store using decision optimization',\n",
      "       'apache spark lab, part 1: basic concepts',\n",
      "       'analyze energy consumption in buildings',\n",
      "       'gosales transactions for logistic regression model'],\n",
      "      dtype='object')\n",
      "\n",
      "###function get top articles started\n",
      "elapsed time: 0.002997s\n",
      "Int64Index([1429, 1330, 1431, 1427, 1364, 1314, 1293, 1170, 1162, 1304], dtype='int64')\n"
     ]
    }
   ],
   "source": [
    "print(udc3.fn_get_top_article(\n",
    "          df=df_inter_enc,\n",
    "          num_art=10,\n",
    "          as_index=True,\n",
    "          verbose=True\n",
    "))\n",
    "print()\n",
    "print(udc3.fn_get_top_article_id(\n",
    "          df=df_inter_enc,\n",
    "          num_art=10,\n",
    "          as_index=True,\n",
    "          verbose=True\n",
    "))"
   ]
  },
  {
   "cell_type": "markdown",
   "metadata": {
    "id": "BN_z5Rkj8EF_"
   },
   "source": [
    "If you need to run this functions locally, please uncoment:"
   ]
  },
  {
   "cell_type": "code",
   "execution_count": 46,
   "metadata": {
    "id": "uJwY3U3M0sP0"
   },
   "outputs": [],
   "source": [
    "#print(fn_get_top_article(\n",
    "#          df=df_inter_enc,\n",
    "#          num_art=10,\n",
    "#          as_index=True,\n",
    "#          verbose=True))\n",
    "#print()\n",
    "#print(fn_get_top_article_id(\n",
    "#          df=df_inter_enc,\n",
    "#          num_art=10,\n",
    "#          as_index=True,\n",
    "#          verbose=True))"
   ]
  },
  {
   "cell_type": "code",
   "execution_count": 47,
   "metadata": {
    "id": "3bnwxBTC8RD0"
   },
   "outputs": [],
   "source": [
    "# Test your function by returning the top 5, 10, and 20 articles\n",
    "top_5 = udc3.fn_get_top_article(\n",
    "             df=df_inter_enc,\n",
    "             num_art=5,\n",
    "             as_index=True,\n",
    "             verbose=False\n",
    ")\n",
    "top_10 = udc3.fn_get_top_article(\n",
    "             df=df_inter_enc,\n",
    "             num_art=10,\n",
    "             as_index=True,\n",
    "             verbose=False\n",
    ")\n",
    "top_20 = udc3.fn_get_top_article(\n",
    "             df=df_inter_enc,\n",
    "             num_art=20,\n",
    "             as_index=True,\n",
    "             verbose=False\n",
    ")"
   ]
  },
  {
   "cell_type": "markdown",
   "metadata": {
    "id": "TQpRYVg88cf5"
   },
   "source": [
    "If you need to run these functions locally, please uncomment:"
   ]
  },
  {
   "cell_type": "code",
   "execution_count": 48,
   "metadata": {
    "id": "McsmDq8y0sP0"
   },
   "outputs": [],
   "source": [
    "# Test your function by returning the top 5, 10, and 20 articles\n",
    "#top_5 = fn_get_top_article(\n",
    "#             df=df_inter_enc,\n",
    "#             num_art=5,\n",
    "#             as_index=True,\n",
    "#             verbose=False)\n",
    "#top_10 = fn_get_top_article(\n",
    "#             df=df_inter_enc,\n",
    "#             num_art=10,\n",
    "#             as_index=True,\n",
    "#             verbose=False)\n",
    "#top_20 = fn_get_top_article(\n",
    "#             df=df_inter_enc,\n",
    "#             num_art=20,\n",
    "#             as_index=True,\n",
    "#             verbose=False)"
   ]
  },
  {
   "cell_type": "markdown",
   "metadata": {
    "id": "nwagBIqiLq6m"
   },
   "source": [
    "Just to pass into the test function, I created this variation, with the correct name. And df in my original function I pass the datase, just to process data observing the principle of **purity** of Functional Programming."
   ]
  },
  {
   "cell_type": "code",
   "execution_count": 49,
   "metadata": {
    "id": "aXNTvbXuHwxf"
   },
   "outputs": [],
   "source": [
    "#short version - don't use it!\n",
    "#########1#########2#########3#########4#########5#########6#########7#########8\n",
    "def get_top_articles(num_art,\n",
    "                     as_index=True,\n",
    "                     verbose=False):\n",
    "    if verbose:\n",
    "        print('###function get top articles started')  \n",
    "    start = time()\n",
    "    most_art = df['title'].value_counts()[:num_art].index\n",
    "    if not as_index:\n",
    "        most_art = most_art.tolist()\n",
    "    end = time()\n",
    "    if verbose:\n",
    "        print('elapsed time: {:.6f}s'.format(end-start))\n",
    "    return most_art"
   ]
  },
  {
   "cell_type": "code",
   "execution_count": 50,
   "metadata": {
    "colab": {
     "base_uri": "https://localhost:8080/"
    },
    "executionInfo": {
     "elapsed": 179,
     "status": "ok",
     "timestamp": 1636810494339,
     "user": {
      "displayName": "Eduardo Passeto",
      "photoUrl": "https://lh3.googleusercontent.com/a-/AOh14GjI6hyWqRLc_tvBbX89lELJagwb0PXyrM8cuapKGQ=s64",
      "userId": "17164463605285505900"
     },
     "user_tz": 180
    },
    "id": "zq8xDvHrF6S7",
    "outputId": "bff4ed6e-6841-45f6-e523-b342502df3d1"
   },
   "outputs": [
    {
     "name": "stdout",
     "output_type": "stream",
     "text": [
      "Your top_5 looks like the solution list! Nice job.\n",
      "Your top_10 looks like the solution list! Nice job.\n",
      "Your top_20 looks like the solution list! Nice job.\n"
     ]
    }
   ],
   "source": [
    "# Test each of your three lists from above\n",
    "df = df_inter_enc\n",
    "t.sol_2_test(get_top_articles)"
   ]
  },
  {
   "cell_type": "markdown",
   "metadata": {
    "id": "cqUqNddz0sP0"
   },
   "source": [
    "### <a class=\"anchor\" id=\"User-User\">Part III: User-User Based Collaborative Filtering</a>\n",
    "\n",
    "\n",
    "`1.` Use the function below to reformat the **df** dataframe to be shaped with users as the rows and articles as the columns.  \n",
    "\n",
    "* Each **user** should only appear in each **row** once.\n",
    "\n",
    "\n",
    "* Each **article** should only show up in one **column**.  \n",
    "\n",
    "\n",
    "* **If a user has interacted with an article, then place a 1 where the user-row meets for that article-column**.  It does not matter how many times a user has interacted with the article, all entries where a user has interacted with an article should be a 1.  \n",
    "\n",
    "\n",
    "* **If a user has not interacted with an item, then place a zero where the user-row meets for that article-column**. \n",
    "\n",
    "Use the tests to make sure the basic structure of your matrix matches what is expected by the solution."
   ]
  },
  {
   "cell_type": "markdown",
   "metadata": {
    "id": "IE4iH5sZ-Mke"
   },
   "source": [
    "first, I want my **Users ID** in a fancy format, so I will use my **mapper** function, already created earlier:"
   ]
  },
  {
   "cell_type": "code",
   "execution_count": 51,
   "metadata": {
    "colab": {
     "base_uri": "https://localhost:8080/",
     "height": 111
    },
    "executionInfo": {
     "elapsed": 245,
     "status": "ok",
     "timestamp": 1637073909441,
     "user": {
      "displayName": "Eduardo Passeto",
      "photoUrl": "https://lh3.googleusercontent.com/a-/AOh14GjI6hyWqRLc_tvBbX89lELJagwb0PXyrM8cuapKGQ=s64",
      "userId": "17164463605285505900"
     },
     "user_tz": 180
    },
    "id": "Qr18_a6P-GNE",
    "outputId": "89e3d6a1-1e0a-420e-d378-1b38cb7a9a71"
   },
   "outputs": [
    {
     "data": {
      "text/html": [
       "<div>\n",
       "<style scoped>\n",
       "    .dataframe tbody tr th:only-of-type {\n",
       "        vertical-align: middle;\n",
       "    }\n",
       "\n",
       "    .dataframe tbody tr th {\n",
       "        vertical-align: top;\n",
       "    }\n",
       "\n",
       "    .dataframe thead th {\n",
       "        text-align: right;\n",
       "    }\n",
       "</style>\n",
       "<table border=\"1\" class=\"dataframe\">\n",
       "  <thead>\n",
       "    <tr style=\"text-align: right;\">\n",
       "      <th></th>\n",
       "      <th>title</th>\n",
       "      <th>user_id</th>\n",
       "    </tr>\n",
       "    <tr>\n",
       "      <th>article_id</th>\n",
       "      <th></th>\n",
       "      <th></th>\n",
       "    </tr>\n",
       "  </thead>\n",
       "  <tbody>\n",
       "    <tr>\n",
       "      <th>1430</th>\n",
       "      <td>using pixiedust for fast, flexible, and easier...</td>\n",
       "      <td>1</td>\n",
       "    </tr>\n",
       "  </tbody>\n",
       "</table>\n",
       "</div>"
      ],
      "text/plain": [
       "                                                        title user_id\n",
       "article_id                                                           \n",
       "1430        using pixiedust for fast, flexible, and easier...       1"
      ]
     },
     "execution_count": 51,
     "metadata": {},
     "output_type": "execute_result"
    }
   ],
   "source": [
    "df_inter_enc = udc3.fn_email_mapper(\n",
    "                   df_input=df_inter,\n",
    "                   verbose=False\n",
    ")\n",
    "df_inter_enc.head(1)"
   ]
  },
  {
   "cell_type": "markdown",
   "metadata": {
    "id": "nE3gGv51Ck14"
   },
   "source": [
    "This solution is based on Pandas documentation [here](https://pandas.pydata.org/pandas-docs/stable/reference/api/pandas.DataFrame.groupby.html) and in earlier Udacity exercises, creating a user x movie preference matrix."
   ]
  },
  {
   "cell_type": "code",
   "execution_count": 52,
   "metadata": {
    "colab": {
     "base_uri": "https://localhost:8080/"
    },
    "executionInfo": {
     "elapsed": 484,
     "status": "ok",
     "timestamp": 1637073912014,
     "user": {
      "displayName": "Eduardo Passeto",
      "photoUrl": "https://lh3.googleusercontent.com/a-/AOh14GjI6hyWqRLc_tvBbX89lELJagwb0PXyrM8cuapKGQ=s64",
      "userId": "17164463605285505900"
     },
     "user_tz": 180
    },
    "id": "zj2DkiS6Bs8F",
    "outputId": "7d95eae7-62cc-437c-8c00-fc17a9f04c5b"
   },
   "outputs": [
    {
     "data": {
      "text/plain": [
       "user_id  article_id\n",
       "1        43            1\n",
       "         109           1\n",
       "         151           1\n",
       "         268           1\n",
       "         310           2\n",
       "                      ..\n",
       "999      1274          1\n",
       "         1314          1\n",
       "         1354          1\n",
       "         1393          1\n",
       "         1398          1\n",
       "Name: title, Length: 33682, dtype: int64"
      ]
     },
     "execution_count": 52,
     "metadata": {},
     "output_type": "execute_result"
    }
   ],
   "source": [
    "group = df_inter_enc.groupby(by=['user_id', df_inter_enc.index])['title'].count()\n",
    "group"
   ]
  },
  {
   "cell_type": "code",
   "execution_count": 53,
   "metadata": {
    "colab": {
     "base_uri": "https://localhost:8080/",
     "height": 160
    },
    "executionInfo": {
     "elapsed": 251,
     "status": "ok",
     "timestamp": 1637073916692,
     "user": {
      "displayName": "Eduardo Passeto",
      "photoUrl": "https://lh3.googleusercontent.com/a-/AOh14GjI6hyWqRLc_tvBbX89lELJagwb0PXyrM8cuapKGQ=s64",
      "userId": "17164463605285505900"
     },
     "user_tz": 180
    },
    "id": "q0JcD22bA9MO",
    "outputId": "0f91f9c4-04e9-4ac1-f752-4cc7104e9cab"
   },
   "outputs": [
    {
     "data": {
      "text/html": [
       "<div>\n",
       "<style scoped>\n",
       "    .dataframe tbody tr th:only-of-type {\n",
       "        vertical-align: middle;\n",
       "    }\n",
       "\n",
       "    .dataframe tbody tr th {\n",
       "        vertical-align: top;\n",
       "    }\n",
       "\n",
       "    .dataframe thead th {\n",
       "        text-align: right;\n",
       "    }\n",
       "</style>\n",
       "<table border=\"1\" class=\"dataframe\">\n",
       "  <thead>\n",
       "    <tr style=\"text-align: right;\">\n",
       "      <th>article_id</th>\n",
       "      <th>0</th>\n",
       "      <th>2</th>\n",
       "      <th>4</th>\n",
       "      <th>8</th>\n",
       "      <th>9</th>\n",
       "      <th>12</th>\n",
       "      <th>14</th>\n",
       "      <th>15</th>\n",
       "      <th>16</th>\n",
       "      <th>18</th>\n",
       "      <th>...</th>\n",
       "      <th>1434</th>\n",
       "      <th>1435</th>\n",
       "      <th>1436</th>\n",
       "      <th>1437</th>\n",
       "      <th>1439</th>\n",
       "      <th>1440</th>\n",
       "      <th>1441</th>\n",
       "      <th>1442</th>\n",
       "      <th>1443</th>\n",
       "      <th>1444</th>\n",
       "    </tr>\n",
       "    <tr>\n",
       "      <th>user_id</th>\n",
       "      <th></th>\n",
       "      <th></th>\n",
       "      <th></th>\n",
       "      <th></th>\n",
       "      <th></th>\n",
       "      <th></th>\n",
       "      <th></th>\n",
       "      <th></th>\n",
       "      <th></th>\n",
       "      <th></th>\n",
       "      <th></th>\n",
       "      <th></th>\n",
       "      <th></th>\n",
       "      <th></th>\n",
       "      <th></th>\n",
       "      <th></th>\n",
       "      <th></th>\n",
       "      <th></th>\n",
       "      <th></th>\n",
       "      <th></th>\n",
       "      <th></th>\n",
       "    </tr>\n",
       "  </thead>\n",
       "  <tbody>\n",
       "    <tr>\n",
       "      <th>1</th>\n",
       "      <td>NaN</td>\n",
       "      <td>NaN</td>\n",
       "      <td>NaN</td>\n",
       "      <td>NaN</td>\n",
       "      <td>NaN</td>\n",
       "      <td>NaN</td>\n",
       "      <td>NaN</td>\n",
       "      <td>NaN</td>\n",
       "      <td>NaN</td>\n",
       "      <td>NaN</td>\n",
       "      <td>...</td>\n",
       "      <td>NaN</td>\n",
       "      <td>NaN</td>\n",
       "      <td>1.0</td>\n",
       "      <td>NaN</td>\n",
       "      <td>1.0</td>\n",
       "      <td>NaN</td>\n",
       "      <td>NaN</td>\n",
       "      <td>NaN</td>\n",
       "      <td>NaN</td>\n",
       "      <td>NaN</td>\n",
       "    </tr>\n",
       "  </tbody>\n",
       "</table>\n",
       "<p>1 rows × 714 columns</p>\n",
       "</div>"
      ],
      "text/plain": [
       "article_id  0     2     4     8     9     12    14    15    16    18    ...  \\\n",
       "user_id                                                                 ...   \n",
       "1            NaN   NaN   NaN   NaN   NaN   NaN   NaN   NaN   NaN   NaN  ...   \n",
       "\n",
       "article_id  1434  1435  1436  1437  1439  1440  1441  1442  1443  1444  \n",
       "user_id                                                                 \n",
       "1            NaN   NaN   1.0   NaN   1.0   NaN   NaN   NaN   NaN   NaN  \n",
       "\n",
       "[1 rows x 714 columns]"
      ]
     },
     "execution_count": 53,
     "metadata": {},
     "output_type": "execute_result"
    }
   ],
   "source": [
    "group = group.unstack()\n",
    "group.head(1)"
   ]
  },
  {
   "cell_type": "markdown",
   "metadata": {
    "id": "AFP9zOnfJq2C"
   },
   "source": [
    "First method, costed like **6 seconds** to run:\n",
    "\n",
    "- the idea is to correct the dataframe, to contain only zeroes and ones"
   ]
  },
  {
   "cell_type": "code",
   "execution_count": 54,
   "metadata": {
    "colab": {
     "base_uri": "https://localhost:8080/",
     "height": 177
    },
    "executionInfo": {
     "elapsed": 7083,
     "status": "ok",
     "timestamp": 1637073925297,
     "user": {
      "displayName": "Eduardo Passeto",
      "photoUrl": "https://lh3.googleusercontent.com/a-/AOh14GjI6hyWqRLc_tvBbX89lELJagwb0PXyrM8cuapKGQ=s64",
      "userId": "17164463605285505900"
     },
     "user_tz": 180
    },
    "id": "QbemOoT5GcwP",
    "outputId": "3e9db1d0-4038-4e63-e586-d20180ba3e60"
   },
   "outputs": [
    {
     "name": "stdout",
     "output_type": "stream",
     "text": [
      "spent 16.2440s\n"
     ]
    },
    {
     "data": {
      "text/html": [
       "<div>\n",
       "<style scoped>\n",
       "    .dataframe tbody tr th:only-of-type {\n",
       "        vertical-align: middle;\n",
       "    }\n",
       "\n",
       "    .dataframe tbody tr th {\n",
       "        vertical-align: top;\n",
       "    }\n",
       "\n",
       "    .dataframe thead th {\n",
       "        text-align: right;\n",
       "    }\n",
       "</style>\n",
       "<table border=\"1\" class=\"dataframe\">\n",
       "  <thead>\n",
       "    <tr style=\"text-align: right;\">\n",
       "      <th>article_id</th>\n",
       "      <th>0</th>\n",
       "      <th>2</th>\n",
       "      <th>4</th>\n",
       "      <th>8</th>\n",
       "      <th>9</th>\n",
       "      <th>12</th>\n",
       "      <th>14</th>\n",
       "      <th>15</th>\n",
       "      <th>16</th>\n",
       "      <th>18</th>\n",
       "      <th>...</th>\n",
       "      <th>1434</th>\n",
       "      <th>1435</th>\n",
       "      <th>1436</th>\n",
       "      <th>1437</th>\n",
       "      <th>1439</th>\n",
       "      <th>1440</th>\n",
       "      <th>1441</th>\n",
       "      <th>1442</th>\n",
       "      <th>1443</th>\n",
       "      <th>1444</th>\n",
       "    </tr>\n",
       "    <tr>\n",
       "      <th>user_id</th>\n",
       "      <th></th>\n",
       "      <th></th>\n",
       "      <th></th>\n",
       "      <th></th>\n",
       "      <th></th>\n",
       "      <th></th>\n",
       "      <th></th>\n",
       "      <th></th>\n",
       "      <th></th>\n",
       "      <th></th>\n",
       "      <th></th>\n",
       "      <th></th>\n",
       "      <th></th>\n",
       "      <th></th>\n",
       "      <th></th>\n",
       "      <th></th>\n",
       "      <th></th>\n",
       "      <th></th>\n",
       "      <th></th>\n",
       "      <th></th>\n",
       "      <th></th>\n",
       "    </tr>\n",
       "  </thead>\n",
       "  <tbody>\n",
       "    <tr>\n",
       "      <th>1</th>\n",
       "      <td>0</td>\n",
       "      <td>0</td>\n",
       "      <td>0</td>\n",
       "      <td>0</td>\n",
       "      <td>0</td>\n",
       "      <td>0</td>\n",
       "      <td>0</td>\n",
       "      <td>0</td>\n",
       "      <td>0</td>\n",
       "      <td>0</td>\n",
       "      <td>...</td>\n",
       "      <td>0</td>\n",
       "      <td>0</td>\n",
       "      <td>1</td>\n",
       "      <td>0</td>\n",
       "      <td>1</td>\n",
       "      <td>0</td>\n",
       "      <td>0</td>\n",
       "      <td>0</td>\n",
       "      <td>0</td>\n",
       "      <td>0</td>\n",
       "    </tr>\n",
       "  </tbody>\n",
       "</table>\n",
       "<p>1 rows × 714 columns</p>\n",
       "</div>"
      ],
      "text/plain": [
       "article_id  0     2     4     8     9     12    14    15    16    18    ...  \\\n",
       "user_id                                                                 ...   \n",
       "1              0     0     0     0     0     0     0     0     0     0  ...   \n",
       "\n",
       "article_id  1434  1435  1436  1437  1439  1440  1441  1442  1443  1444  \n",
       "user_id                                                                 \n",
       "1              0     0     1     0     1     0     0     0     0     0  \n",
       "\n",
       "[1 rows x 714 columns]"
      ]
     },
     "execution_count": 54,
     "metadata": {},
     "output_type": "execute_result"
    }
   ],
   "source": [
    "begin = time()\n",
    "\n",
    "for col in group:\n",
    "    group[col] = group[col].apply(lambda x: 0 if pd.isnull(x) else 1)\n",
    "\n",
    "end = time()\n",
    "print('spent {:.4f}s'.format(end-begin))\n",
    "\n",
    "group.head(1)"
   ]
  },
  {
   "cell_type": "markdown",
   "metadata": {
    "id": "VKn8CLxiKa04"
   },
   "source": [
    "Second method:    \n",
    "\n",
    "- first I fill NaN with zeroes\n",
    "\n",
    "- then change everything that is not zero with an 1\n",
    "\n",
    "And it took only as **1.2 seconds**, so it is much faster!"
   ]
  },
  {
   "cell_type": "code",
   "execution_count": 55,
   "metadata": {
    "colab": {
     "base_uri": "https://localhost:8080/",
     "height": 177
    },
    "executionInfo": {
     "elapsed": 1424,
     "status": "ok",
     "timestamp": 1636979925772,
     "user": {
      "displayName": "Eduardo Passeto",
      "photoUrl": "https://lh3.googleusercontent.com/a-/AOh14GjI6hyWqRLc_tvBbX89lELJagwb0PXyrM8cuapKGQ=s64",
      "userId": "17164463605285505900"
     },
     "user_tz": 180
    },
    "id": "mAsa5xOVJ1SZ",
    "outputId": "54391651-62a4-4f2a-c8c3-dd2a0f7e25ef"
   },
   "outputs": [
    {
     "name": "stdout",
     "output_type": "stream",
     "text": [
      "spent 2.8622s\n"
     ]
    },
    {
     "data": {
      "text/html": [
       "<div>\n",
       "<style scoped>\n",
       "    .dataframe tbody tr th:only-of-type {\n",
       "        vertical-align: middle;\n",
       "    }\n",
       "\n",
       "    .dataframe tbody tr th {\n",
       "        vertical-align: top;\n",
       "    }\n",
       "\n",
       "    .dataframe thead th {\n",
       "        text-align: right;\n",
       "    }\n",
       "</style>\n",
       "<table border=\"1\" class=\"dataframe\">\n",
       "  <thead>\n",
       "    <tr style=\"text-align: right;\">\n",
       "      <th>article_id</th>\n",
       "      <th>0</th>\n",
       "      <th>2</th>\n",
       "      <th>4</th>\n",
       "      <th>8</th>\n",
       "      <th>9</th>\n",
       "      <th>12</th>\n",
       "      <th>14</th>\n",
       "      <th>15</th>\n",
       "      <th>16</th>\n",
       "      <th>18</th>\n",
       "      <th>...</th>\n",
       "      <th>1434</th>\n",
       "      <th>1435</th>\n",
       "      <th>1436</th>\n",
       "      <th>1437</th>\n",
       "      <th>1439</th>\n",
       "      <th>1440</th>\n",
       "      <th>1441</th>\n",
       "      <th>1442</th>\n",
       "      <th>1443</th>\n",
       "      <th>1444</th>\n",
       "    </tr>\n",
       "    <tr>\n",
       "      <th>user_id</th>\n",
       "      <th></th>\n",
       "      <th></th>\n",
       "      <th></th>\n",
       "      <th></th>\n",
       "      <th></th>\n",
       "      <th></th>\n",
       "      <th></th>\n",
       "      <th></th>\n",
       "      <th></th>\n",
       "      <th></th>\n",
       "      <th></th>\n",
       "      <th></th>\n",
       "      <th></th>\n",
       "      <th></th>\n",
       "      <th></th>\n",
       "      <th></th>\n",
       "      <th></th>\n",
       "      <th></th>\n",
       "      <th></th>\n",
       "      <th></th>\n",
       "      <th></th>\n",
       "    </tr>\n",
       "  </thead>\n",
       "  <tbody>\n",
       "    <tr>\n",
       "      <th>1</th>\n",
       "      <td>0.0</td>\n",
       "      <td>0.0</td>\n",
       "      <td>0.0</td>\n",
       "      <td>0.0</td>\n",
       "      <td>0.0</td>\n",
       "      <td>0.0</td>\n",
       "      <td>0.0</td>\n",
       "      <td>0.0</td>\n",
       "      <td>0.0</td>\n",
       "      <td>0.0</td>\n",
       "      <td>...</td>\n",
       "      <td>0.0</td>\n",
       "      <td>0.0</td>\n",
       "      <td>1.0</td>\n",
       "      <td>0.0</td>\n",
       "      <td>1.0</td>\n",
       "      <td>0.0</td>\n",
       "      <td>0.0</td>\n",
       "      <td>0.0</td>\n",
       "      <td>0.0</td>\n",
       "      <td>0.0</td>\n",
       "    </tr>\n",
       "  </tbody>\n",
       "</table>\n",
       "<p>1 rows × 714 columns</p>\n",
       "</div>"
      ],
      "text/plain": [
       "article_id  0     2     4     8     9     12    14    15    16    18    ...  \\\n",
       "user_id                                                                 ...   \n",
       "1            0.0   0.0   0.0   0.0   0.0   0.0   0.0   0.0   0.0   0.0  ...   \n",
       "\n",
       "article_id  1434  1435  1436  1437  1439  1440  1441  1442  1443  1444  \n",
       "user_id                                                                 \n",
       "1            0.0   0.0   1.0   0.0   1.0   0.0   0.0   0.0   0.0   0.0  \n",
       "\n",
       "[1 rows x 714 columns]"
      ]
     },
     "execution_count": 55,
     "metadata": {},
     "output_type": "execute_result"
    }
   ],
   "source": [
    "group = df_inter_enc.groupby(by=['user_id', \n",
    "                                 df_inter_enc.index])['title'].count().unstack()\n",
    "begin = time()\n",
    "group = group.fillna(0)\n",
    "\n",
    "for col in group:\n",
    "    group[col] = group[col].apply(lambda x: x if x == 0 else 1)\n",
    "\n",
    "end = time()\n",
    "print('spent {:.4f}s'.format(end-begin))\n",
    "\n",
    "group.head(1)"
   ]
  },
  {
   "cell_type": "code",
   "execution_count": 56,
   "metadata": {
    "id": "dts7aUXR0sP0"
   },
   "outputs": [],
   "source": [
    "#########1#########2#########3#########4#########5#########6#########7#########8\n",
    "def fn_create_user_item_matrix(df,\n",
    "                               verbose=True):\n",
    "    '''This function returns a matrix with user ids as rows and article ids on \n",
    "    the columns with 1 values where a user interacted with  an article and a 0. \n",
    "    Otherwise create the user-article matrix with 1's and 0's.\n",
    "    \n",
    "    Inputs:\n",
    "      - df (mandatory) - pandas dataframe in the format of df_inter_enc,\n",
    "        having article_id as index, plus title and user_id columns\n",
    "      - verbose (optional) - if you want some verbosity in your function -\n",
    "        (Boolean, default=False)\n",
    "    Output:\n",
    "      - df_out - user-item matrix, having users as rows and articles as column,\n",
    "        maximum value allowed is 1 for each entry. \n",
    "    '''\n",
    "    if verbose:\n",
    "        print('###function create user item matrix started')\n",
    "    \n",
    "    #my correction subfunction\n",
    "    def _(x):\n",
    "      if x == 0:\n",
    "        return x\n",
    "      else:\n",
    "        return 1\n",
    "    \n",
    "    #only to avoid modifying the original dataframe\n",
    "    df_out = df.copy()\n",
    "    start = time()\n",
    "\n",
    "    #step 1: creating the user-item matrix\n",
    "    group = df_out.groupby(by=['user_id', df_out.index])['title'].count()\n",
    "    group = group.unstack()\n",
    "\n",
    "    #step 2: ensuring that there will be no NaNs in dataframe\n",
    "    group = group.fillna(0)\n",
    "\n",
    "    #step 3: ensuring that the only possible values will be 0 or 1\n",
    "    for article in group:\n",
    "        group[article] = group[article].apply(_(x))\n",
    "    \n",
    "    end = time()\n",
    "    \n",
    "    if verbose:\n",
    "        print('elapsed time: {:.4f}s'.format(end-start))\n",
    "    \n",
    "    return group #user-item dataframe"
   ]
  },
  {
   "cell_type": "markdown",
   "metadata": {
    "id": "SwuFRkuqRfl-"
   },
   "source": [
    "function `fn_create_user_item_matrix` created!\n",
    "\n",
    "Obs: I know that I already have a `fn_create_user_item` from earlier Udacity studies on movies in my library! The idea is in a near future to compare them and melt them together. "
   ]
  },
  {
   "cell_type": "code",
   "execution_count": 57,
   "metadata": {
    "colab": {
     "base_uri": "https://localhost:8080/",
     "height": 211
    },
    "executionInfo": {
     "elapsed": 1593,
     "status": "ok",
     "timestamp": 1637073934966,
     "user": {
      "displayName": "Eduardo Passeto",
      "photoUrl": "https://lh3.googleusercontent.com/a-/AOh14GjI6hyWqRLc_tvBbX89lELJagwb0PXyrM8cuapKGQ=s64",
      "userId": "17164463605285505900"
     },
     "user_tz": 180
    },
    "id": "6O4WzPZF0sP1",
    "outputId": "bf7b3bd8-eb1f-4e5c-a5f4-88d2ad427832"
   },
   "outputs": [
    {
     "name": "stdout",
     "output_type": "stream",
     "text": [
      "###function create user item matrix started\n",
      "user matrix has 5149 users (rows) and 714 articles (columns)\n",
      "elapsed time: 3.4179s\n"
     ]
    },
    {
     "data": {
      "text/html": [
       "<div>\n",
       "<style scoped>\n",
       "    .dataframe tbody tr th:only-of-type {\n",
       "        vertical-align: middle;\n",
       "    }\n",
       "\n",
       "    .dataframe tbody tr th {\n",
       "        vertical-align: top;\n",
       "    }\n",
       "\n",
       "    .dataframe thead th {\n",
       "        text-align: right;\n",
       "    }\n",
       "</style>\n",
       "<table border=\"1\" class=\"dataframe\">\n",
       "  <thead>\n",
       "    <tr style=\"text-align: right;\">\n",
       "      <th>article_id</th>\n",
       "      <th>0</th>\n",
       "      <th>2</th>\n",
       "      <th>4</th>\n",
       "      <th>8</th>\n",
       "      <th>9</th>\n",
       "      <th>12</th>\n",
       "      <th>14</th>\n",
       "      <th>15</th>\n",
       "      <th>16</th>\n",
       "      <th>18</th>\n",
       "      <th>...</th>\n",
       "      <th>1434</th>\n",
       "      <th>1435</th>\n",
       "      <th>1436</th>\n",
       "      <th>1437</th>\n",
       "      <th>1439</th>\n",
       "      <th>1440</th>\n",
       "      <th>1441</th>\n",
       "      <th>1442</th>\n",
       "      <th>1443</th>\n",
       "      <th>1444</th>\n",
       "    </tr>\n",
       "    <tr>\n",
       "      <th>user_id</th>\n",
       "      <th></th>\n",
       "      <th></th>\n",
       "      <th></th>\n",
       "      <th></th>\n",
       "      <th></th>\n",
       "      <th></th>\n",
       "      <th></th>\n",
       "      <th></th>\n",
       "      <th></th>\n",
       "      <th></th>\n",
       "      <th></th>\n",
       "      <th></th>\n",
       "      <th></th>\n",
       "      <th></th>\n",
       "      <th></th>\n",
       "      <th></th>\n",
       "      <th></th>\n",
       "      <th></th>\n",
       "      <th></th>\n",
       "      <th></th>\n",
       "      <th></th>\n",
       "    </tr>\n",
       "  </thead>\n",
       "  <tbody>\n",
       "    <tr>\n",
       "      <th>1</th>\n",
       "      <td>0.0</td>\n",
       "      <td>0.0</td>\n",
       "      <td>0.0</td>\n",
       "      <td>0.0</td>\n",
       "      <td>0.0</td>\n",
       "      <td>0.0</td>\n",
       "      <td>0.0</td>\n",
       "      <td>0.0</td>\n",
       "      <td>0.0</td>\n",
       "      <td>0.0</td>\n",
       "      <td>...</td>\n",
       "      <td>0.0</td>\n",
       "      <td>0.0</td>\n",
       "      <td>1.0</td>\n",
       "      <td>0.0</td>\n",
       "      <td>1.0</td>\n",
       "      <td>0.0</td>\n",
       "      <td>0.0</td>\n",
       "      <td>0.0</td>\n",
       "      <td>0.0</td>\n",
       "      <td>0.0</td>\n",
       "    </tr>\n",
       "  </tbody>\n",
       "</table>\n",
       "<p>1 rows × 714 columns</p>\n",
       "</div>"
      ],
      "text/plain": [
       "article_id  0     2     4     8     9     12    14    15    16    18    ...  \\\n",
       "user_id                                                                 ...   \n",
       "1            0.0   0.0   0.0   0.0   0.0   0.0   0.0   0.0   0.0   0.0  ...   \n",
       "\n",
       "article_id  1434  1435  1436  1437  1439  1440  1441  1442  1443  1444  \n",
       "user_id                                                                 \n",
       "1            0.0   0.0   1.0   0.0   1.0   0.0   0.0   0.0   0.0   0.0  \n",
       "\n",
       "[1 rows x 714 columns]"
      ]
     },
     "execution_count": 57,
     "metadata": {},
     "output_type": "execute_result"
    }
   ],
   "source": [
    "df_user_item = udc3.fn_create_user_item_matrix(\n",
    "                df=df_inter_enc,\n",
    "                verbose=True\n",
    ")\n",
    "df_user_item.head(1)"
   ]
  },
  {
   "cell_type": "markdown",
   "metadata": {
    "id": "1cgND7bRvHm2"
   },
   "source": [
    "I am not sure if it will not be better to create a True/False (Boolean) array, instead of a 0/1 (and Floating!) matrix! Later I will need to make a deeper analysis on these possibilities."
   ]
  },
  {
   "cell_type": "code",
   "execution_count": 58,
   "metadata": {
    "colab": {
     "base_uri": "https://localhost:8080/"
    },
    "executionInfo": {
     "elapsed": 449,
     "status": "ok",
     "timestamp": 1636979953428,
     "user": {
      "displayName": "Eduardo Passeto",
      "photoUrl": "https://lh3.googleusercontent.com/a-/AOh14GjI6hyWqRLc_tvBbX89lELJagwb0PXyrM8cuapKGQ=s64",
      "userId": "17164463605285505900"
     },
     "user_tz": 180
    },
    "id": "sbBJcI36vkmv",
    "outputId": "71a85d45-6f57-4593-8a85-7b02c7248ed5"
   },
   "outputs": [
    {
     "data": {
      "text/plain": [
       "19.0"
      ]
     },
     "execution_count": 58,
     "metadata": {},
     "output_type": "execute_result"
    }
   ],
   "source": [
    "df_user_item.sum(axis=1)[1]"
   ]
  },
  {
   "cell_type": "code",
   "execution_count": 59,
   "metadata": {
    "colab": {
     "base_uri": "https://localhost:8080/"
    },
    "executionInfo": {
     "elapsed": 277,
     "status": "ok",
     "timestamp": 1637073942996,
     "user": {
      "displayName": "Eduardo Passeto",
      "photoUrl": "https://lh3.googleusercontent.com/a-/AOh14GjI6hyWqRLc_tvBbX89lELJagwb0PXyrM8cuapKGQ=s64",
      "userId": "17164463605285505900"
     },
     "user_tz": 180
    },
    "id": "udaoEggN0sP1",
    "outputId": "50a338fc-786b-4add-a3d5-01fef270313a"
   },
   "outputs": [
    {
     "name": "stdout",
     "output_type": "stream",
     "text": [
      "You have passed our quick tests!  Please proceed!\n"
     ]
    }
   ],
   "source": [
    "## Tests: You should just need to run this cell.  Don't change the code.\n",
    "assert df_user_item.shape[0] == 5149, \"Oops!  The number of users in the user-article matrix doesn't look right.\"\n",
    "assert df_user_item.shape[1] == 714, \"Oops!  The number of articles in the user-article matrix doesn't look right.\"\n",
    "assert df_user_item.sum(axis=1)[1] == 19, \"Oops!  The number of articles seen by user 1 doesn't look right.\"\n",
    "print(\"You have passed our quick tests!  Please proceed!\")"
   ]
  },
  {
   "cell_type": "markdown",
   "metadata": {
    "id": "B3BDvhdl0sP1"
   },
   "source": [
    "`2.` Complete the function below which should take a user_id and provide an ordered list of the most similar users to that user (from most similar to least similar).  The returned result should not contain the provided user_id, as we know that each user is similar to him/herself. Because the results for each user here are binary, it (perhaps) makes sense to compute similarity as the dot product of two users. \n",
    "\n",
    "Use the tests to test your function."
   ]
  },
  {
   "cell_type": "code",
   "execution_count": 60,
   "metadata": {
    "colab": {
     "base_uri": "https://localhost:8080/",
     "height": 177
    },
    "executionInfo": {
     "elapsed": 613,
     "status": "ok",
     "timestamp": 1636979961324,
     "user": {
      "displayName": "Eduardo Passeto",
      "photoUrl": "https://lh3.googleusercontent.com/a-/AOh14GjI6hyWqRLc_tvBbX89lELJagwb0PXyrM8cuapKGQ=s64",
      "userId": "17164463605285505900"
     },
     "user_tz": 180
    },
    "id": "6OuJDw0Zwnx5",
    "outputId": "42576df4-1f25-4f3a-926f-e3533879f530"
   },
   "outputs": [
    {
     "name": "stdout",
     "output_type": "stream",
     "text": [
      "5149 users versus 714 articles\n"
     ]
    },
    {
     "data": {
      "text/html": [
       "<div>\n",
       "<style scoped>\n",
       "    .dataframe tbody tr th:only-of-type {\n",
       "        vertical-align: middle;\n",
       "    }\n",
       "\n",
       "    .dataframe tbody tr th {\n",
       "        vertical-align: top;\n",
       "    }\n",
       "\n",
       "    .dataframe thead th {\n",
       "        text-align: right;\n",
       "    }\n",
       "</style>\n",
       "<table border=\"1\" class=\"dataframe\">\n",
       "  <thead>\n",
       "    <tr style=\"text-align: right;\">\n",
       "      <th>article_id</th>\n",
       "      <th>0</th>\n",
       "      <th>2</th>\n",
       "      <th>4</th>\n",
       "      <th>8</th>\n",
       "      <th>9</th>\n",
       "      <th>12</th>\n",
       "      <th>14</th>\n",
       "      <th>15</th>\n",
       "      <th>16</th>\n",
       "      <th>18</th>\n",
       "      <th>...</th>\n",
       "      <th>1434</th>\n",
       "      <th>1435</th>\n",
       "      <th>1436</th>\n",
       "      <th>1437</th>\n",
       "      <th>1439</th>\n",
       "      <th>1440</th>\n",
       "      <th>1441</th>\n",
       "      <th>1442</th>\n",
       "      <th>1443</th>\n",
       "      <th>1444</th>\n",
       "    </tr>\n",
       "    <tr>\n",
       "      <th>user_id</th>\n",
       "      <th></th>\n",
       "      <th></th>\n",
       "      <th></th>\n",
       "      <th></th>\n",
       "      <th></th>\n",
       "      <th></th>\n",
       "      <th></th>\n",
       "      <th></th>\n",
       "      <th></th>\n",
       "      <th></th>\n",
       "      <th></th>\n",
       "      <th></th>\n",
       "      <th></th>\n",
       "      <th></th>\n",
       "      <th></th>\n",
       "      <th></th>\n",
       "      <th></th>\n",
       "      <th></th>\n",
       "      <th></th>\n",
       "      <th></th>\n",
       "      <th></th>\n",
       "    </tr>\n",
       "  </thead>\n",
       "  <tbody>\n",
       "    <tr>\n",
       "      <th>1</th>\n",
       "      <td>0.0</td>\n",
       "      <td>0.0</td>\n",
       "      <td>0.0</td>\n",
       "      <td>0.0</td>\n",
       "      <td>0.0</td>\n",
       "      <td>0.0</td>\n",
       "      <td>0.0</td>\n",
       "      <td>0.0</td>\n",
       "      <td>0.0</td>\n",
       "      <td>0.0</td>\n",
       "      <td>...</td>\n",
       "      <td>0.0</td>\n",
       "      <td>0.0</td>\n",
       "      <td>1.0</td>\n",
       "      <td>0.0</td>\n",
       "      <td>1.0</td>\n",
       "      <td>0.0</td>\n",
       "      <td>0.0</td>\n",
       "      <td>0.0</td>\n",
       "      <td>0.0</td>\n",
       "      <td>0.0</td>\n",
       "    </tr>\n",
       "  </tbody>\n",
       "</table>\n",
       "<p>1 rows × 714 columns</p>\n",
       "</div>"
      ],
      "text/plain": [
       "article_id  0     2     4     8     9     12    14    15    16    18    ...  \\\n",
       "user_id                                                                 ...   \n",
       "1            0.0   0.0   0.0   0.0   0.0   0.0   0.0   0.0   0.0   0.0  ...   \n",
       "\n",
       "article_id  1434  1435  1436  1437  1439  1440  1441  1442  1443  1444  \n",
       "user_id                                                                 \n",
       "1            0.0   0.0   1.0   0.0   1.0   0.0   0.0   0.0   0.0   0.0  \n",
       "\n",
       "[1 rows x 714 columns]"
      ]
     },
     "execution_count": 60,
     "metadata": {},
     "output_type": "execute_result"
    }
   ],
   "source": [
    "print('{} users versus {} articles'.format(df_user_item.shape[0], df_user_item.shape[1]))\n",
    "df_user_item.head(1)"
   ]
  },
  {
   "cell_type": "markdown",
   "metadata": {
    "id": "6RRQ-wmRx4Hj"
   },
   "source": [
    "**User 1 preferences** is represented by a **sparse** vector:"
   ]
  },
  {
   "cell_type": "code",
   "execution_count": 61,
   "metadata": {
    "colab": {
     "base_uri": "https://localhost:8080/"
    },
    "executionInfo": {
     "elapsed": 17,
     "status": "ok",
     "timestamp": 1636979963158,
     "user": {
      "displayName": "Eduardo Passeto",
      "photoUrl": "https://lh3.googleusercontent.com/a-/AOh14GjI6hyWqRLc_tvBbX89lELJagwb0PXyrM8cuapKGQ=s64",
      "userId": "17164463605285505900"
     },
     "user_tz": 180
    },
    "id": "G7n1n-mvwyiI",
    "outputId": "7542240b-f3fa-44ba-84f3-003f5bb90a47"
   },
   "outputs": [
    {
     "data": {
      "text/plain": [
       "article_id\n",
       "0    0.0\n",
       "2    0.0\n",
       "4    0.0\n",
       "8    0.0\n",
       "9    0.0\n",
       "Name: 1, dtype: float64"
      ]
     },
     "execution_count": 61,
     "metadata": {},
     "output_type": "execute_result"
    }
   ],
   "source": [
    "df_user_item.loc['1'].head()"
   ]
  },
  {
   "cell_type": "markdown",
   "metadata": {
    "id": "GPtfx0WyzbbO"
   },
   "source": [
    "Seen articles:"
   ]
  },
  {
   "cell_type": "code",
   "execution_count": 62,
   "metadata": {
    "colab": {
     "base_uri": "https://localhost:8080/"
    },
    "executionInfo": {
     "elapsed": 453,
     "status": "ok",
     "timestamp": 1636979967411,
     "user": {
      "displayName": "Eduardo Passeto",
      "photoUrl": "https://lh3.googleusercontent.com/a-/AOh14GjI6hyWqRLc_tvBbX89lELJagwb0PXyrM8cuapKGQ=s64",
      "userId": "17164463605285505900"
     },
     "user_tz": 180
    },
    "id": "SztnouBvzHiP",
    "outputId": "176c772f-7c78-4a52-c81b-d7cb9fa1b726"
   },
   "outputs": [
    {
     "name": "stdout",
     "output_type": "stream",
     "text": [
      "for user 1 we have 36 accessed articles (5.04)% in a world of 714 articles\n"
     ]
    }
   ],
   "source": [
    "user = df_user_item.loc['1']\n",
    "valid= user[user == 1].count()\n",
    "tot= len(user)\n",
    "per = 100. * (valid / tot)\n",
    "print ('for user 1 we have {} accessed articles ({:.2f})% in a world of {} articles'\\\n",
    "       .format(valid, per, tot))"
   ]
  },
  {
   "cell_type": "code",
   "execution_count": 63,
   "metadata": {
    "colab": {
     "base_uri": "https://localhost:8080/"
    },
    "executionInfo": {
     "elapsed": 14,
     "status": "ok",
     "timestamp": 1636979969503,
     "user": {
      "displayName": "Eduardo Passeto",
      "photoUrl": "https://lh3.googleusercontent.com/a-/AOh14GjI6hyWqRLc_tvBbX89lELJagwb0PXyrM8cuapKGQ=s64",
      "userId": "17164463605285505900"
     },
     "user_tz": 180
    },
    "id": "74EW2sYqzpyV",
    "outputId": "d739bf78-c6af-480b-ea9b-c961b47122d1"
   },
   "outputs": [
    {
     "data": {
      "text/plain": [
       "user_id\n",
       "1       36.0\n",
       "10       7.0\n",
       "100      0.0\n",
       "1000     0.0\n",
       "1001     1.0\n",
       "        ... \n",
       "995      4.0\n",
       "996      2.0\n",
       "997      0.0\n",
       "998      3.0\n",
       "999      0.0\n",
       "Length: 5149, dtype: float64"
      ]
     },
     "execution_count": 63,
     "metadata": {},
     "output_type": "execute_result"
    }
   ],
   "source": [
    "df_user_item.dot(user)"
   ]
  },
  {
   "cell_type": "markdown",
   "metadata": {
    "id": "4jajn1s5y2u9"
   },
   "source": [
    "Pandas dot product [documentation](https://pandas.pydata.org/docs/reference/api/pandas.DataFrame.dot.html):    \n",
    "\n",
    "- it is a method for an array-like object (more espefically, a Pandas Dataframe containing only numbers);\n",
    "\n",
    "- so, we apply the method over the object (in this case, our huge **user_item** sparse matrix) versus another matrix, or vector;\n",
    "\n",
    "- for a vector, it returns a vector, in each dimmension of the vector containing a specific value (the dot product) for each **colum** of the object (in this case, other users).\n",
    "\n",
    "So, for User 1 is very similar to **himself**! ;-)"
   ]
  },
  {
   "cell_type": "code",
   "execution_count": 64,
   "metadata": {
    "colab": {
     "base_uri": "https://localhost:8080/"
    },
    "executionInfo": {
     "elapsed": 466,
     "status": "ok",
     "timestamp": 1636980154549,
     "user": {
      "displayName": "Eduardo Passeto",
      "photoUrl": "https://lh3.googleusercontent.com/a-/AOh14GjI6hyWqRLc_tvBbX89lELJagwb0PXyrM8cuapKGQ=s64",
      "userId": "17164463605285505900"
     },
     "user_tz": 180
    },
    "id": "mkWZ9OPMwM_I",
    "outputId": "de8a958a-2edc-4ae7-fd23-a45b70b96243"
   },
   "outputs": [
    {
     "name": "stdout",
     "output_type": "stream",
     "text": [
      "similar (the dot product) is a vector\n",
      "it have the same length of the number of users: 5149\n"
     ]
    },
    {
     "data": {
      "text/plain": [
       "user_id\n",
       "1       35.0\n",
       "10       7.0\n",
       "100      0.0\n",
       "1000     0.0\n",
       "1001     1.0\n",
       "dtype: float64"
      ]
     },
     "execution_count": 64,
     "metadata": {},
     "output_type": "execute_result"
    }
   ],
   "source": [
    "user_id = '3933' #1\n",
    "similar = df_user_item.dot(df_user_item.loc[user_id])\n",
    "print('similar (the dot product) is a vector')\n",
    "print('it have the same length of the number of users:', \n",
    "      similar.shape[0])\n",
    "\n",
    "similar.head(5)"
   ]
  },
  {
   "cell_type": "markdown",
   "metadata": {
    "id": "txYoDtgT01Wq"
   },
   "source": [
    "User 1 is also very similar to **User 3933**!\n",
    "\n",
    "- ordering it we will have an idea of the most similar users to User 1"
   ]
  },
  {
   "cell_type": "code",
   "execution_count": 65,
   "metadata": {
    "colab": {
     "base_uri": "https://localhost:8080/"
    },
    "executionInfo": {
     "elapsed": 484,
     "status": "ok",
     "timestamp": 1636980160215,
     "user": {
      "displayName": "Eduardo Passeto",
      "photoUrl": "https://lh3.googleusercontent.com/a-/AOh14GjI6hyWqRLc_tvBbX89lELJagwb0PXyrM8cuapKGQ=s64",
      "userId": "17164463605285505900"
     },
     "user_tz": 180
    },
    "id": "Nc07udep0q4t",
    "outputId": "9d1406ba-7ac3-4947-9bb3-9516f3f30077"
   },
   "outputs": [
    {
     "data": {
      "text/plain": [
       "user_id\n",
       "3933    35.0\n",
       "3782    17.0\n",
       "23      17.0\n",
       "203     15.0\n",
       "4459    15.0\n",
       "dtype: float64"
      ]
     },
     "execution_count": 65,
     "metadata": {},
     "output_type": "execute_result"
    }
   ],
   "source": [
    "similar = similar.drop('1') #bye bye himself!\n",
    "similar_most = similar.sort_values(ascending=False)\n",
    "similar_most.head(5)"
   ]
  },
  {
   "cell_type": "markdown",
   "metadata": {
    "id": "DrNBZ-RV7x2j"
   },
   "source": [
    "The task says to create a **complete** list of users, but that is not so clever! When I navigate through the list, I can notice that it goes to zero really fast (even for a very active user, as User 1).\n",
    "\n",
    "It makes sense, as the dot product of two vectors, one (or both of them) being zero is equal to **zero**! "
   ]
  },
  {
   "cell_type": "code",
   "execution_count": 66,
   "metadata": {
    "colab": {
     "base_uri": "https://localhost:8080/",
     "height": 35
    },
    "executionInfo": {
     "elapsed": 484,
     "status": "ok",
     "timestamp": 1636980165826,
     "user": {
      "displayName": "Eduardo Passeto",
      "photoUrl": "https://lh3.googleusercontent.com/a-/AOh14GjI6hyWqRLc_tvBbX89lELJagwb0PXyrM8cuapKGQ=s64",
      "userId": "17164463605285505900"
     },
     "user_tz": 180
    },
    "id": "UksFXT_-2jHI",
    "outputId": "b44937fe-cb16-4207-d8cc-0fbb4f2830d8"
   },
   "outputs": [
    {
     "data": {
      "text/plain": [
       "'3933'"
      ]
     },
     "execution_count": 66,
     "metadata": {},
     "output_type": "execute_result"
    }
   ],
   "source": [
    "similar_lst = similar_most.index.to_list()\n",
    "similar_lst[0]"
   ]
  },
  {
   "cell_type": "markdown",
   "metadata": {
    "id": "jJp3q3jFn48H"
   },
   "source": [
    "Only to ensure that the search for an user will use allways the **string** format of data for indexes:"
   ]
  },
  {
   "cell_type": "code",
   "execution_count": 67,
   "metadata": {
    "colab": {
     "base_uri": "https://localhost:8080/",
     "height": 35
    },
    "executionInfo": {
     "elapsed": 18,
     "status": "ok",
     "timestamp": 1636980168202,
     "user": {
      "displayName": "Eduardo Passeto",
      "photoUrl": "https://lh3.googleusercontent.com/a-/AOh14GjI6hyWqRLc_tvBbX89lELJagwb0PXyrM8cuapKGQ=s64",
      "userId": "17164463605285505900"
     },
     "user_tz": 180
    },
    "id": "c0-KwLnm6FjH",
    "outputId": "9ef05e43-c19d-4914-dd35-45a2d895ac10"
   },
   "outputs": [
    {
     "data": {
      "text/plain": [
       "'1'"
      ]
     },
     "execution_count": 67,
     "metadata": {},
     "output_type": "execute_result"
    }
   ],
   "source": [
    "str('1')"
   ]
  },
  {
   "cell_type": "code",
   "execution_count": 68,
   "metadata": {
    "id": "J3-oY-uU0sP1"
   },
   "outputs": [],
   "source": [
    "\n",
    "#########1#########2#########3#########4#########5#########6#########7#########8\n",
    "def fn_find_similar_user(df_user_item,\n",
    "                         user_id,\n",
    "                         max_usr=None,\n",
    "                         verbose=False):\n",
    "    '''This function takes a user_item matrix and calculates the dot product \n",
    "    (Cartesian product) between a user vector and the user_item matrix. The \n",
    "    idea is to compute how similars two users are.\n",
    "\n",
    "    If you think about the geometry behind this opperation, just imagine that\n",
    "    each item (in this case, an article) is a dimension in a n-dimensional\n",
    "    Cartesian space. Then consider each user as a vector. If a user viewed one\n",
    "    item, it expresses in that dimension as a 1. Else, he left no traces in that\n",
    "    dimmension.\n",
    "\n",
    "    So, the same thing with the second, and the third user, and so on. If this\n",
    "    other user have one dimmension in common, both had an expression in one of\n",
    "    the n-dimmensional space produced by the items. More dimmensions they have\n",
    "    in common, more they are simmilars!\n",
    "\n",
    "    The Pandas Cartesian product method let us make a huge computation, creating\n",
    "    a vector, containing in each row the information about the result of the\n",
    "    interaction with the user self vector and all the other vectors in the user-\n",
    "    item matrix.\n",
    "\n",
    "    One thing to consider is as this is a mathematical modelling, it also\n",
    "    produces the dot product of self-by-self. So we need to elliminate this\n",
    "    record, as it does not make sense for our purposes. (an user cannot take \n",
    "    himself as a nice recommendation source)\n",
    "\n",
    "    And finally, we expect that the most similar users (same past preferences)\n",
    "    could give us good insights for a new item to recommend to our user. (kind \n",
    "    of the \"past\" of an user with similar preferences can be the \"future\" for \n",
    "    our actual user)\n",
    "    \n",
    "    Inputs:\n",
    "    - user_item (mandatory) - (pandas dataframe) matrix of users by articles: \n",
    "      1's when a user has interacted with an article, 0 otherwise with index and\n",
    "      column names in numerical string format\n",
    "    - user_id (mandatory) - (int) a user_id\n",
    "    - num_max (optional) - if you want to inform the maximum number of entries\n",
    "      that you wish for your list (default=None)\n",
    "    - verbose (optional) - if you want some verbosity during the processing\n",
    "      (default=False)\n",
    "    Output:\n",
    "    - similar_user - (list) an ordered list where the closest users \n",
    "      (largest dot product users) are listed first\n",
    "    '''\n",
    "    if verbose:\n",
    "        print('###function find similar users started')\n",
    "\n",
    "    start = time()\n",
    "    user = df_user_item.loc[str(user_id)] #ID is string\n",
    "\n",
    "    if verbose:\n",
    "        print('user {} has {} articles viewed'\\\n",
    "              .format(user_id, user[user == 1].count()))\n",
    "\n",
    "    #first, compute the similarity\n",
    "    similar = df_user_item.dot(user) #for each user -> provided user\n",
    "    #second, remove his own ego from the series\n",
    "    similar = similar.drop('1') #bye bye himself!\n",
    "    #third, sort by similarity\n",
    "    similar_most = similar.sort_values(ascending=False)\n",
    "\n",
    "    if verbose:\n",
    "        print('*for reference: 10th value is', similar_most[9])\n",
    "    \n",
    "    #restrict maximum number of entries\n",
    "    if max_usr is not None:\n",
    "        similar_most = similar_most[:max_usr]\n",
    "\n",
    "    if verbose:\n",
    "        print('returning list of {} max users'.format(max_usr))\n",
    "\n",
    "    #finally, take an id list\n",
    "    similar_lst = similar_most.index.to_list()\n",
    "\n",
    "    end = time()\n",
    "    if verbose:\n",
    "        print('elapsed time: {:.4f}s'.format(end-start))\n",
    "\n",
    "    return similar_lst #users ids in order from most to least similar   "
   ]
  },
  {
   "cell_type": "markdown",
   "metadata": {
    "id": "tWv9xWoxD7lk"
   },
   "source": [
    "function `fn_find_similar_user` created!"
   ]
  },
  {
   "cell_type": "code",
   "execution_count": 69,
   "metadata": {
    "colab": {
     "base_uri": "https://localhost:8080/"
    },
    "executionInfo": {
     "elapsed": 304,
     "status": "ok",
     "timestamp": 1637000902035,
     "user": {
      "displayName": "Eduardo Passeto",
      "photoUrl": "https://lh3.googleusercontent.com/a-/AOh14GjI6hyWqRLc_tvBbX89lELJagwb0PXyrM8cuapKGQ=s64",
      "userId": "17164463605285505900"
     },
     "user_tz": 180
    },
    "id": "iPySGolHBeZZ",
    "outputId": "a7b566a0-53b9-425f-da0a-a9df66524678"
   },
   "outputs": [
    {
     "name": "stdout",
     "output_type": "stream",
     "text": [
      "###function find similar users started\n",
      "user 1 has 36 articles viewed\n",
      "*for reference: 10th value is 12.0\n",
      "returning list of 10 max users\n",
      "elapsed time: 0.0200s\n"
     ]
    },
    {
     "data": {
      "text/plain": [
       "['3933', '23', '3782', '4459', '203', '131', '3870', '46', '4201', '5041']"
      ]
     },
     "execution_count": 69,
     "metadata": {},
     "output_type": "execute_result"
    }
   ],
   "source": [
    "udc3.fn_find_similar_user(\n",
    "    df_user_item=df_user_item,\n",
    "    user_id='1',\n",
    "    max_usr=10,\n",
    "    verbose=True\n",
    ")"
   ]
  },
  {
   "cell_type": "code",
   "execution_count": 70,
   "metadata": {
    "colab": {
     "base_uri": "https://localhost:8080/"
    },
    "executionInfo": {
     "elapsed": 538,
     "status": "ok",
     "timestamp": 1636980186597,
     "user": {
      "displayName": "Eduardo Passeto",
      "photoUrl": "https://lh3.googleusercontent.com/a-/AOh14GjI6hyWqRLc_tvBbX89lELJagwb0PXyrM8cuapKGQ=s64",
      "userId": "17164463605285505900"
     },
     "user_tz": 180
    },
    "id": "aaKCa9_s0sP1",
    "outputId": "0883a0de-367b-4592-bee4-1e15e1f13c72"
   },
   "outputs": [
    {
     "name": "stdout",
     "output_type": "stream",
     "text": [
      "###function find similar users started\n",
      "user 1 has 36 articles viewed\n",
      "*for reference: 10th value is 12.0\n",
      "returning list of None max users\n",
      "elapsed time: 0.0410s\n",
      "The 10 most similar users to user 1 are: ['3933', '23', '3782', '4459', '203', '131', '3870', '46', '4201', '5041']\n",
      "###function find similar users started\n",
      "user 3933 has 35 articles viewed\n",
      "*for reference: 10th value is 12.0\n",
      "returning list of None max users\n",
      "elapsed time: 0.0650s\n",
      "The 5 most similar users to user 3933 are: ['3933', '3782', '23', '203', '4459']\n",
      "###function find similar users started\n",
      "user 46 has 40 articles viewed\n",
      "*for reference: 10th value is 16.0\n",
      "returning list of None max users\n",
      "elapsed time: 0.0450s\n",
      "The 3 most similar users to user 46 are: ['46', '4201', '3782']\n"
     ]
    }
   ],
   "source": [
    "# Do a spot check of your function\n",
    "print(\"The 10 most similar users to user 1 are: {}\"\\\n",
    "      .format(udc3.fn_find_similar_user(\n",
    "                  df_user_item=df_user_item,\n",
    "                  user_id=1,\n",
    "                  verbose=True)[:10]))\n",
    "print(\"The 5 most similar users to user 3933 are: {}\"\\\n",
    "      .format(udc3.fn_find_similar_user(\n",
    "                  df_user_item=df_user_item,\n",
    "                  user_id=3933,\n",
    "                  verbose=True)[:5]))\n",
    "print(\"The 3 most similar users to user 46 are: {}\"\\\n",
    "      .format(udc3.fn_find_similar_user(\n",
    "                  df_user_item=df_user_item,\n",
    "                  user_id=46,\n",
    "                  verbose=True)[:3]))"
   ]
  },
  {
   "cell_type": "markdown",
   "metadata": {
    "id": "P5fzsKAw0sP2"
   },
   "source": [
    "`3.` Now that you have a function that provides the most similar users to each user, you will want to use these users to find articles you can recommend.  Complete the functions below to return the articles you would recommend to each user. "
   ]
  },
  {
   "cell_type": "markdown",
   "metadata": {
    "id": "Va9VX_Z11Nj_"
   },
   "source": [
    "For **User 1**, find all items (articles) that had some interest to him."
   ]
  },
  {
   "cell_type": "code",
   "execution_count": 71,
   "metadata": {
    "colab": {
     "base_uri": "https://localhost:8080/"
    },
    "executionInfo": {
     "elapsed": 486,
     "status": "ok",
     "timestamp": 1636980193881,
     "user": {
      "displayName": "Eduardo Passeto",
      "photoUrl": "https://lh3.googleusercontent.com/a-/AOh14GjI6hyWqRLc_tvBbX89lELJagwb0PXyrM8cuapKGQ=s64",
      "userId": "17164463605285505900"
     },
     "user_tz": 180
    },
    "id": "pOINkNHupFUL",
    "outputId": "73dcb368-adfe-4598-c6c3-d6a64ccc858f"
   },
   "outputs": [
    {
     "name": "stdout",
     "output_type": "stream",
     "text": [
      "elapsed time: 0.002000s\n"
     ]
    },
    {
     "data": {
      "text/plain": [
       "article_id\n",
       "43     1.0\n",
       "109    1.0\n",
       "151    1.0\n",
       "268    1.0\n",
       "310    1.0\n",
       "Name: 1, dtype: float64"
      ]
     },
     "execution_count": 71,
     "metadata": {},
     "output_type": "execute_result"
    }
   ],
   "source": [
    "start = time()\n",
    "article = df_user_item.loc['1'][df_user_item.loc['1'] == 1]\n",
    "end = time()\n",
    "print('elapsed time: {:.6f}s'.format(end-start))\n",
    "\n",
    "article.head(5)"
   ]
  },
  {
   "cell_type": "code",
   "execution_count": 72,
   "metadata": {
    "colab": {
     "base_uri": "https://localhost:8080/"
    },
    "executionInfo": {
     "elapsed": 498,
     "status": "ok",
     "timestamp": 1636980197050,
     "user": {
      "displayName": "Eduardo Passeto",
      "photoUrl": "https://lh3.googleusercontent.com/a-/AOh14GjI6hyWqRLc_tvBbX89lELJagwb0PXyrM8cuapKGQ=s64",
      "userId": "17164463605285505900"
     },
     "user_tz": 180
    },
    "id": "JPZOxt6mPy3Q",
    "outputId": "adf3ec3d-685a-47bd-a3aa-c1ec9a5a85f8"
   },
   "outputs": [
    {
     "data": {
      "text/plain": [
       "[43, 109, 151, 268, 310]"
      ]
     },
     "execution_count": 72,
     "metadata": {},
     "output_type": "execute_result"
    }
   ],
   "source": [
    "ls1 = article.index.tolist()[0:5]\n",
    "ls1"
   ]
  },
  {
   "cell_type": "markdown",
   "metadata": {
    "id": "Nl7XF1v5D63L"
   },
   "source": [
    "Checking if the max number exceeds the list length, if it breaks:"
   ]
  },
  {
   "cell_type": "code",
   "execution_count": 73,
   "metadata": {
    "colab": {
     "base_uri": "https://localhost:8080/"
    },
    "executionInfo": {
     "elapsed": 298,
     "status": "ok",
     "timestamp": 1636934223922,
     "user": {
      "displayName": "Eduardo Passeto",
      "photoUrl": "https://lh3.googleusercontent.com/a-/AOh14GjI6hyWqRLc_tvBbX89lELJagwb0PXyrM8cuapKGQ=s64",
      "userId": "17164463605285505900"
     },
     "user_tz": 180
    },
    "id": "E1z1PeiLBa5M",
    "outputId": "e90f7497-8f2d-48ba-aa3f-229d027c9427"
   },
   "outputs": [
    {
     "data": {
      "text/plain": [
       "[43, 109, 151, 268, 310]"
      ]
     },
     "execution_count": 73,
     "metadata": {},
     "output_type": "execute_result"
    }
   ],
   "source": [
    "ls1[:10]"
   ]
  },
  {
   "cell_type": "markdown",
   "metadata": {
    "id": "E1VCPv_sFW9A"
   },
   "source": [
    "We could use as source for extracting the tile both **df_inter_enc** or **df_article**:\n",
    "\n",
    "- **df_article** is the speciallized dataframe for articles, and it must be considered the **most realliable** source of data\n",
    "\n",
    "- **df_article** also have a considerable less number of entries (as they could not repeat), so the search is faster\n",
    "\n",
    "- comment on functions tells us about using **df_article** kind of dataframe, so this will be our choice!"
   ]
  },
  {
   "cell_type": "code",
   "execution_count": 74,
   "metadata": {
    "colab": {
     "base_uri": "https://localhost:8080/"
    },
    "executionInfo": {
     "elapsed": 468,
     "status": "ok",
     "timestamp": 1636980204901,
     "user": {
      "displayName": "Eduardo Passeto",
      "photoUrl": "https://lh3.googleusercontent.com/a-/AOh14GjI6hyWqRLc_tvBbX89lELJagwb0PXyrM8cuapKGQ=s64",
      "userId": "17164463605285505900"
     },
     "user_tz": 180
    },
    "id": "wuGbE5jRFvAK",
    "outputId": "f25bb9d4-85de-4adf-eb7f-087d313865d0"
   },
   "outputs": [
    {
     "data": {
      "text/plain": [
       "article_id\n",
       "0    Detect Malfunctioning IoT Sensors with Streami...\n",
       "Name: doc_full_name, dtype: object"
      ]
     },
     "execution_count": 74,
     "metadata": {},
     "output_type": "execute_result"
    }
   ],
   "source": [
    "df_article['doc_full_name'].head(1)"
   ]
  },
  {
   "cell_type": "code",
   "execution_count": 75,
   "metadata": {
    "colab": {
     "base_uri": "https://localhost:8080/"
    },
    "executionInfo": {
     "elapsed": 461,
     "status": "ok",
     "timestamp": 1636980208337,
     "user": {
      "displayName": "Eduardo Passeto",
      "photoUrl": "https://lh3.googleusercontent.com/a-/AOh14GjI6hyWqRLc_tvBbX89lELJagwb0PXyrM8cuapKGQ=s64",
      "userId": "17164463605285505900"
     },
     "user_tz": 180
    },
    "id": "Wbm4hPdYE4pN",
    "outputId": "864d72be-3754-4578-a2f7-8bb9f7871dbe"
   },
   "outputs": [
    {
     "data": {
      "text/plain": [
       "article_id\n",
       "1430    using pixiedust for fast, flexible, and easier...\n",
       "Name: title, dtype: object"
      ]
     },
     "execution_count": 75,
     "metadata": {},
     "output_type": "execute_result"
    }
   ],
   "source": [
    "df_inter_enc['title'].head(1)"
   ]
  },
  {
   "cell_type": "code",
   "execution_count": 76,
   "metadata": {
    "colab": {
     "base_uri": "https://localhost:8080/"
    },
    "executionInfo": {
     "elapsed": 436,
     "status": "ok",
     "timestamp": 1636980214061,
     "user": {
      "displayName": "Eduardo Passeto",
      "photoUrl": "https://lh3.googleusercontent.com/a-/AOh14GjI6hyWqRLc_tvBbX89lELJagwb0PXyrM8cuapKGQ=s64",
      "userId": "17164463605285505900"
     },
     "user_tz": 180
    },
    "id": "2M9xEez6HUt8",
    "outputId": "34d4f34d-0acd-4a5e-dfdd-d4001c7b11bb"
   },
   "outputs": [
    {
     "data": {
      "text/plain": [
       "[43, 109, 151, 268, 310, 329, 346, 390, 494, 525]"
      ]
     },
     "execution_count": 76,
     "metadata": {},
     "output_type": "execute_result"
    }
   ],
   "source": [
    "ls2 = article.index.tolist()[0:10]\n",
    "ls2"
   ]
  },
  {
   "cell_type": "markdown",
   "metadata": {
    "id": "Ecyz6tPO7oTB"
   },
   "source": [
    "My new method, using Pandas Filter:"
   ]
  },
  {
   "cell_type": "code",
   "execution_count": 77,
   "metadata": {
    "colab": {
     "base_uri": "https://localhost:8080/",
     "height": 111
    },
    "executionInfo": {
     "elapsed": 480,
     "status": "ok",
     "timestamp": 1636980217146,
     "user": {
      "displayName": "Eduardo Passeto",
      "photoUrl": "https://lh3.googleusercontent.com/a-/AOh14GjI6hyWqRLc_tvBbX89lELJagwb0PXyrM8cuapKGQ=s64",
      "userId": "17164463605285505900"
     },
     "user_tz": 180
    },
    "id": "d_2sq-_fnHL6",
    "outputId": "a48e7482-bb44-44a8-bad1-b9a8937b43d0"
   },
   "outputs": [
    {
     "data": {
      "text/html": [
       "<div>\n",
       "<style scoped>\n",
       "    .dataframe tbody tr th:only-of-type {\n",
       "        vertical-align: middle;\n",
       "    }\n",
       "\n",
       "    .dataframe tbody tr th {\n",
       "        vertical-align: top;\n",
       "    }\n",
       "\n",
       "    .dataframe thead th {\n",
       "        text-align: right;\n",
       "    }\n",
       "</style>\n",
       "<table border=\"1\" class=\"dataframe\">\n",
       "  <thead>\n",
       "    <tr style=\"text-align: right;\">\n",
       "      <th></th>\n",
       "      <th>doc_body</th>\n",
       "      <th>doc_description</th>\n",
       "      <th>doc_full_name</th>\n",
       "      <th>doc_status</th>\n",
       "    </tr>\n",
       "    <tr>\n",
       "      <th>article_id</th>\n",
       "      <th></th>\n",
       "      <th></th>\n",
       "      <th></th>\n",
       "      <th></th>\n",
       "    </tr>\n",
       "  </thead>\n",
       "  <tbody>\n",
       "    <tr>\n",
       "      <th>0</th>\n",
       "      <td>Skip navigation Sign in SearchLoading...\\r\\n\\r...</td>\n",
       "      <td>Detect bad readings in real time using Python ...</td>\n",
       "      <td>Detect Malfunctioning IoT Sensors with Streami...</td>\n",
       "      <td>Live</td>\n",
       "    </tr>\n",
       "  </tbody>\n",
       "</table>\n",
       "</div>"
      ],
      "text/plain": [
       "                                                     doc_body  \\\n",
       "article_id                                                      \n",
       "0           Skip navigation Sign in SearchLoading...\\r\\n\\r...   \n",
       "\n",
       "                                              doc_description  \\\n",
       "article_id                                                      \n",
       "0           Detect bad readings in real time using Python ...   \n",
       "\n",
       "                                                doc_full_name doc_status  \n",
       "article_id                                                                \n",
       "0           Detect Malfunctioning IoT Sensors with Streami...       Live  "
      ]
     },
     "execution_count": 77,
     "metadata": {},
     "output_type": "execute_result"
    }
   ],
   "source": [
    "df_article.head(1)"
   ]
  },
  {
   "cell_type": "code",
   "execution_count": 78,
   "metadata": {
    "id": "UUySVG3s7Qwd"
   },
   "outputs": [],
   "source": [
    "art = df_article.filter(items=ls2, axis=0)['doc_full_name']"
   ]
  },
  {
   "cell_type": "code",
   "execution_count": 79,
   "metadata": {
    "colab": {
     "base_uri": "https://localhost:8080/"
    },
    "executionInfo": {
     "elapsed": 280,
     "status": "ok",
     "timestamp": 1636934529232,
     "user": {
      "displayName": "Eduardo Passeto",
      "photoUrl": "https://lh3.googleusercontent.com/a-/AOh14GjI6hyWqRLc_tvBbX89lELJagwb0PXyrM8cuapKGQ=s64",
      "userId": "17164463605285505900"
     },
     "user_tz": 180
    },
    "id": "_czuTUrg8CqA",
    "outputId": "4e21bdbc-20da-4d40-a3da-f8e94271c331"
   },
   "outputs": [
    {
     "data": {
      "text/plain": [
       "['Deep Learning With Tensorflow Course by Big Data University',\n",
       " 'TensorFlow Quick Tips',\n",
       " 'Jupyter Notebook Tutorial',\n",
       " 'Sector Correlations Shiny App',\n",
       " 'Time Series Prediction Using Recurrent Neural Networks (LSTMs)',\n",
       " 'Introduction to Market Basket Analysis in\\xa0Python',\n",
       " 'Fighting Gerrymandering: Using data science to draw fairer congressional districts',\n",
       " 'Introducing IBM Watson Studio ',\n",
       " 'Python For Loops Explained (Python for Data Science Basics #5)',\n",
       " 'New Shiny cheat sheet and video tutorial']"
      ]
     },
     "execution_count": 79,
     "metadata": {},
     "output_type": "execute_result"
    }
   ],
   "source": [
    "art.values.tolist()"
   ]
  },
  {
   "cell_type": "markdown",
   "metadata": {
    "id": "E0hObmMq7t7p"
   },
   "source": [
    "My old method (linear), iterating each item from a list"
   ]
  },
  {
   "cell_type": "code",
   "execution_count": 80,
   "metadata": {
    "colab": {
     "base_uri": "https://localhost:8080/",
     "height": 35
    },
    "executionInfo": {
     "elapsed": 464,
     "status": "ok",
     "timestamp": 1636980234189,
     "user": {
      "displayName": "Eduardo Passeto",
      "photoUrl": "https://lh3.googleusercontent.com/a-/AOh14GjI6hyWqRLc_tvBbX89lELJagwb0PXyrM8cuapKGQ=s64",
      "userId": "17164463605285505900"
     },
     "user_tz": 180
    },
    "id": "aqrtDQpwHdep",
    "outputId": "e5e83e38-4e06-48df-dab5-8a41a2c8c4ef"
   },
   "outputs": [
    {
     "data": {
      "text/plain": [
       "'Deep Learning With Tensorflow Course by Big Data University'"
      ]
     },
     "execution_count": 80,
     "metadata": {},
     "output_type": "execute_result"
    }
   ],
   "source": [
    "#for article in ls2:\n",
    "entry = df_article[df_article.index == 43]['doc_full_name']\n",
    "#entry.__dir__()\n",
    "entry.values[0]"
   ]
  },
  {
   "cell_type": "code",
   "execution_count": 81,
   "metadata": {
    "id": "aE_aj1Gp0sP2"
   },
   "outputs": [],
   "source": [
    "#########1#########2#########3#########4#########5#########6#########7#########8\n",
    "def fn_get_article_name(df,\n",
    "                        ls_article,\n",
    "                        alternative_df=False, \n",
    "                        verbose=False):\n",
    "    '''This function takes the articles IDs and return a list of the articles\n",
    "    titles.\n",
    "    \n",
    "    Inputs:\n",
    "      - df (mandatory) - an article detailing dataframe (Panda Dataframe)\n",
    "        *option 1: df_inter_enc (default) - dataset for working\n",
    "        *option 2: df_article (alternative) - an alternative dataset\n",
    "      - ls_article (mandatory) - a list of article ids (Python List)\n",
    "      - alternative_df (optional) - if you want to work with df_article, please\n",
    "        check it as True - (boolean, default=False)\n",
    "      - verbose (optional) - if you want some verbosity in your function -\n",
    "        (Boolean, default=False)\n",
    "    Output:\n",
    "      - art_name - a list of the name of the articles (Python List)\n",
    "    '''\n",
    "    if verbose:\n",
    "        print('###get article name started')        \n",
    "\n",
    "    start = time()\n",
    "\n",
    "    #improving robustness of the system\n",
    "    ls_aux = []\n",
    "    for art in ls_article:\n",
    "        ls_aux.append(int(float(art)))\n",
    "    ls_article = ls_aux\n",
    "    \n",
    "    if alternative_df: #df_article\n",
    "        if verbose:\n",
    "            print('working with df_article type of dataframe')\n",
    "        art = df.filter(items=ls_article, axis=0)['doc_full_name'] #collecting\n",
    "        art_name = art.values.tolist()\n",
    "    else: #df_inter_enc\n",
    "        if verbose:\n",
    "            print('working with df_inter_enc type of dataframe')\n",
    "        art_name = []\n",
    "\n",
    "        for art_id in ls_article: #collecting names\n",
    "            art_name.append(df[df.index == art_id]['title'].values[0])   \n",
    "    \n",
    "    end = time()\n",
    "\n",
    "    if verbose:\n",
    "        print('elapsed time: {:.6f}s'.format(end-start))\n",
    "    \n",
    "    return art_name #articles names for articles IDs"
   ]
  },
  {
   "cell_type": "markdown",
   "metadata": {
    "id": "1gfEgDWs5y4q"
   },
   "source": []
  },
  {
   "cell_type": "markdown",
   "metadata": {
    "id": "YOr0r9XSA0eg"
   },
   "source": [
    "function `fn_get_article_name` created!"
   ]
  },
  {
   "cell_type": "markdown",
   "metadata": {
    "id": "HqLzZC3M-KV_"
   },
   "source": [
    "**Special Note**\n",
    "\n",
    "I noticed that I prepared this `fn_get_article_name` function to work with the `df_article` dataset. When I go to the validation, I noticed that it works well with the values from `df_inter_enc` dataset.\n",
    "\n",
    "So, I adapted the function to work with **both** datasets. In a near future it can be valuable, as `df_article` dataset is more robust for this kind of data."
   ]
  },
  {
   "cell_type": "code",
   "execution_count": 82,
   "metadata": {
    "colab": {
     "base_uri": "https://localhost:8080/"
    },
    "executionInfo": {
     "elapsed": 474,
     "status": "ok",
     "timestamp": 1636980251390,
     "user": {
      "displayName": "Eduardo Passeto",
      "photoUrl": "https://lh3.googleusercontent.com/a-/AOh14GjI6hyWqRLc_tvBbX89lELJagwb0PXyrM8cuapKGQ=s64",
      "userId": "17164463605285505900"
     },
     "user_tz": 180
    },
    "id": "PbKfPJbD7EbK",
    "outputId": "0d51dacf-075c-4a67-af94-761455ca4cc0"
   },
   "outputs": [
    {
     "name": "stdout",
     "output_type": "stream",
     "text": [
      "using deep learning to reconstruct high-resolution audio\n",
      "build a python app on the streaming analytics service\n",
      "gosales transactions for naive bayes model\n",
      "healthcare python streaming application demo\n",
      "use r dataframes & ibm watson natural language understanding\n",
      "use xgboost, scikit-learn & ibm watson machine learning apis\n"
     ]
    }
   ],
   "source": [
    "ls_article = [1024, 1176, 1305, 1314, 1422, 1427]\n",
    "\n",
    "df = df_inter_enc\n",
    "for art_id in ls_article:\n",
    "  print(df[df.index == art_id]['title'].values[0])"
   ]
  },
  {
   "cell_type": "markdown",
   "metadata": {
    "id": "0-yln2sccYXU"
   },
   "source": [
    "Improving the robustness:\n",
    "\n",
    "- accepting **variable input** formats (it can deal with them)\n",
    "\n",
    "- in this case, taking data from `df_article` dataframe (**not** the default)"
   ]
  },
  {
   "cell_type": "code",
   "execution_count": 83,
   "metadata": {
    "colab": {
     "base_uri": "https://localhost:8080/"
    },
    "executionInfo": {
     "elapsed": 618,
     "status": "ok",
     "timestamp": 1636980258330,
     "user": {
      "displayName": "Eduardo Passeto",
      "photoUrl": "https://lh3.googleusercontent.com/a-/AOh14GjI6hyWqRLc_tvBbX89lELJagwb0PXyrM8cuapKGQ=s64",
      "userId": "17164463605285505900"
     },
     "user_tz": 180
    },
    "id": "iBSwTSFs3w30",
    "outputId": "ec86aac0-73ec-4f69-ac21-b2752af7a2da"
   },
   "outputs": [
    {
     "name": "stdout",
     "output_type": "stream",
     "text": [
      "###get article name started\n",
      "working with df_article type of dataframe\n",
      "elapsed time: 0.001998s\n"
     ]
    },
    {
     "data": {
      "text/plain": [
       "['Deep Learning With Tensorflow Course by Big Data University',\n",
       " 'TensorFlow Quick Tips',\n",
       " 'Jupyter Notebook Tutorial',\n",
       " 'Sector Correlations Shiny App',\n",
       " 'Time Series Prediction Using Recurrent Neural Networks (LSTMs)',\n",
       " 'Introduction to Market Basket Analysis in\\xa0Python',\n",
       " 'Fighting Gerrymandering: Using data science to draw fairer congressional districts',\n",
       " 'Introducing IBM Watson Studio ',\n",
       " 'Python For Loops Explained (Python for Data Science Basics #5)',\n",
       " 'New Shiny cheat sheet and video tutorial']"
      ]
     },
     "execution_count": 83,
     "metadata": {},
     "output_type": "execute_result"
    }
   ],
   "source": [
    "#ls2 = [43, 109, 151, 268, 310, 329, 346, 390, 494, 525]\n",
    "#ls2 = [43.0, 109.0, 151.0, 268.0, 310.0, 329.0, 346.0, 390.0, 494.0, 525.0]\n",
    "#ls2 = ['43', '109', '151', '268', '310', '329', '346', '390', '494', '525']\n",
    "ls2 = ['43.0', '109.0', '151.0', '268.0', '310.0', '329.0', '346.0', '390.0', '494.0', '525.0']\n",
    "\n",
    "#ls_aux = []\n",
    "#for art in ls2:\n",
    "#    ls_aux.append(int(float(art)))\n",
    "#ls2 = ls_aux\n",
    "\n",
    "udc3.fn_get_article_name(\n",
    "    df=df_article,\n",
    "    ls_article=ls2,\n",
    "    alternative_df=True,\n",
    "    verbose=True\n",
    ")"
   ]
  },
  {
   "cell_type": "markdown",
   "metadata": {
    "id": "cwiUGS20C-EO"
   },
   "source": [
    "Testing for our **main** dataset:\n",
    "\n",
    "- `df_inter_enc` in now our source of data (default)"
   ]
  },
  {
   "cell_type": "code",
   "execution_count": 84,
   "metadata": {
    "colab": {
     "base_uri": "https://localhost:8080/"
    },
    "executionInfo": {
     "elapsed": 492,
     "status": "ok",
     "timestamp": 1636980267925,
     "user": {
      "displayName": "Eduardo Passeto",
      "photoUrl": "https://lh3.googleusercontent.com/a-/AOh14GjI6hyWqRLc_tvBbX89lELJagwb0PXyrM8cuapKGQ=s64",
      "userId": "17164463605285505900"
     },
     "user_tz": 180
    },
    "id": "UZlVoK0NCPMY",
    "outputId": "c4a28a87-069f-46f8-b852-e02f8d12f050"
   },
   "outputs": [
    {
     "name": "stdout",
     "output_type": "stream",
     "text": [
      "###get article name started\n",
      "working with df_inter_enc type of dataframe\n",
      "elapsed time: 0.008993s\n"
     ]
    },
    {
     "data": {
      "text/plain": [
       "['using deep learning to reconstruct high-resolution audio',\n",
       " 'build a python app on the streaming analytics service',\n",
       " 'gosales transactions for naive bayes model',\n",
       " 'healthcare python streaming application demo',\n",
       " 'use r dataframes & ibm watson natural language understanding',\n",
       " 'use xgboost, scikit-learn & ibm watson machine learning apis']"
      ]
     },
     "execution_count": 84,
     "metadata": {},
     "output_type": "execute_result"
    }
   ],
   "source": [
    "#ls2 = [43, 109, 151, 268, 310, 329, 346, 390, 494, 525]\n",
    "#ls2 = ['1024.0', '1176.0', '1305.0', '1314.0', '1422.0', '1427.0']\n",
    "#ls2= ['1024', '1176', '1305', '1314', '1422', '1427']\n",
    "ls2 = [1024, 1176, 1305, 1314, 1422, 1427]\n",
    "\n",
    "udc3.fn_get_article_name(\n",
    "    df=df_inter_enc,\n",
    "    ls_article=ls2,\n",
    "    alternative_df=False,\n",
    "    verbose=True\n",
    ")"
   ]
  },
  {
   "cell_type": "code",
   "execution_count": 85,
   "metadata": {
    "id": "RH6h72y40sP2"
   },
   "outputs": [],
   "source": [
    "#########1#########2#########3#########4#########5#########6#########7#########8\n",
    "def fn_get_user_article(df_user_item,\n",
    "                        df_article,\n",
    "                        user_id, \n",
    "                        max_art=10,\n",
    "                        verbose=False):\n",
    "    '''This function gives a list of article_ids and article titles that have \n",
    "    been seen by a user.\n",
    "    \n",
    "    Inputs:\n",
    "      - df_user_item (mandatory) - a previously processed dataframe of users by \n",
    "        articles (Pandas Dataframe)\n",
    "        *it have an 1 when the article was viewed by an user (Pandas Dataframe)\n",
    "       - df_article (mandatory) - an article detailing dataframe \n",
    "        (Panda Dataframe)       \n",
    "      - user_id (mandatory) - an user id (Integer/String)\n",
    "      - max_art (optional) - maximum number of articles for each \n",
    "        (one user per time) - (default=None)\n",
    "      - verbose (optional) - if you want some verbosity in your function -\n",
    "        (Boolean, default=False)\n",
    "    Outputs:\n",
    "      - ls_id - (list) a Python list of the article ids accessed by the user\n",
    "      - ls_name - (list) a list of the names of the articles \n",
    "        (this is identified by the doc_full_name column in df_article)    \n",
    "    '''\n",
    "    if verbose:\n",
    "        print('###function get user article started')\n",
    "        \n",
    "    start = time()\n",
    "\n",
    "    #first, get article IDs that were rellevant to an user\n",
    "    article = user_item.loc[str(user_id)][df_user_item.loc[str(user_id)] == 1]\n",
    "    ls_id = article.index.tolist()[0:max_art]\n",
    "\n",
    "    if verbose:\n",
    "        print('return format: {} items'.format(max_art))\n",
    "\n",
    "    #second, get articles names\n",
    "    #you can alter this calling for using the alternative dataset!\n",
    "    ls_name = fn_get_article_name(\n",
    "                  df=df_inter_enc,\n",
    "                  ls_article=ls_id,\n",
    "                  alternative_df=False,\n",
    "                  verbose=verbose\n",
    "    )\n",
    "    end = time()\n",
    "    \n",
    "    if verbose:\n",
    "        print('elapsed time: {:.4f}s'.format(end-start))\n",
    "    \n",
    "    return ls_id, ls_name #list of ids and names"
   ]
  },
  {
   "cell_type": "markdown",
   "metadata": {
    "id": "7DF0RWvxOZOA"
   },
   "source": [
    "function `fn_get_user_article` created!"
   ]
  },
  {
   "cell_type": "markdown",
   "metadata": {
    "id": "sEqSJu73O_BE"
   },
   "source": [
    "Enhancing `fn_get_user_article` to give ids list in string format too:"
   ]
  },
  {
   "cell_type": "code",
   "execution_count": 86,
   "metadata": {
    "colab": {
     "base_uri": "https://localhost:8080/"
    },
    "executionInfo": {
     "elapsed": 427,
     "status": "ok",
     "timestamp": 1636980284121,
     "user": {
      "displayName": "Eduardo Passeto",
      "photoUrl": "https://lh3.googleusercontent.com/a-/AOh14GjI6hyWqRLc_tvBbX89lELJagwb0PXyrM8cuapKGQ=s64",
      "userId": "17164463605285505900"
     },
     "user_tz": 180
    },
    "id": "vsBca1sgOhu9",
    "outputId": "290d2370-5e32-4129-9e89-893098d8459d"
   },
   "outputs": [
    {
     "data": {
      "text/plain": [
       "['43', '109', '151', '268', '310', '329', '346', '390', '494', '525']"
      ]
     },
     "execution_count": 86,
     "metadata": {},
     "output_type": "execute_result"
    }
   ],
   "source": [
    "list_aux = []\n",
    "\n",
    "list_test = [43, 109, 151, 268, 310, 329, 346, 390, 494, 525]\n",
    "for item in list_test:\n",
    "    list_aux.append(str(item))\n",
    "\n",
    "list_test = list_aux\n",
    "list_test"
   ]
  },
  {
   "cell_type": "code",
   "execution_count": 87,
   "metadata": {
    "colab": {
     "base_uri": "https://localhost:8080/"
    },
    "executionInfo": {
     "elapsed": 472,
     "status": "ok",
     "timestamp": 1636980286734,
     "user": {
      "displayName": "Eduardo Passeto",
      "photoUrl": "https://lh3.googleusercontent.com/a-/AOh14GjI6hyWqRLc_tvBbX89lELJagwb0PXyrM8cuapKGQ=s64",
      "userId": "17164463605285505900"
     },
     "user_tz": 180
    },
    "id": "ERAw-ExsMQFV",
    "outputId": "dc11ac7c-d194-49e4-d130-ad4b2c5656f9"
   },
   "outputs": [
    {
     "name": "stdout",
     "output_type": "stream",
     "text": [
      "###function get user article started\n",
      "*traditional function behavior\n",
      "*return format: 10 items\n",
      "###get article name started\n",
      "working with df_inter_enc type of dataframe\n",
      "elapsed time: 0.011996s\n",
      "*returning articles IDs as strings\n",
      "elapsed time: 0.0140s\n"
     ]
    },
    {
     "data": {
      "text/plain": [
       "(['43', '109', '151', '268', '310', '329', '346', '390', '494', '525'],\n",
       " ['deep learning with tensorflow course by big data university',\n",
       "  'tensorflow quick tips',\n",
       "  'jupyter notebook tutorial',\n",
       "  'sector correlations shiny app',\n",
       "  'time series prediction using recurrent neural networks (lstms)',\n",
       "  'introduction to market basket analysis in\\xa0python',\n",
       "  'fighting gerrymandering: using data science to draw fairer congressional districts',\n",
       "  'introducing ibm watson studio ',\n",
       "  'python for loops explained (python for data science basics #5)',\n",
       "  'new shiny cheat sheet and video tutorial'])"
      ]
     },
     "execution_count": 87,
     "metadata": {},
     "output_type": "execute_result"
    }
   ],
   "source": [
    "udc3.fn_get_user_article(\n",
    "    df_user_item=df_user_item,\n",
    "    df=df_inter_enc,\n",
    "    user_id=1, \n",
    "    max_art=10,\n",
    "    id_as_str=True,\n",
    "    verbose=True\n",
    ")"
   ]
  },
  {
   "cell_type": "markdown",
   "metadata": {
    "id": "IcN4AuwfDHJg"
   },
   "source": [
    "Sketch for adding recommendations:"
   ]
  },
  {
   "cell_type": "code",
   "execution_count": 88,
   "metadata": {
    "colab": {
     "base_uri": "https://localhost:8080/"
    },
    "executionInfo": {
     "elapsed": 454,
     "status": "ok",
     "timestamp": 1636980292675,
     "user": {
      "displayName": "Eduardo Passeto",
      "photoUrl": "https://lh3.googleusercontent.com/a-/AOh14GjI6hyWqRLc_tvBbX89lELJagwb0PXyrM8cuapKGQ=s64",
      "userId": "17164463605285505900"
     },
     "user_tz": 180
    },
    "id": "vSh3l1DJBbtM",
    "outputId": "f53f5c57-c079-47a6-c54f-7bf6746112d9"
   },
   "outputs": [
    {
     "name": "stdout",
     "output_type": "stream",
     "text": [
      "more 4\n"
     ]
    },
    {
     "data": {
      "text/plain": [
       "[1, 2, 3, 4, 5, 6]"
      ]
     },
     "execution_count": 88,
     "metadata": {},
     "output_type": "execute_result"
    }
   ],
   "source": [
    "max_rec = 10\n",
    "rec_art = [1, 2, 3, 4, 5, 6]\n",
    "#rec_art = [1, 2, 3, 4, 5, 6, 7, 8, 9, 10]\n",
    "#rec_art = []\n",
    "#rec_new = ['1b', '2b', '3b', '4b', '5b', '6b']\n",
    "rec_new = []\n",
    "\n",
    "more = max_rec - len(rec_art)\n",
    "if more > 0:\n",
    "    print('more', more)\n",
    "    rec_art += rec_new[:more]\n",
    "\n",
    "if len(rec_art) == max_rec:\n",
    "    print('return result')\n",
    "elif len(rec_art) > max_rec:\n",
    "    raise Exception('something went wrong with recommendations')\n",
    "\n",
    "rec_art"
   ]
  },
  {
   "cell_type": "code",
   "execution_count": 89,
   "metadata": {
    "colab": {
     "base_uri": "https://localhost:8080/"
    },
    "executionInfo": {
     "elapsed": 477,
     "status": "ok",
     "timestamp": 1636980298029,
     "user": {
      "displayName": "Eduardo Passeto",
      "photoUrl": "https://lh3.googleusercontent.com/a-/AOh14GjI6hyWqRLc_tvBbX89lELJagwb0PXyrM8cuapKGQ=s64",
      "userId": "17164463605285505900"
     },
     "user_tz": 180
    },
    "id": "_oWtwo-CVCLe",
    "outputId": "efce19ba-5f9d-4613-f6ca-32f41a370f27"
   },
   "outputs": [
    {
     "data": {
      "text/plain": [
       "array([1, 2, 3, 4, 5, 6])"
      ]
     },
     "execution_count": 89,
     "metadata": {},
     "output_type": "execute_result"
    }
   ],
   "source": [
    "#ls1 = ['1', '2', '3', '4', '5', '6']\n",
    "#ls2 = ['1', '2', '3', '4', '5', '6', '7', '8', '9', '10']\n",
    "#ls1 = []\n",
    "ls1 = [1, 2, 3, 4, 5, 6]\n",
    "ls2 = [1, 2, 3, 4, 5, 6, 7, 8, 9, 10]\n",
    "rec_new = np.setdiff1d(np.asarray(ls1), np.asarray(ls2), assume_unique=True)\n",
    "rec_new\n",
    "np.asarray(ls1)"
   ]
  },
  {
   "cell_type": "code",
   "execution_count": 90,
   "metadata": {
    "colab": {
     "base_uri": "https://localhost:8080/"
    },
    "executionInfo": {
     "elapsed": 9,
     "status": "ok",
     "timestamp": 1636980299587,
     "user": {
      "displayName": "Eduardo Passeto",
      "photoUrl": "https://lh3.googleusercontent.com/a-/AOh14GjI6hyWqRLc_tvBbX89lELJagwb0PXyrM8cuapKGQ=s64",
      "userId": "17164463605285505900"
     },
     "user_tz": 180
    },
    "id": "ZaFaLPvKYk2O",
    "outputId": "5bb26f1b-9ef8-40d9-a0b0-74675be77927"
   },
   "outputs": [
    {
     "data": {
      "text/plain": [
       "{7, 8, 9, 10}"
      ]
     },
     "execution_count": 90,
     "metadata": {},
     "output_type": "execute_result"
    }
   ],
   "source": [
    "set(ls1) ^ set(ls2)"
   ]
  },
  {
   "cell_type": "code",
   "execution_count": 91,
   "metadata": {
    "id": "4cLdozww0sP2"
   },
   "outputs": [],
   "source": [
    "#########1#########2#########3#########4#########5#########6#########7#########8\n",
    "def fn_user_user_rec(df_user_item,\n",
    "                     df_article,\n",
    "                     user_id,\n",
    "                     max_art=None,\n",
    "                     max_usr=None,\n",
    "                     max_rec=10,\n",
    "                     verbose=False):\n",
    "    '''This function takes and user and gives recommendations of new articles \n",
    "    for him. The engine is based on cartesian (dot product) similarity.\n",
    "    \n",
    "    It works in this way:\n",
    "    1. First, I give a user-item matrix (preprocessed), and one user id;\n",
    "    2. Then, the system goes into the user-item matrix and retrieves all the\n",
    "       articles viewed by this user and stores it (we don´t want to recommend as\n",
    "       a new article something the user has already viewed!);\n",
    "    3. In sequence, the system calculates the dot product for the user-item\n",
    "       matrix vs specific user vector and order it by the better value,\n",
    "       decreasing and gives the list of the most similar users for this user;\n",
    "    4. And then, the systems iterate into the first most similar user, takes the\n",
    "       viewed articles by him and it they were not already been viewed by the\n",
    "       main user, then store it for recommendation;\n",
    "    5. Finally, if the recommendation list was not already complete, then the\n",
    "       system goes into de second most similar user and so on.\n",
    "\n",
    "    If the possibilities exausted and we had not found a complete recommendation\n",
    "    list, we just give up and give an incomplete (or in the worst case, a empty\n",
    "    list for recommendations for this user, based on users similarity).    \n",
    "    \n",
    "    Inputs:\n",
    "      - df_user_item (mandatory) - a previously processed dataframe of users by \n",
    "        articles (Pandas Dataframe)\n",
    "        *it have an 1 when the article was viewed by an user (Pandas Dataframe)\n",
    "       - user_id (mandatory) - an user id (Integer/String)\n",
    "       - df_article (mandatory) - an article detailing dataframe \n",
    "        (Panda Dataframe)       \n",
    "      - max_art (optional) - maximum number of articles for each other user\n",
    "        (one user per time) - (default=None)\n",
    "      - max_usr (optional) - maximum number of user for each other user\n",
    "        (one user per time) - (default=None)\n",
    "      - num_rec (optional) - the maximum number of recommendations you want for \n",
    "        the main user - (Integer, default=10)\n",
    "      - verbose (optional) - if you want some verbosity in your function -\n",
    "        (Boolean, default=False)\n",
    "    Output:\n",
    "      - rec - (list) a list of recommendations for the user\n",
    "      \n",
    "    Description:\n",
    "      Loops through the users based on closeness to the input user_id\n",
    "      For each user - finds articles the user hasn't seen before and provides them as recs\n",
    "      Does this until m recommendations are found\n",
    "    Notes:\n",
    "      Users who are the same closeness are chosen arbitrarily as the 'next' user\n",
    "      For the user where the number of recommended articles starts below m \n",
    "      and ends exceeding m, the last items are chosen arbitrarily\n",
    "    '''\n",
    "    if verbose:\n",
    "        print('###function user to user recommendations started')        \n",
    "\n",
    "    start1 = time()\n",
    "    rec_art = []\n",
    "\n",
    "    #get articles viewed by the main user\n",
    "    ls_art_view_id, ls_art_view_name = udc3.fn_get_user_article(\n",
    "                                           df_user_item=df_user_item,\n",
    "                                           df_article=df_article,\n",
    "                                           user_id=user_id, \n",
    "                                           max_art=max_art,\n",
    "                                           verbose=verbose\n",
    "    )\n",
    "    ls_sim_user = udc3.fn_find_similar_user(\n",
    "                      df_user_item=df_user_item,\n",
    "                      user_id=user_id,\n",
    "                      max_usr=max_usr,\n",
    "                      verbose=verbose\n",
    "    )\n",
    "    #iterating on new users\n",
    "    for user in ls_sim_user:\n",
    "        if verbose:\n",
    "            print('*searching new articles from user', user)\n",
    "        ls_sim_art_id, ls_sim_art_name = udc3.fn_get_user_article(\n",
    "                                           df_user_item=df_user_item,\n",
    "                                           df_article=df_article,\n",
    "                                           user_id=user, \n",
    "                                           max_art=max_art,\n",
    "                                           verbose=verbose\n",
    "        )\n",
    "        if verbose:\n",
    "            print('retrieved articles:', ls_sim_art_id)\n",
    "        #getting different articles from the new user\n",
    "        #rec_new = np.setdiff1d(\n",
    "        #              ls_sim_art_id, \n",
    "        #              ls_art_view_id, \n",
    "        #              assume_unique=True)\n",
    "        rec_new = list(set(ls_sim_art_id) ^set(ls_art_view_id))\n",
    "        if verbose:\n",
    "            print('new arts:', rec_new)\n",
    "        #adding new recommendations, if they exist    \n",
    "        if len(rec_new) > 0:\n",
    "            more = max_rec - len(rec_art)\n",
    "            rec_art = rec_art + rec_new[:more]\n",
    "            if verbose:\n",
    "                print('*adding {} new recommendations from user {}'\\\n",
    "                      .format(more, user))\n",
    "            #testing for earlier break\n",
    "            if len(rec_art) == max_rec:\n",
    "                if verbose:\n",
    "                    print('*earlier break condition reached')\n",
    "                break #earlier break condition\n",
    "            elif len(rec_art) > max_rec:\n",
    "                raise Exception('something went wrong with recommendations')\n",
    "    \n",
    "    end = time()\n",
    "\n",
    "    if verbose:\n",
    "        print('elapsed time: {:.6f}s'.format(end-start1))\n",
    "    \n",
    "    return rec_art #articles recommendation for this user_id    "
   ]
  },
  {
   "cell_type": "code",
   "execution_count": 92,
   "metadata": {
    "colab": {
     "base_uri": "https://localhost:8080/"
    },
    "executionInfo": {
     "elapsed": 468,
     "status": "ok",
     "timestamp": 1636980322444,
     "user": {
      "displayName": "Eduardo Passeto",
      "photoUrl": "https://lh3.googleusercontent.com/a-/AOh14GjI6hyWqRLc_tvBbX89lELJagwb0PXyrM8cuapKGQ=s64",
      "userId": "17164463605285505900"
     },
     "user_tz": 180
    },
    "id": "XK8xbSkq5kIO",
    "outputId": "51606687-6a16-489e-c126-796921d936fd"
   },
   "outputs": [
    {
     "name": "stdout",
     "output_type": "stream",
     "text": [
      "###function user to user recommendations started\n",
      "###function get user article started\n",
      "*traditional function behavior\n",
      "*return format: None items\n",
      "###get article name started\n",
      "working with df_inter_enc type of dataframe\n",
      "elapsed time: 0.060963s\n",
      "elapsed time: 0.0650s\n",
      "###function find similar users started\n",
      "user 1 has 36 articles viewed\n",
      "*for reference: 10th value is 12.0\n",
      "returning list of None max users\n",
      "elapsed time: 0.0420s\n",
      "*searching new articles from user 3933\n",
      "###function get user article started\n",
      "*traditional function behavior\n",
      "*return format: None items\n",
      "###get article name started\n",
      "working with df_inter_enc type of dataframe\n",
      "elapsed time: 0.072958s\n",
      "elapsed time: 0.0780s\n",
      "retrieved articles: [43, 109, 268, 310, 329, 346, 390, 494, 525, 585, 626, 668, 732, 768, 910, 968, 981, 1052, 1170, 1183, 1185, 1232, 1293, 1305, 1363, 1368, 1391, 1400, 1406, 1427, 1429, 1430, 1431, 1436, 1439]\n",
      "new arts: [151]\n",
      "*adding 10 new recommendations from user 3933\n",
      "*searching new articles from user 23\n",
      "###function get user article started\n",
      "*traditional function behavior\n",
      "*return format: None items\n",
      "###get article name started\n",
      "working with df_inter_enc type of dataframe\n",
      "elapsed time: 0.192881s\n",
      "elapsed time: 0.1989s\n",
      "retrieved articles: [2, 12, 14, 16, 26, 28, 29, 33, 43, 50, 74, 76, 108, 109, 120, 124, 131, 164, 193, 194, 210, 213, 221, 223, 236, 237, 241, 252, 253, 283, 295, 299, 302, 316, 336, 337, 339, 348, 359, 362, 367, 409, 422, 444, 477, 482, 510, 517, 524, 617, 634, 641, 656, 658, 665, 682, 693, 720, 721, 729, 744, 761, 800, 812, 821, 825, 833, 843, 887, 910, 939, 943, 952, 957, 967, 969, 973, 981, 996, 1000, 1014, 1025, 1051, 1052, 1101, 1148, 1159, 1160, 1162, 1163, 1164, 1165, 1166, 1170, 1171, 1172, 1176, 1181, 1185, 1276, 1277, 1291, 1293, 1298, 1299, 1304, 1305, 1314, 1330, 1332, 1336, 1338, 1343, 1351, 1354, 1357, 1360, 1364, 1366, 1367, 1368, 1386, 1391, 1393, 1395, 1396, 1423, 1427, 1428, 1429, 1430, 1431, 1432, 1436, 1439]\n",
      "new arts: [1025, 2, 517, 12, 525, 524, 14, 16, 26, 1051, 28, 29, 33, 50, 585, 74, 76, 1101, 617, 108, 626, 120, 634, 1148, 124, 641, 131, 1159, 1160, 1162, 1163, 1164, 1165, 1166, 656, 658, 1171, 1172, 151, 1176, 665, 668, 1181, 1183, 164, 682, 693, 193, 194, 1232, 720, 721, 210, 213, 729, 732, 221, 223, 744, 236, 237, 241, 761, 252, 253, 1276, 1277, 768, 1291, 268, 1298, 1299, 1304, 283, 800, 1314, 295, 299, 812, 302, 1330, 1332, 821, 310, 1336, 825, 1338, 316, 1343, 833, 1351, 329, 1354, 843, 1357, 336, 337, 1360, 1363, 339, 1364, 1366, 1367, 346, 348, 359, 362, 1386, 367, 1393, 1395, 1396, 887, 1400, 1406, 390, 1423, 1428, 1432, 409, 422, 939, 943, 952, 444, 957, 967, 968, 969, 973, 477, 482, 996, 1000, 494, 1014, 510]\n",
      "*adding 9 new recommendations from user 23\n",
      "*earlier break condition reached\n",
      "elapsed time: 0.387762s\n"
     ]
    },
    {
     "data": {
      "text/plain": [
       "[151, 1025, 2, 517, 12, 525, 524, 14, 16, 26]"
      ]
     },
     "execution_count": 92,
     "metadata": {},
     "output_type": "execute_result"
    }
   ],
   "source": [
    "udc3.fn_user_user_rec(\n",
    "    df_user_item=df_user_item,\n",
    "    df=df_inter_enc,\n",
    "    user_id=1,\n",
    "    max_art=None,\n",
    "    max_usr=None,\n",
    "    max_rec=10,\n",
    "    verbose=True\n",
    ")"
   ]
  },
  {
   "cell_type": "code",
   "execution_count": 93,
   "metadata": {
    "colab": {
     "base_uri": "https://localhost:8080/"
    },
    "executionInfo": {
     "elapsed": 500,
     "status": "ok",
     "timestamp": 1636980342819,
     "user": {
      "displayName": "Eduardo Passeto",
      "photoUrl": "https://lh3.googleusercontent.com/a-/AOh14GjI6hyWqRLc_tvBbX89lELJagwb0PXyrM8cuapKGQ=s64",
      "userId": "17164463605285505900"
     },
     "user_tz": 180
    },
    "id": "2jltdoHH0sP3",
    "outputId": "99d1d472-abfd-4f43-c895-63305e8e2a57"
   },
   "outputs": [
    {
     "name": "stdout",
     "output_type": "stream",
     "text": [
      "Articles for user 1: [151, 1025, 2, 517, 12, 525, 524, 14, 16, 26]\n"
     ]
    },
    {
     "data": {
      "text/plain": [
       "['jupyter notebook tutorial',\n",
       " 'data tidying in data science experience',\n",
       " 'this week in data science (april 18, 2017)',\n",
       " 'shaping data with ibm data refinery',\n",
       " 'timeseries data analysis of iot events by using jupyter notebook',\n",
       " 'new shiny cheat sheet and video tutorial',\n",
       " 'data science platforms are on the rise and ibm is leading the way',\n",
       " 'got zip code data? prep it for analytics. – ibm watson data lab – medium',\n",
       " 'higher-order logistic regression for large datasets',\n",
       " 'using machine learning to predict parking difficulty']"
      ]
     },
     "execution_count": 93,
     "metadata": {},
     "output_type": "execute_result"
    }
   ],
   "source": [
    "ls_art_usr1 = udc3.fn_user_user_rec(\n",
    "                  df_user_item=df_user_item,\n",
    "                  df=df_inter_enc,\n",
    "                  user_id=1,\n",
    "                  max_art=None,\n",
    "                  max_usr=None,\n",
    "                  max_rec=10,\n",
    "                  verbose=False\n",
    ")\n",
    "print('Articles for user 1:', ls_art_usr1)\n",
    "\n",
    "#Checking results - 10 recommendations for User 1\n",
    "udc3.fn_get_article_name(\n",
    "    df=df_inter_enc,\n",
    "    ls_article=ls_art_usr1,\n",
    "    alternative_df=False,\n",
    "    verbose=False\n",
    ")"
   ]
  },
  {
   "cell_type": "code",
   "execution_count": 94,
   "metadata": {
    "colab": {
     "base_uri": "https://localhost:8080/",
     "height": 35
    },
    "executionInfo": {
     "elapsed": 621,
     "status": "ok",
     "timestamp": 1636980384271,
     "user": {
      "displayName": "Eduardo Passeto",
      "photoUrl": "https://lh3.googleusercontent.com/a-/AOh14GjI6hyWqRLc_tvBbX89lELJagwb0PXyrM8cuapKGQ=s64",
      "userId": "17164463605285505900"
     },
     "user_tz": 180
    },
    "id": "of4-gE3sZe-y",
    "outputId": "f596a8a5-d835-4102-b292-1dab5f8f536e"
   },
   "outputs": [
    {
     "data": {
      "text/plain": [
       "'Using Deep Learning to Reconstruct High-Resolution Audio'"
      ]
     },
     "execution_count": 94,
     "metadata": {},
     "output_type": "execute_result"
    }
   ],
   "source": [
    "#int(float('43.0'))\n",
    "#ls2= ['1024', '1176', '1305', '1314', '1422', '1427']\n",
    "df_article.loc[1024]['doc_full_name']"
   ]
  },
  {
   "cell_type": "markdown",
   "metadata": {
    "id": "9AuB04l0otEK"
   },
   "source": [
    "Testing function enhancement for accomplishing Udacity requisites:\n",
    "\n",
    "- now `fn_get_user_article` is able to return `user_id` output in both formats, a **long integer** list or a **numeric string**\n",
    "\n",
    "- other functions of the system have the robustness enough to take both formats as IDs list input"
   ]
  },
  {
   "cell_type": "code",
   "execution_count": 95,
   "metadata": {
    "colab": {
     "base_uri": "https://localhost:8080/"
    },
    "executionInfo": {
     "elapsed": 448,
     "status": "ok",
     "timestamp": 1636980392507,
     "user": {
      "displayName": "Eduardo Passeto",
      "photoUrl": "https://lh3.googleusercontent.com/a-/AOh14GjI6hyWqRLc_tvBbX89lELJagwb0PXyrM8cuapKGQ=s64",
      "userId": "17164463605285505900"
     },
     "user_tz": 180
    },
    "id": "3i-2SidtNDaZ",
    "outputId": "cb04849f-c7bd-4824-ae55-8fb848d9d545"
   },
   "outputs": [
    {
     "data": {
      "text/plain": [
       "{'1320', '232', '844'}"
      ]
     },
     "execution_count": 95,
     "metadata": {},
     "output_type": "execute_result"
    }
   ],
   "source": [
    "set(udc3.fn_get_user_article(\n",
    "        df_user_item=df_user_item,\n",
    "        df=df_inter_enc,\n",
    "        user_id=20, \n",
    "        max_art=10,\n",
    "        id_as_str=True,\n",
    "        verbose=False)[0])"
   ]
  },
  {
   "cell_type": "code",
   "execution_count": 96,
   "metadata": {
    "colab": {
     "base_uri": "https://localhost:8080/"
    },
    "executionInfo": {
     "elapsed": 779,
     "status": "ok",
     "timestamp": 1636980536852,
     "user": {
      "displayName": "Eduardo Passeto",
      "photoUrl": "https://lh3.googleusercontent.com/a-/AOh14GjI6hyWqRLc_tvBbX89lELJagwb0PXyrM8cuapKGQ=s64",
      "userId": "17164463605285505900"
     },
     "user_tz": 180
    },
    "id": "SlQHteTVNzSm",
    "outputId": "368b7dda-41ba-417c-f0e8-bf4d7e318738"
   },
   "outputs": [
    {
     "data": {
      "text/plain": [
       "{'1024', '1176', '1305', '1314', '1422', '1427'}"
      ]
     },
     "execution_count": 96,
     "metadata": {},
     "output_type": "execute_result"
    }
   ],
   "source": [
    "set(udc3.fn_get_user_article(\n",
    "               df_user_item=df_user_item,\n",
    "               df=df_inter_enc,\n",
    "               user_id=2, \n",
    "               max_art=10,\n",
    "               id_as_str=True,\n",
    "               verbose=False\n",
    ")[0])"
   ]
  },
  {
   "cell_type": "code",
   "execution_count": 97,
   "metadata": {
    "colab": {
     "base_uri": "https://localhost:8080/"
    },
    "executionInfo": {
     "elapsed": 256,
     "status": "ok",
     "timestamp": 1637074002081,
     "user": {
      "displayName": "Eduardo Passeto",
      "photoUrl": "https://lh3.googleusercontent.com/a-/AOh14GjI6hyWqRLc_tvBbX89lELJagwb0PXyrM8cuapKGQ=s64",
      "userId": "17164463605285505900"
     },
     "user_tz": 180
    },
    "id": "1gOLGYvr0sP3",
    "outputId": "0d0d6a74-e151-4870-ddb3-e94ee00cc314"
   },
   "outputs": [
    {
     "name": "stdout",
     "output_type": "stream",
     "text": [
      "OK\n",
      "If this is all you see, you passed all of our tests!  Nice job!\n"
     ]
    }
   ],
   "source": [
    "# Test your functions here - No need to change this code - just run this cell\n",
    "ls_test1 = ['1024.0', '1176.0', '1305.0', '1314.0', '1422.0', '1427.0']\n",
    "assert set(udc3.fn_get_article_name(\n",
    "               df=df_inter_enc,\n",
    "               ls_article=ls_test1,\n",
    "               alternative_df=False,\n",
    "               verbose=False\n",
    ")) == set(\n",
    "    ['using deep learning to reconstruct high-resolution audio', \n",
    "     'build a python app on the streaming analytics service', \n",
    "     'gosales transactions for naive bayes model', \n",
    "     'healthcare python streaming application demo', \n",
    "     'use r dataframes & ibm watson natural language understanding', \n",
    "     'use xgboost, scikit-learn & ibm watson machine learning apis']),\\\n",
    "\"Oops! Your the get_article_names function doesn't work quite how we expect.\"\n",
    "\n",
    "ls_test2 = ['1320.0', '232.0', '844.0']\n",
    "assert set(udc3.fn_get_article_name(\n",
    "               df=df_inter_enc,\n",
    "               ls_article=ls_test2,\n",
    "               alternative_df=False,\n",
    "               verbose=False                               \n",
    ")) == set(\n",
    "    ['housing (2015): united states demographic measures',\n",
    "     'self-service data preparation with ibm data refinery',\n",
    "     'use the cloudant-spark connector in python notebook']),\\\n",
    "\"Oops! Your the get_article_names function doesn't work quite how we expect.\"\n",
    "\n",
    "assert set(udc3.fn_get_user_article(\n",
    "               df_user_item=df_user_item,\n",
    "               df=df_inter_enc,\n",
    "               user_id=20, \n",
    "               max_art=10,\n",
    "               id_as_str=True,\n",
    "               verbose=False\n",
    ")[0]) == set(['1320', '232', '844'])\n",
    "\n",
    "print('OK')\n",
    "\n",
    "assert set(udc3.fn_get_user_article(\n",
    "               df_user_item=df_user_item,\n",
    "               df=df_inter_enc,\n",
    "               user_id=20, \n",
    "               max_art=10,\n",
    "               id_as_str=True,\n",
    "               verbose=False\n",
    ")[1]) == set(\n",
    "    ['housing (2015): united states demographic measures', \n",
    "     'self-service data preparation with ibm data refinery',\n",
    "     'use the cloudant-spark connector in python notebook'])\n",
    "\n",
    "assert set(udc3.fn_get_user_article(\n",
    "               df_user_item=df_user_item,\n",
    "               df=df_inter_enc,\n",
    "               user_id=2,\n",
    "               max_art=10,\n",
    "               id_as_str=True,\n",
    "               verbose=False\n",
    ")[0]) == set(['1024', '1176', '1305', '1314', '1422', '1427'])\n",
    "\n",
    "assert set(udc3.fn_get_user_article(\n",
    "               df_user_item=df_user_item,\n",
    "               df=df_inter_enc,\n",
    "               user_id=2, \n",
    "               max_art=10,\n",
    "               id_as_str=True,\n",
    "               verbose=False\n",
    ")[1]) == set(\n",
    "    ['using deep learning to reconstruct high-resolution audio',\n",
    "     'build a python app on the streaming analytics service',\n",
    "     'gosales transactions for naive bayes model',\n",
    "     'healthcare python streaming application demo',\n",
    "     'use r dataframes & ibm watson natural language understanding',\n",
    "     'use xgboost, scikit-learn & ibm watson machine learning apis'])\n",
    "\n",
    "print(\"If this is all you see, you passed all of our tests!  Nice job!\")"
   ]
  },
  {
   "cell_type": "markdown",
   "metadata": {
    "id": "wVqNlwYl0sP3"
   },
   "source": [
    "`4.` Now we are going to improve the consistency of the **user_user_recs** function from above.  \n",
    "\n",
    "* Instead of arbitrarily choosing when we obtain users who are all the same closeness to a given user - choose the users that have the most total article interactions before choosing those with fewer article interactions.\n",
    "\n",
    "Translating this to my thinking:\n",
    "\n",
    "We have an **original** user → get **closer** users\n",
    "\n",
    "On **closers**:\n",
    "\n",
    "**old** → only cartesian closenes counts\n",
    "\n",
    "  - no **secondary** criteria.\n",
    "\n",
    "**new** → first, cartesian closenes\n",
    "\n",
    "  - next, for same score **closers**, **activity** counts\n",
    "\n",
    "  - **activity** concept: a **closer** that read more articles in the total, is a more active guy\n",
    "\n",
    "* Instead of arbitrarily choosing articles from the user where the number of recommended articles starts below m and ends exceeding m, choose articles with the articles with the most total interactions before choosing those with fewer total interactions. This ranking should be  what would be obtained from the **top_articles** function you wrote earlier.\n",
    "\n",
    "Translating:\n",
    "\n",
    "On **articles retrieved**:\n",
    "\n",
    "**old** → just get articles from the **closer** that were never accessed by the **original**\n",
    "\n",
    "**new** → from an **new** articles list, order them by the **most popular** ones\n",
    "\n",
    "  - **most popular** concept: articles counted as viewed more times, don´t matter if from a single, or multiple different users\n",
    "\n",
    "\n",
    "\n",
    "\n"
   ]
  },
  {
   "cell_type": "markdown",
   "metadata": {
    "id": "6bX-SYJ45Yfy"
   },
   "source": [
    "Discovering the most **active users**:"
   ]
  },
  {
   "cell_type": "code",
   "execution_count": 98,
   "metadata": {
    "colab": {
     "base_uri": "https://localhost:8080/"
    },
    "executionInfo": {
     "elapsed": 22,
     "status": "ok",
     "timestamp": 1637001636881,
     "user": {
      "displayName": "Eduardo Passeto",
      "photoUrl": "https://lh3.googleusercontent.com/a-/AOh14GjI6hyWqRLc_tvBbX89lELJagwb0PXyrM8cuapKGQ=s64",
      "userId": "17164463605285505900"
     },
     "user_tz": 180
    },
    "id": "hTQGgG8-qEEm",
    "outputId": "f66d1bfc-7420-47a7-fefe-1c529b00fe44"
   },
   "outputs": [
    {
     "data": {
      "text/plain": [
       "23      364\n",
       "3782    363\n",
       "98      170\n",
       "3764    169\n",
       "203     160\n",
       "       ... \n",
       "2856      1\n",
       "2855      1\n",
       "2854      1\n",
       "2853      1\n",
       "5149      1\n",
       "Name: user_id, Length: 5149, dtype: int64"
      ]
     },
     "execution_count": 98,
     "metadata": {},
     "output_type": "execute_result"
    }
   ],
   "source": [
    "user_activity = df_inter_enc['user_id'].value_counts()\n",
    "user_activity"
   ]
  },
  {
   "cell_type": "code",
   "execution_count": 99,
   "metadata": {
    "colab": {
     "base_uri": "https://localhost:8080/"
    },
    "executionInfo": {
     "elapsed": 327,
     "status": "ok",
     "timestamp": 1637001641861,
     "user": {
      "displayName": "Eduardo Passeto",
      "photoUrl": "https://lh3.googleusercontent.com/a-/AOh14GjI6hyWqRLc_tvBbX89lELJagwb0PXyrM8cuapKGQ=s64",
      "userId": "17164463605285505900"
     },
     "user_tz": 180
    },
    "id": "5yMvQJZvRB3g",
    "outputId": "80ab22e4-64a9-403a-a66e-4ac0b6a5abd6"
   },
   "outputs": [
    {
     "data": {
      "text/plain": [
       "23      364\n",
       "3782    363\n",
       "98      170\n",
       "3764    169\n",
       "203     160\n",
       "       ... \n",
       "1923      1\n",
       "1924      1\n",
       "1925      1\n",
       "1927      1\n",
       "5149      1\n",
       "Name: user_id, Length: 5149, dtype: int64"
      ]
     },
     "execution_count": 99,
     "metadata": {},
     "output_type": "execute_result"
    }
   ],
   "source": [
    "most_active_user = user_activity.sort_values(ascending=False)\n",
    "most_active_user"
   ]
  },
  {
   "cell_type": "code",
   "execution_count": 100,
   "metadata": {
    "colab": {
     "base_uri": "https://localhost:8080/",
     "height": 111
    },
    "executionInfo": {
     "elapsed": 19,
     "status": "ok",
     "timestamp": 1637001643256,
     "user": {
      "displayName": "Eduardo Passeto",
      "photoUrl": "https://lh3.googleusercontent.com/a-/AOh14GjI6hyWqRLc_tvBbX89lELJagwb0PXyrM8cuapKGQ=s64",
      "userId": "17164463605285505900"
     },
     "user_tz": 180
    },
    "id": "S91cRU-26pwM",
    "outputId": "3c4860c3-2ebb-4f1d-db02-ea080776d677"
   },
   "outputs": [
    {
     "data": {
      "text/html": [
       "<div>\n",
       "<style scoped>\n",
       "    .dataframe tbody tr th:only-of-type {\n",
       "        vertical-align: middle;\n",
       "    }\n",
       "\n",
       "    .dataframe tbody tr th {\n",
       "        vertical-align: top;\n",
       "    }\n",
       "\n",
       "    .dataframe thead th {\n",
       "        text-align: right;\n",
       "    }\n",
       "</style>\n",
       "<table border=\"1\" class=\"dataframe\">\n",
       "  <thead>\n",
       "    <tr style=\"text-align: right;\">\n",
       "      <th></th>\n",
       "      <th>title</th>\n",
       "      <th>user_id</th>\n",
       "    </tr>\n",
       "    <tr>\n",
       "      <th>article_id</th>\n",
       "      <th></th>\n",
       "      <th></th>\n",
       "    </tr>\n",
       "  </thead>\n",
       "  <tbody>\n",
       "    <tr>\n",
       "      <th>1430</th>\n",
       "      <td>using pixiedust for fast, flexible, and easier...</td>\n",
       "      <td>1</td>\n",
       "    </tr>\n",
       "  </tbody>\n",
       "</table>\n",
       "</div>"
      ],
      "text/plain": [
       "                                                        title user_id\n",
       "article_id                                                           \n",
       "1430        using pixiedust for fast, flexible, and easier...       1"
      ]
     },
     "execution_count": 100,
     "metadata": {},
     "output_type": "execute_result"
    }
   ],
   "source": [
    "df_inter_enc.head(1)"
   ]
  },
  {
   "cell_type": "code",
   "execution_count": 101,
   "metadata": {
    "colab": {
     "base_uri": "https://localhost:8080/"
    },
    "executionInfo": {
     "elapsed": 375,
     "status": "ok",
     "timestamp": 1637001630227,
     "user": {
      "displayName": "Eduardo Passeto",
      "photoUrl": "https://lh3.googleusercontent.com/a-/AOh14GjI6hyWqRLc_tvBbX89lELJagwb0PXyrM8cuapKGQ=s64",
      "userId": "17164463605285505900"
     },
     "user_tz": 180
    },
    "id": "BMTzoGTw6h0z",
    "outputId": "09de6c8a-f6c6-4346-f8f7-934d024df394"
   },
   "outputs": [
    {
     "data": {
      "text/plain": [
       "use deep learning for image classification                       937\n",
       "insights from new york car accident reports                      927\n",
       "visualize car data with brunel                                   671\n",
       "use xgboost, scikit-learn & ibm watson machine learning apis     643\n",
       "predicting churn with the spss random tree algorithm             627\n",
       "                                                                ... \n",
       "country statistics: crude oil - proved reserves                    1\n",
       "ibm data catalog overview                                          1\n",
       "airbnb data for analytics: oakland reviews                         1\n",
       "country statistics: crude oil - imports                            1\n",
       "build deep learning architectures with neural network modeler      1\n",
       "Name: title, Length: 714, dtype: int64"
      ]
     },
     "execution_count": 101,
     "metadata": {},
     "output_type": "execute_result"
    }
   ],
   "source": [
    "article_activity = df_inter_enc['title'].value_counts()\n",
    "article_activity\n",
    "\n",
    "most_viewed_article = article_activity.sort_values(ascending=False)\n",
    "most_viewed_article"
   ]
  },
  {
   "cell_type": "markdown",
   "metadata": {
    "id": "_0DYgnxg6Khv"
   },
   "source": [
    "Creating a \"similar\" dataframe:\n",
    "\n",
    "- this is strongly inspired in the tips in the article \"Different ways to create Pandas Dataframe\", [here](https://www.geeksforgeeks.org/different-ways-to-create-pandas-dataframe/)\n",
    "\n",
    "- this is also a process very similar to assemble a kind of **Doctor Frankenstein´s Monster**, so let´s to it **in parts**..."
   ]
  },
  {
   "cell_type": "code",
   "execution_count": 102,
   "metadata": {
    "colab": {
     "base_uri": "https://localhost:8080/",
     "height": 177
    },
    "executionInfo": {
     "elapsed": 322,
     "status": "ok",
     "timestamp": 1637004015338,
     "user": {
      "displayName": "Eduardo Passeto",
      "photoUrl": "https://lh3.googleusercontent.com/a-/AOh14GjI6hyWqRLc_tvBbX89lELJagwb0PXyrM8cuapKGQ=s64",
      "userId": "17164463605285505900"
     },
     "user_tz": 180
    },
    "id": "zY8hOt9qA5QV",
    "outputId": "0d6536ff-8f63-41ef-ed2f-d0110ca2b68d"
   },
   "outputs": [
    {
     "name": "stdout",
     "output_type": "stream",
     "text": [
      "whe have 5149 unique entries for Users\n"
     ]
    },
    {
     "data": {
      "text/html": [
       "<div>\n",
       "<style scoped>\n",
       "    .dataframe tbody tr th:only-of-type {\n",
       "        vertical-align: middle;\n",
       "    }\n",
       "\n",
       "    .dataframe tbody tr th {\n",
       "        vertical-align: top;\n",
       "    }\n",
       "\n",
       "    .dataframe thead th {\n",
       "        text-align: right;\n",
       "    }\n",
       "</style>\n",
       "<table border=\"1\" class=\"dataframe\">\n",
       "  <thead>\n",
       "    <tr style=\"text-align: right;\">\n",
       "      <th>article_id</th>\n",
       "      <th>0</th>\n",
       "      <th>2</th>\n",
       "      <th>4</th>\n",
       "      <th>8</th>\n",
       "      <th>9</th>\n",
       "      <th>12</th>\n",
       "      <th>14</th>\n",
       "      <th>15</th>\n",
       "      <th>16</th>\n",
       "      <th>18</th>\n",
       "      <th>...</th>\n",
       "      <th>1434</th>\n",
       "      <th>1435</th>\n",
       "      <th>1436</th>\n",
       "      <th>1437</th>\n",
       "      <th>1439</th>\n",
       "      <th>1440</th>\n",
       "      <th>1441</th>\n",
       "      <th>1442</th>\n",
       "      <th>1443</th>\n",
       "      <th>1444</th>\n",
       "    </tr>\n",
       "    <tr>\n",
       "      <th>user_id</th>\n",
       "      <th></th>\n",
       "      <th></th>\n",
       "      <th></th>\n",
       "      <th></th>\n",
       "      <th></th>\n",
       "      <th></th>\n",
       "      <th></th>\n",
       "      <th></th>\n",
       "      <th></th>\n",
       "      <th></th>\n",
       "      <th></th>\n",
       "      <th></th>\n",
       "      <th></th>\n",
       "      <th></th>\n",
       "      <th></th>\n",
       "      <th></th>\n",
       "      <th></th>\n",
       "      <th></th>\n",
       "      <th></th>\n",
       "      <th></th>\n",
       "      <th></th>\n",
       "    </tr>\n",
       "  </thead>\n",
       "  <tbody>\n",
       "    <tr>\n",
       "      <th>1</th>\n",
       "      <td>0.0</td>\n",
       "      <td>0.0</td>\n",
       "      <td>0.0</td>\n",
       "      <td>0.0</td>\n",
       "      <td>0.0</td>\n",
       "      <td>0.0</td>\n",
       "      <td>0.0</td>\n",
       "      <td>0.0</td>\n",
       "      <td>0.0</td>\n",
       "      <td>0.0</td>\n",
       "      <td>...</td>\n",
       "      <td>0.0</td>\n",
       "      <td>0.0</td>\n",
       "      <td>1.0</td>\n",
       "      <td>0.0</td>\n",
       "      <td>1.0</td>\n",
       "      <td>0.0</td>\n",
       "      <td>0.0</td>\n",
       "      <td>0.0</td>\n",
       "      <td>0.0</td>\n",
       "      <td>0.0</td>\n",
       "    </tr>\n",
       "  </tbody>\n",
       "</table>\n",
       "<p>1 rows × 714 columns</p>\n",
       "</div>"
      ],
      "text/plain": [
       "article_id  0     2     4     8     9     12    14    15    16    18    ...  \\\n",
       "user_id                                                                 ...   \n",
       "1            0.0   0.0   0.0   0.0   0.0   0.0   0.0   0.0   0.0   0.0  ...   \n",
       "\n",
       "article_id  1434  1435  1436  1437  1439  1440  1441  1442  1443  1444  \n",
       "user_id                                                                 \n",
       "1            0.0   0.0   1.0   0.0   1.0   0.0   0.0   0.0   0.0   0.0  \n",
       "\n",
       "[1 rows x 714 columns]"
      ]
     },
     "execution_count": 102,
     "metadata": {},
     "output_type": "execute_result"
    }
   ],
   "source": [
    "count_user = df_user_item.shape[0]\n",
    "print('whe have {} unique entries for Users'.format(count_user))\n",
    "df_user_item.head(1)"
   ]
  },
  {
   "cell_type": "markdown",
   "metadata": {
    "id": "3GuH5HugBHpx"
   },
   "source": [
    "First, I want something indexed by **user_id**:"
   ]
  },
  {
   "cell_type": "code",
   "execution_count": 103,
   "metadata": {
    "colab": {
     "base_uri": "https://localhost:8080/"
    },
    "executionInfo": {
     "elapsed": 330,
     "status": "ok",
     "timestamp": 1637008252723,
     "user": {
      "displayName": "Eduardo Passeto",
      "photoUrl": "https://lh3.googleusercontent.com/a-/AOh14GjI6hyWqRLc_tvBbX89lELJagwb0PXyrM8cuapKGQ=s64",
      "userId": "17164463605285505900"
     },
     "user_tz": 180
    },
    "id": "vSsGC0paAsX5",
    "outputId": "6eb07af7-adc4-4370-fca1-ef23e0ee4647"
   },
   "outputs": [
    {
     "data": {
      "text/plain": [
       "Index(['1', '10', '100', '1000', '1001', '1002', '1003', '1004', '1005',\n",
       "       '1006',\n",
       "       ...\n",
       "       '990', '991', '992', '993', '994', '995', '996', '997', '998', '999'],\n",
       "      dtype='object', name='user_id', length=5149)"
      ]
     },
     "execution_count": 103,
     "metadata": {},
     "output_type": "execute_result"
    }
   ],
   "source": [
    "series1 = df_user_item.index\n",
    "assert len(series1) == count_user\n",
    "series1"
   ]
  },
  {
   "cell_type": "markdown",
   "metadata": {
    "id": "rXrdgDJmC_5A"
   },
   "source": [
    "Second, I want a cartesian product between our `df_user_item` array and the **original user**: \n",
    "\n",
    "- this results in a **vector** with the same size as the number of **rows**, containing each entry (each dimmension) the simmilarity for each **other user**\n",
    "\n",
    "- higher this value, **closer** is this user with the **original**"
   ]
  },
  {
   "cell_type": "code",
   "execution_count": 104,
   "metadata": {
    "colab": {
     "base_uri": "https://localhost:8080/"
    },
    "executionInfo": {
     "elapsed": 322,
     "status": "ok",
     "timestamp": 1637008261544,
     "user": {
      "displayName": "Eduardo Passeto",
      "photoUrl": "https://lh3.googleusercontent.com/a-/AOh14GjI6hyWqRLc_tvBbX89lELJagwb0PXyrM8cuapKGQ=s64",
      "userId": "17164463605285505900"
     },
     "user_tz": 180
    },
    "id": "ZIdRYbBIC_F_",
    "outputId": "53f8f3ee-f9e4-4496-f5bf-e3c3a8b5a073"
   },
   "outputs": [
    {
     "data": {
      "text/plain": [
       "user_id\n",
       "1       36.0\n",
       "10       7.0\n",
       "100      0.0\n",
       "1000     0.0\n",
       "1001     1.0\n",
       "        ... \n",
       "995      4.0\n",
       "996      2.0\n",
       "997      0.0\n",
       "998      3.0\n",
       "999      0.0\n",
       "Length: 5149, dtype: float64"
      ]
     },
     "execution_count": 104,
     "metadata": {},
     "output_type": "execute_result"
    }
   ],
   "source": [
    "user_id = '1'\n",
    "main_user = df_user_item.loc[user_id]\n",
    "\n",
    "series2 = df_user_item.dot(main_user)#.values\n",
    "assert len(series2) == count_user\n",
    "series2"
   ]
  },
  {
   "cell_type": "markdown",
   "metadata": {
    "id": "1ksj0Us7FDcB"
   },
   "source": [
    "Third, I want an access count:    \n",
    "\n",
    "- who gives me this information is this nasty `df_inter_enc` dataframe, so I need to crush it now"
   ]
  },
  {
   "cell_type": "code",
   "execution_count": 105,
   "metadata": {
    "colab": {
     "base_uri": "https://localhost:8080/"
    },
    "executionInfo": {
     "elapsed": 384,
     "status": "ok",
     "timestamp": 1637015942123,
     "user": {
      "displayName": "Eduardo Passeto",
      "photoUrl": "https://lh3.googleusercontent.com/a-/AOh14GjI6hyWqRLc_tvBbX89lELJagwb0PXyrM8cuapKGQ=s64",
      "userId": "17164463605285505900"
     },
     "user_tz": 180
    },
    "id": "EZFksKHVFaih",
    "outputId": "fe54083e-8fc4-4657-f7cb-ea432e64417b"
   },
   "outputs": [
    {
     "data": {
      "text/plain": [
       "1       47\n",
       "10      22\n",
       "100     13\n",
       "1000     4\n",
       "1001     2\n",
       "        ..\n",
       "995     12\n",
       "996      8\n",
       "997      9\n",
       "998      8\n",
       "999      6\n",
       "Name: user_id, Length: 5149, dtype: int64"
      ]
     },
     "execution_count": 105,
     "metadata": {},
     "output_type": "execute_result"
    }
   ],
   "source": [
    "view_user = df_inter_enc.user_id.value_counts()\n",
    "series3 = view_user.sort_index()\n",
    "assert len(series3) == count_user\n",
    "series3"
   ]
  },
  {
   "cell_type": "markdown",
   "metadata": {
    "id": "kQbHRPf4GeXF"
   },
   "source": [
    "Things seems right, let´s assemble a **smaller monster** (example took from **geekforgeeks.org**)"
   ]
  },
  {
   "cell_type": "code",
   "execution_count": 106,
   "metadata": {
    "colab": {
     "base_uri": "https://localhost:8080/",
     "height": 173
    },
    "executionInfo": {
     "elapsed": 359,
     "status": "ok",
     "timestamp": 1637008275656,
     "user": {
      "displayName": "Eduardo Passeto",
      "photoUrl": "https://lh3.googleusercontent.com/a-/AOh14GjI6hyWqRLc_tvBbX89lELJagwb0PXyrM8cuapKGQ=s64",
      "userId": "17164463605285505900"
     },
     "user_tz": 180
    },
    "id": "IWyUjZds_nlD",
    "outputId": "73b16ae0-f615-488d-da1f-a3145a25ba54"
   },
   "outputs": [
    {
     "data": {
      "text/html": [
       "<div>\n",
       "<style scoped>\n",
       "    .dataframe tbody tr th:only-of-type {\n",
       "        vertical-align: middle;\n",
       "    }\n",
       "\n",
       "    .dataframe tbody tr th {\n",
       "        vertical-align: top;\n",
       "    }\n",
       "\n",
       "    .dataframe thead th {\n",
       "        text-align: right;\n",
       "    }\n",
       "</style>\n",
       "<table border=\"1\" class=\"dataframe\">\n",
       "  <thead>\n",
       "    <tr style=\"text-align: right;\">\n",
       "      <th></th>\n",
       "      <th>closer_id</th>\n",
       "      <th>cartesian_similarity</th>\n",
       "      <th>access_count</th>\n",
       "    </tr>\n",
       "  </thead>\n",
       "  <tbody>\n",
       "    <tr>\n",
       "      <th>0</th>\n",
       "      <td>Tom</td>\n",
       "      <td>20</td>\n",
       "      <td>1</td>\n",
       "    </tr>\n",
       "    <tr>\n",
       "      <th>1</th>\n",
       "      <td>nick</td>\n",
       "      <td>21</td>\n",
       "      <td>2</td>\n",
       "    </tr>\n",
       "    <tr>\n",
       "      <th>2</th>\n",
       "      <td>krish</td>\n",
       "      <td>19</td>\n",
       "      <td>3</td>\n",
       "    </tr>\n",
       "    <tr>\n",
       "      <th>3</th>\n",
       "      <td>jack</td>\n",
       "      <td>18</td>\n",
       "      <td>4</td>\n",
       "    </tr>\n",
       "  </tbody>\n",
       "</table>\n",
       "</div>"
      ],
      "text/plain": [
       "  closer_id  cartesian_similarity  access_count\n",
       "0       Tom                    20             1\n",
       "1      nick                    21             2\n",
       "2     krish                    19             3\n",
       "3      jack                    18             4"
      ]
     },
     "execution_count": 106,
     "metadata": {},
     "output_type": "execute_result"
    }
   ],
   "source": [
    "data = {\n",
    "    'closer_id': ['Tom', 'nick', 'krish', 'jack'],\n",
    "    'cartesian_similarity': [20, 21, 19, 18],\n",
    "    'access_count': [1 , 2 , 3 , 4]\n",
    "}\n",
    "df_closer = pd.DataFrame(data)\n",
    "df_closer"
   ]
  },
  {
   "cell_type": "markdown",
   "metadata": {
    "id": "uj1kGcpmGanr"
   },
   "source": [
    "Now it´s time for action, let´s try it!\n",
    "\n",
    "- you can see that `user_id` is sorted as **string** and not as **number**. So if you want a \"correct\" order, `1` should be written as `0001`, and `10` should be `0010` and so on.\n",
    "\n",
    "- but the three Series are ordered by the same criteria, so it is not quite a problem to join them all!"
   ]
  },
  {
   "cell_type": "code",
   "execution_count": 107,
   "metadata": {
    "colab": {
     "base_uri": "https://localhost:8080/",
     "height": 235
    },
    "executionInfo": {
     "elapsed": 334,
     "status": "ok",
     "timestamp": 1637008283000,
     "user": {
      "displayName": "Eduardo Passeto",
      "photoUrl": "https://lh3.googleusercontent.com/a-/AOh14GjI6hyWqRLc_tvBbX89lELJagwb0PXyrM8cuapKGQ=s64",
      "userId": "17164463605285505900"
     },
     "user_tz": 180
    },
    "id": "pKYtTRkcG1St",
    "outputId": "9c08b75e-3a20-499e-febb-6958f98fdb81"
   },
   "outputs": [
    {
     "data": {
      "text/html": [
       "<div>\n",
       "<style scoped>\n",
       "    .dataframe tbody tr th:only-of-type {\n",
       "        vertical-align: middle;\n",
       "    }\n",
       "\n",
       "    .dataframe tbody tr th {\n",
       "        vertical-align: top;\n",
       "    }\n",
       "\n",
       "    .dataframe thead th {\n",
       "        text-align: right;\n",
       "    }\n",
       "</style>\n",
       "<table border=\"1\" class=\"dataframe\">\n",
       "  <thead>\n",
       "    <tr style=\"text-align: right;\">\n",
       "      <th></th>\n",
       "      <th>cartesian_similarity</th>\n",
       "      <th>access_count</th>\n",
       "    </tr>\n",
       "    <tr>\n",
       "      <th>user_id</th>\n",
       "      <th></th>\n",
       "      <th></th>\n",
       "    </tr>\n",
       "  </thead>\n",
       "  <tbody>\n",
       "    <tr>\n",
       "      <th>1</th>\n",
       "      <td>36.0</td>\n",
       "      <td>47</td>\n",
       "    </tr>\n",
       "    <tr>\n",
       "      <th>10</th>\n",
       "      <td>7.0</td>\n",
       "      <td>22</td>\n",
       "    </tr>\n",
       "    <tr>\n",
       "      <th>100</th>\n",
       "      <td>0.0</td>\n",
       "      <td>13</td>\n",
       "    </tr>\n",
       "    <tr>\n",
       "      <th>1000</th>\n",
       "      <td>0.0</td>\n",
       "      <td>4</td>\n",
       "    </tr>\n",
       "    <tr>\n",
       "      <th>1001</th>\n",
       "      <td>1.0</td>\n",
       "      <td>2</td>\n",
       "    </tr>\n",
       "  </tbody>\n",
       "</table>\n",
       "</div>"
      ],
      "text/plain": [
       "         cartesian_similarity  access_count\n",
       "user_id                                    \n",
       "1                        36.0            47\n",
       "10                        7.0            22\n",
       "100                       0.0            13\n",
       "1000                      0.0             4\n",
       "1001                      1.0             2"
      ]
     },
     "execution_count": 107,
     "metadata": {},
     "output_type": "execute_result"
    }
   ],
   "source": [
    "data = {\n",
    "    'cartesian_similarity': series2,\n",
    "    'access_count': series3\n",
    "}\n",
    "df_closer = pd.DataFrame(data, index=series1)\n",
    "df_closer.head(5)"
   ]
  },
  {
   "cell_type": "markdown",
   "metadata": {
    "id": "v1QZlNarSuSf"
   },
   "source": [
    "Another way to make the joining:\n",
    "\n",
    "- from Pandas Documentation, this [tutorial](https://pandas.pydata.org/pandas-docs/stable/user_guide/merging.html) is excellent!\n",
    "\n",
    "- so, I need to process only **two** series and this method looks more efficient. So I will use it!\n",
    "\n",
    "- and I don´t need to **sort** series3 when using this method, as my data is treted as two Pandas Series (and not three lists)"
   ]
  },
  {
   "cell_type": "code",
   "execution_count": 108,
   "metadata": {
    "colab": {
     "base_uri": "https://localhost:8080/",
     "height": 252
    },
    "executionInfo": {
     "elapsed": 384,
     "status": "ok",
     "timestamp": 1637016864616,
     "user": {
      "displayName": "Eduardo Passeto",
      "photoUrl": "https://lh3.googleusercontent.com/a-/AOh14GjI6hyWqRLc_tvBbX89lELJagwb0PXyrM8cuapKGQ=s64",
      "userId": "17164463605285505900"
     },
     "user_tz": 180
    },
    "id": "ytgG9kMkSMoQ",
    "outputId": "e0efccf9-0333-44ea-f32b-78cb0b7ec659"
   },
   "outputs": [
    {
     "name": "stdout",
     "output_type": "stream",
     "text": [
      "rows for the new dataset: 5149\n"
     ]
    },
    {
     "data": {
      "text/html": [
       "<div>\n",
       "<style scoped>\n",
       "    .dataframe tbody tr th:only-of-type {\n",
       "        vertical-align: middle;\n",
       "    }\n",
       "\n",
       "    .dataframe tbody tr th {\n",
       "        vertical-align: top;\n",
       "    }\n",
       "\n",
       "    .dataframe thead th {\n",
       "        text-align: right;\n",
       "    }\n",
       "</style>\n",
       "<table border=\"1\" class=\"dataframe\">\n",
       "  <thead>\n",
       "    <tr style=\"text-align: right;\">\n",
       "      <th></th>\n",
       "      <th>cartesian_similarity</th>\n",
       "      <th>access_count</th>\n",
       "    </tr>\n",
       "    <tr>\n",
       "      <th>user_id</th>\n",
       "      <th></th>\n",
       "      <th></th>\n",
       "    </tr>\n",
       "  </thead>\n",
       "  <tbody>\n",
       "    <tr>\n",
       "      <th>1</th>\n",
       "      <td>36.0</td>\n",
       "      <td>47</td>\n",
       "    </tr>\n",
       "    <tr>\n",
       "      <th>10</th>\n",
       "      <td>7.0</td>\n",
       "      <td>22</td>\n",
       "    </tr>\n",
       "    <tr>\n",
       "      <th>100</th>\n",
       "      <td>0.0</td>\n",
       "      <td>13</td>\n",
       "    </tr>\n",
       "    <tr>\n",
       "      <th>1000</th>\n",
       "      <td>0.0</td>\n",
       "      <td>4</td>\n",
       "    </tr>\n",
       "    <tr>\n",
       "      <th>1001</th>\n",
       "      <td>1.0</td>\n",
       "      <td>2</td>\n",
       "    </tr>\n",
       "  </tbody>\n",
       "</table>\n",
       "</div>"
      ],
      "text/plain": [
       "         cartesian_similarity  access_count\n",
       "user_id                                    \n",
       "1                        36.0            47\n",
       "10                        7.0            22\n",
       "100                       0.0            13\n",
       "1000                      0.0             4\n",
       "1001                      1.0             2"
      ]
     },
     "execution_count": 108,
     "metadata": {},
     "output_type": "execute_result"
    }
   ],
   "source": [
    "user_id = '1'\n",
    "main_user = df_user_item.loc[user_id]\n",
    "series2 = df_user_item.dot(main_user)\n",
    "series3 = df_inter_enc.user_id.value_counts()\n",
    "\n",
    "df_closer = pd.concat([series2, series3], axis=1)\n",
    "df_closer.columns = ['cartesian_similarity', 'access_count']\n",
    "df_closer.index.name = 'user_id'\n",
    "\n",
    "print('rows for the new dataset: {}'.format(df_closer.shape[0]))\n",
    "df_closer.head(5)"
   ]
  },
  {
   "cell_type": "markdown",
   "metadata": {
    "id": "q3c683EBZps8"
   },
   "source": [
    "Removing self"
   ]
  },
  {
   "cell_type": "code",
   "execution_count": 109,
   "metadata": {
    "colab": {
     "base_uri": "https://localhost:8080/"
    },
    "executionInfo": {
     "elapsed": 344,
     "status": "ok",
     "timestamp": 1637016954228,
     "user": {
      "displayName": "Eduardo Passeto",
      "photoUrl": "https://lh3.googleusercontent.com/a-/AOh14GjI6hyWqRLc_tvBbX89lELJagwb0PXyrM8cuapKGQ=s64",
      "userId": "17164463605285505900"
     },
     "user_tz": 180
    },
    "id": "yTGs9Lp_ZqHe",
    "outputId": "e999789e-f058-452d-f57e-3b5dc0f3f3c2"
   },
   "outputs": [
    {
     "name": "stdout",
     "output_type": "stream",
     "text": [
      "*rows after self removal: 5148\n"
     ]
    }
   ],
   "source": [
    "df_closer = df_closer[df_closer.index != user_id]\n",
    "print('*rows after self removal: {}'.format(df_closer.shape[0]))"
   ]
  },
  {
   "cell_type": "markdown",
   "metadata": {
    "id": "N_Yq7ZaC0OYw"
   },
   "source": [
    "Sorting by a double criteria:    \n",
    "\n",
    "- first `cartesian_similarity`\n",
    "\n",
    "- then `access_count`"
   ]
  },
  {
   "cell_type": "code",
   "execution_count": 110,
   "metadata": {
    "colab": {
     "base_uri": "https://localhost:8080/",
     "height": 235
    },
    "executionInfo": {
     "elapsed": 345,
     "status": "ok",
     "timestamp": 1637017500237,
     "user": {
      "displayName": "Eduardo Passeto",
      "photoUrl": "https://lh3.googleusercontent.com/a-/AOh14GjI6hyWqRLc_tvBbX89lELJagwb0PXyrM8cuapKGQ=s64",
      "userId": "17164463605285505900"
     },
     "user_tz": 180
    },
    "id": "ndjXprZJ0O3C",
    "outputId": "3a553c9b-11a0-496c-a2e2-05490f1ef35a"
   },
   "outputs": [
    {
     "data": {
      "text/html": [
       "<div>\n",
       "<style scoped>\n",
       "    .dataframe tbody tr th:only-of-type {\n",
       "        vertical-align: middle;\n",
       "    }\n",
       "\n",
       "    .dataframe tbody tr th {\n",
       "        vertical-align: top;\n",
       "    }\n",
       "\n",
       "    .dataframe thead th {\n",
       "        text-align: right;\n",
       "    }\n",
       "</style>\n",
       "<table border=\"1\" class=\"dataframe\">\n",
       "  <thead>\n",
       "    <tr style=\"text-align: right;\">\n",
       "      <th>user=1</th>\n",
       "      <th>cartesian_similarity</th>\n",
       "      <th>access_count</th>\n",
       "    </tr>\n",
       "    <tr>\n",
       "      <th>user_id</th>\n",
       "      <th></th>\n",
       "      <th></th>\n",
       "    </tr>\n",
       "  </thead>\n",
       "  <tbody>\n",
       "    <tr>\n",
       "      <th>3933</th>\n",
       "      <td>35.0</td>\n",
       "      <td>45</td>\n",
       "    </tr>\n",
       "    <tr>\n",
       "      <th>23</th>\n",
       "      <td>17.0</td>\n",
       "      <td>364</td>\n",
       "    </tr>\n",
       "    <tr>\n",
       "      <th>3782</th>\n",
       "      <td>17.0</td>\n",
       "      <td>363</td>\n",
       "    </tr>\n",
       "    <tr>\n",
       "      <th>203</th>\n",
       "      <td>15.0</td>\n",
       "      <td>160</td>\n",
       "    </tr>\n",
       "    <tr>\n",
       "      <th>4459</th>\n",
       "      <td>15.0</td>\n",
       "      <td>158</td>\n",
       "    </tr>\n",
       "  </tbody>\n",
       "</table>\n",
       "</div>"
      ],
      "text/plain": [
       "user=1   cartesian_similarity  access_count\n",
       "user_id                                    \n",
       "3933                     35.0            45\n",
       "23                       17.0           364\n",
       "3782                     17.0           363\n",
       "203                      15.0           160\n",
       "4459                     15.0           158"
      ]
     },
     "execution_count": 110,
     "metadata": {},
     "output_type": "execute_result"
    }
   ],
   "source": [
    "df_closer = df_closer.sort_values(\n",
    "                by=['cartesian_similarity', 'access_count'], \n",
    "                ascending=False\n",
    ")\n",
    "df_closer.columns.name = 'user=' + user_id\n",
    "df_closer.head(5)"
   ]
  },
  {
   "cell_type": "code",
   "execution_count": 111,
   "metadata": {
    "id": "e6GtFti30sP3"
   },
   "outputs": [],
   "source": [
    "#########1#########2#########3#########4#########5#########6#########7#########8\n",
    "def fn_get_top_sorted_user(df_user_item,\n",
    "                           df_inter_enc,\n",
    "                           user_id, \n",
    "                           verbose=False):\n",
    "    '''This function takes two dataframes and creates, for one user, a list of\n",
    "    nearest users by two criteria.\n",
    "    Inputs:\n",
    "      - df_user_item (mandatory) - a dataframe in the shape users vs items\n",
    "        (articles) - (Pandas Dataframe)\n",
    "      - df_inter_enc (mandatory) - a dataframe connecting user IDs and items \n",
    "        IDs in a way that it looks like a intermediary dataframe (n-users \n",
    "        viewed m-items) - (Pandas Dataframe)\n",
    "      - user_id (mandatory) - (integer/string) - an User ID for being our\n",
    "        original User, from the viewpoint of our search\n",
    "      - verbose (optional) - if you want some verbosity during the processing,\n",
    "        please turn it on\n",
    "    Output:\n",
    "      - a Pandas dataframe, sorted by two different criteria for choosing a\n",
    "        nearest user for it\n",
    "    ''' \n",
    "    if verbose:\n",
    "        print('###function get top sorted users started')\n",
    "        \n",
    "    start = time()\n",
    "    user_id = str(user_id) #ensure that ID will be a numerical string\n",
    "\n",
    "    #first step, creating dataframe\n",
    "    #extracting self vector\n",
    "    main_user = df_user_item.loc[user_id]\n",
    "    #making the dot product\n",
    "    series2 = df_user_item.dot(main_user)\n",
    "    #making access counts\n",
    "    series3 = df_inter_enc.user_id.value_counts()\n",
    "    #concatenating both series\n",
    "    df_closer = pd.concat([series2, series3], axis=1)\n",
    "    df_closer.columns = ['cartesian_similarity', 'access_count']\n",
    "    df_closer.index.name = 'user_id'\n",
    "    if verbose:\n",
    "        print('rows for the new dataset: {}'.format(df_closer.shape[0]))\n",
    "\n",
    "    #second step, removing self\n",
    "    df_closer = df_closer[df_closer.index != user_id]\n",
    "    if verbose:\n",
    "        print('*rows after self removal: {}'.format(df_closer.shape[0]))\n",
    "\n",
    "    #third step, sorting & embellishing\n",
    "    df_closer = df_closer.sort_values(\n",
    "                by=['cartesian_similarity', 'access_count'], \n",
    "                ascending=False\n",
    "    )\n",
    "    df_closer.columns.name = 'user=' + user_id\n",
    "    end = time()\n",
    "    \n",
    "    if verbose:\n",
    "        print('elapsed time: {:.4f}s'.format(end-start))\n",
    "\n",
    "    return df_closer, df_closer.index #closer users, by two criteria"
   ]
  },
  {
   "cell_type": "markdown",
   "metadata": {
    "id": "MJbO-pa1H6QR"
   },
   "source": [
    "Function `fn_get_top_sorted_user` created!\n",
    "\n",
    "Testing our new function:\n",
    "\n",
    "- if you need to confer if everything is OK, take the dataset:"
   ]
  },
  {
   "cell_type": "code",
   "execution_count": 112,
   "metadata": {
    "colab": {
     "base_uri": "https://localhost:8080/",
     "height": 303
    },
    "executionInfo": {
     "elapsed": 259,
     "status": "ok",
     "timestamp": 1637076416887,
     "user": {
      "displayName": "Eduardo Passeto",
      "photoUrl": "https://lh3.googleusercontent.com/a-/AOh14GjI6hyWqRLc_tvBbX89lELJagwb0PXyrM8cuapKGQ=s64",
      "userId": "17164463605285505900"
     },
     "user_tz": 180
    },
    "id": "XwYpFI0p4-Vl",
    "outputId": "ae13a94f-db6f-4cd9-d22d-f98658179975"
   },
   "outputs": [
    {
     "name": "stdout",
     "output_type": "stream",
     "text": [
      "###function get top sorted users started\n",
      "*rows for the new dataset: 5149\n",
      "*rows after self removal: 5148\n",
      "elapsed time: 0.0600s\n"
     ]
    },
    {
     "data": {
      "text/html": [
       "<div>\n",
       "<style scoped>\n",
       "    .dataframe tbody tr th:only-of-type {\n",
       "        vertical-align: middle;\n",
       "    }\n",
       "\n",
       "    .dataframe tbody tr th {\n",
       "        vertical-align: top;\n",
       "    }\n",
       "\n",
       "    .dataframe thead th {\n",
       "        text-align: right;\n",
       "    }\n",
       "</style>\n",
       "<table border=\"1\" class=\"dataframe\">\n",
       "  <thead>\n",
       "    <tr style=\"text-align: right;\">\n",
       "      <th>user=1</th>\n",
       "      <th>cartesian_similarity</th>\n",
       "      <th>access_count</th>\n",
       "    </tr>\n",
       "    <tr>\n",
       "      <th>user_id</th>\n",
       "      <th></th>\n",
       "      <th></th>\n",
       "    </tr>\n",
       "  </thead>\n",
       "  <tbody>\n",
       "    <tr>\n",
       "      <th>3933</th>\n",
       "      <td>35.0</td>\n",
       "      <td>45</td>\n",
       "    </tr>\n",
       "    <tr>\n",
       "      <th>23</th>\n",
       "      <td>17.0</td>\n",
       "      <td>364</td>\n",
       "    </tr>\n",
       "    <tr>\n",
       "      <th>3782</th>\n",
       "      <td>17.0</td>\n",
       "      <td>363</td>\n",
       "    </tr>\n",
       "    <tr>\n",
       "      <th>203</th>\n",
       "      <td>15.0</td>\n",
       "      <td>160</td>\n",
       "    </tr>\n",
       "    <tr>\n",
       "      <th>4459</th>\n",
       "      <td>15.0</td>\n",
       "      <td>158</td>\n",
       "    </tr>\n",
       "  </tbody>\n",
       "</table>\n",
       "</div>"
      ],
      "text/plain": [
       "user=1   cartesian_similarity  access_count\n",
       "user_id                                    \n",
       "3933                     35.0            45\n",
       "23                       17.0           364\n",
       "3782                     17.0           363\n",
       "203                      15.0           160\n",
       "4459                     15.0           158"
      ]
     },
     "execution_count": 112,
     "metadata": {},
     "output_type": "execute_result"
    }
   ],
   "source": [
    "top_sorted = udc3.fn_get_top_sorted_user(\n",
    "                 df_user_item=df_user_item,\n",
    "                 df_inter_enc=df_inter_enc,\n",
    "                 user_id=1, #'1'\n",
    "                 verbose=True)\n",
    "top_sorted[0].head(5)"
   ]
  },
  {
   "cell_type": "markdown",
   "metadata": {
    "id": "TmEF0OdRXHdZ"
   },
   "source": [
    "- it you want to use the data, take de index:"
   ]
  },
  {
   "cell_type": "code",
   "execution_count": 113,
   "metadata": {
    "colab": {
     "base_uri": "https://localhost:8080/"
    },
    "executionInfo": {
     "elapsed": 271,
     "status": "ok",
     "timestamp": 1637076607508,
     "user": {
      "displayName": "Eduardo Passeto",
      "photoUrl": "https://lh3.googleusercontent.com/a-/AOh14GjI6hyWqRLc_tvBbX89lELJagwb0PXyrM8cuapKGQ=s64",
      "userId": "17164463605285505900"
     },
     "user_tz": 180
    },
    "id": "caarqysKW--1",
    "outputId": "6afba69b-f98f-49bc-d7ba-23551f5b1202"
   },
   "outputs": [
    {
     "data": {
      "text/plain": [
       "['3933', '23', '3782', '203', '4459']"
      ]
     },
     "execution_count": 113,
     "metadata": {},
     "output_type": "execute_result"
    }
   ],
   "source": [
    "list(top_sorted[1][:5])"
   ]
  },
  {
   "cell_type": "markdown",
   "metadata": {
    "id": "1x42LgXomDG7"
   },
   "source": [
    "Now I need to fork my `fn_user_article` function:\n",
    "\n",
    "- the idea is to implement a counting for **most accessed articles** too!"
   ]
  },
  {
   "cell_type": "markdown",
   "metadata": {
    "id": "3UVewbxs-IVK"
   },
   "source": [
    "My mask function:"
   ]
  },
  {
   "cell_type": "code",
   "execution_count": 114,
   "metadata": {
    "colab": {
     "base_uri": "https://localhost:8080/"
    },
    "executionInfo": {
     "elapsed": 266,
     "status": "ok",
     "timestamp": 1637086756752,
     "user": {
      "displayName": "Eduardo Passeto",
      "photoUrl": "https://lh3.googleusercontent.com/a-/AOh14GjI6hyWqRLc_tvBbX89lELJagwb0PXyrM8cuapKGQ=s64",
      "userId": "17164463605285505900"
     },
     "user_tz": 180
    },
    "id": "hrJ8Wvre99kM",
    "outputId": "57f52851-2aa5-4f09-a385-087f933015cd"
   },
   "outputs": [
    {
     "data": {
      "text/plain": [
       "article_id\n",
       "0    False\n",
       "Name: 1, dtype: bool"
      ]
     },
     "execution_count": 114,
     "metadata": {},
     "output_type": "execute_result"
    }
   ],
   "source": [
    "user_id = 1\n",
    "user = df_user_item.loc[str(user_id)]==1\n",
    "user.head(1)"
   ]
  },
  {
   "cell_type": "markdown",
   "metadata": {
    "id": "FoIukX8fogt6"
   },
   "source": [
    "Step 1: take articles accessed by my **similar**"
   ]
  },
  {
   "cell_type": "code",
   "execution_count": 115,
   "metadata": {
    "colab": {
     "base_uri": "https://localhost:8080/"
    },
    "executionInfo": {
     "elapsed": 262,
     "status": "ok",
     "timestamp": 1637081253691,
     "user": {
      "displayName": "Eduardo Passeto",
      "photoUrl": "https://lh3.googleusercontent.com/a-/AOh14GjI6hyWqRLc_tvBbX89lELJagwb0PXyrM8cuapKGQ=s64",
      "userId": "17164463605285505900"
     },
     "user_tz": 180
    },
    "id": "F5wQw9jemwzu",
    "outputId": "27bba4a9-7259-4cc3-a239-506c60ea6af3"
   },
   "outputs": [
    {
     "data": {
      "text/plain": [
       "article_id\n",
       "43    1.0\n",
       "Name: 1, dtype: float64"
      ]
     },
     "execution_count": 115,
     "metadata": {},
     "output_type": "execute_result"
    }
   ],
   "source": [
    "user_id = '1'\n",
    "#first, take articles accessed by my similar user\n",
    "article_usr = df_user_item.loc[str(user_id)][df_user_item.loc[str(user_id)]==1]\n",
    "article_usr.head(1)"
   ]
  },
  {
   "cell_type": "markdown",
   "metadata": {
    "id": "qJX-RaHtosUr"
   },
   "source": [
    "Step 2: count all the **accesses** for each article"
   ]
  },
  {
   "cell_type": "code",
   "execution_count": 116,
   "metadata": {
    "colab": {
     "base_uri": "https://localhost:8080/"
    },
    "executionInfo": {
     "elapsed": 259,
     "status": "ok",
     "timestamp": 1637082259605,
     "user": {
      "displayName": "Eduardo Passeto",
      "photoUrl": "https://lh3.googleusercontent.com/a-/AOh14GjI6hyWqRLc_tvBbX89lELJagwb0PXyrM8cuapKGQ=s64",
      "userId": "17164463605285505900"
     },
     "user_tz": 180
    },
    "id": "3mSJgKgpngVI",
    "outputId": "288818ba-19c6-4606-98e1-7891b62e9e31"
   },
   "outputs": [
    {
     "data": {
      "text/plain": [
       "1429    937\n",
       "Name: article_id, dtype: int64"
      ]
     },
     "execution_count": 116,
     "metadata": {},
     "output_type": "execute_result"
    }
   ],
   "source": [
    "article_val = df_inter_enc.index.value_counts()\n",
    "article_val.head(1)"
   ]
  },
  {
   "cell_type": "markdown",
   "metadata": {
    "id": "wV9k-hqvpGKt"
   },
   "source": [
    "Step 3: make a concatenation between the two series, using **left join**:    \n",
    "\n",
    "- documentation [here](https://pandas.pydata.org/pandas-docs/stable/user_guide/merging.html)\n",
    "\n",
    "- Pandas concat doesn´t accept **left join**, but in this case, **inner join** fits well. \n",
    "\n",
    "- Why? Just because we need to count for best accessed articles. If one article does not appear in `df_inter_enc` dataframe, even for some strange reason it appears on the list of the similar user, it **don´t fits** for us! (probably it is a mistake, or a **inconsistence** between the dataframes!)"
   ]
  },
  {
   "cell_type": "code",
   "execution_count": 117,
   "metadata": {
    "colab": {
     "base_uri": "https://localhost:8080/",
     "height": 204
    },
    "executionInfo": {
     "elapsed": 240,
     "status": "ok",
     "timestamp": 1637086298647,
     "user": {
      "displayName": "Eduardo Passeto",
      "photoUrl": "https://lh3.googleusercontent.com/a-/AOh14GjI6hyWqRLc_tvBbX89lELJagwb0PXyrM8cuapKGQ=s64",
      "userId": "17164463605285505900"
     },
     "user_tz": 180
    },
    "id": "AJ8whXSDpfoJ",
    "outputId": "6efb0556-ae8c-48f0-debb-bf1d18c03f12"
   },
   "outputs": [
    {
     "data": {
      "text/html": [
       "<div>\n",
       "<style scoped>\n",
       "    .dataframe tbody tr th:only-of-type {\n",
       "        vertical-align: middle;\n",
       "    }\n",
       "\n",
       "    .dataframe tbody tr th {\n",
       "        vertical-align: top;\n",
       "    }\n",
       "\n",
       "    .dataframe thead th {\n",
       "        text-align: right;\n",
       "    }\n",
       "</style>\n",
       "<table border=\"1\" class=\"dataframe\">\n",
       "  <thead>\n",
       "    <tr style=\"text-align: right;\">\n",
       "      <th></th>\n",
       "      <th>access_count</th>\n",
       "    </tr>\n",
       "  </thead>\n",
       "  <tbody>\n",
       "    <tr>\n",
       "      <th>1429</th>\n",
       "      <td>937</td>\n",
       "    </tr>\n",
       "    <tr>\n",
       "      <th>1431</th>\n",
       "      <td>671</td>\n",
       "    </tr>\n",
       "    <tr>\n",
       "      <th>1427</th>\n",
       "      <td>643</td>\n",
       "    </tr>\n",
       "    <tr>\n",
       "      <th>1293</th>\n",
       "      <td>572</td>\n",
       "    </tr>\n",
       "    <tr>\n",
       "      <th>1170</th>\n",
       "      <td>565</td>\n",
       "    </tr>\n",
       "  </tbody>\n",
       "</table>\n",
       "</div>"
      ],
      "text/plain": [
       "      access_count\n",
       "1429           937\n",
       "1431           671\n",
       "1427           643\n",
       "1293           572\n",
       "1170           565"
      ]
     },
     "execution_count": 117,
     "metadata": {},
     "output_type": "execute_result"
    }
   ],
   "source": [
    "art_cols = ['count', 'access_count']\n",
    "\n",
    "art_concat = pd.concat(objs=[article_usr, article_val], axis=1, join='inner') \n",
    "art_concat.columns = art_cols\n",
    "art_concat = art_concat.drop(['count'], axis=1)\n",
    "art_concat = art_concat.sort_values(by=['access_count'], ascending=False)\n",
    "art_concat.head(5)"
   ]
  },
  {
   "cell_type": "code",
   "execution_count": 118,
   "metadata": {
    "colab": {
     "base_uri": "https://localhost:8080/"
    },
    "executionInfo": {
     "elapsed": 347,
     "status": "ok",
     "timestamp": 1637084408601,
     "user": {
      "displayName": "Eduardo Passeto",
      "photoUrl": "https://lh3.googleusercontent.com/a-/AOh14GjI6hyWqRLc_tvBbX89lELJagwb0PXyrM8cuapKGQ=s64",
      "userId": "17164463605285505900"
     },
     "user_tz": 180
    },
    "id": "wEE1Bobv1PGt",
    "outputId": "d64683dc-eca5-4353-a5ec-0e80744d3bfb"
   },
   "outputs": [
    {
     "data": {
      "text/plain": [
       "Int64Index([1429, 1431, 1427, 1293, 1170, 1436, 43, 1185, 1368, 1305], dtype='int64')"
      ]
     },
     "execution_count": 118,
     "metadata": {},
     "output_type": "execute_result"
    }
   ],
   "source": [
    "art_concat.index[:10]"
   ]
  },
  {
   "cell_type": "code",
   "execution_count": 119,
   "metadata": {
    "id": "ZYerzbpYl6DX"
   },
   "outputs": [],
   "source": [
    "#########1#########2#########3#########4#########5#########6#########7#########8\n",
    "def fn_get_user_article(df_user_item,\n",
    "                        df,\n",
    "                        user_id, \n",
    "                        max_art=10,\n",
    "                        id_as_str=False,\n",
    "                        top_sort=False,\n",
    "                        verbose=False):\n",
    "    '''This function gives a list of article_ids and article titles that have \n",
    "    been seen by a user.\n",
    "\n",
    "    New add: top_sort function added, for access count.\n",
    "    \n",
    "    Inputs:\n",
    "      - df_user_item (mandatory) - dataframe of users by articles \n",
    "        it have a 1 when an article was viewed by an user (Pandas Dataframe)\n",
    "       - df (mandatory) - an article detailing dataframe (normally df_inter_enc) \n",
    "        (Panda Dataframe)       \n",
    "      - user_id (mandatory) - an user id (Integer)\n",
    "      - max_art (optional) - maximum number of entries for output (default=None)\n",
    "      - id_as_str (optional) - if you want the list of the articles IDs in \n",
    "        string format (Boolean, default=False)\n",
    "      - top_sort (optional) - if you want articles sorted by their access count\n",
    "        (Booleal, default=False)\n",
    "      - verbose (optional) - if you want some verbosity in your function -\n",
    "        (Boolean, default=False)\n",
    "    Outputs:\n",
    "      - ls_id - (list) a Python list of the article ids accessed by the user\n",
    "      - ls_name - (list) a list of the names of the articles \n",
    "        (this is identified by the doc_full_name column in df_article)    \n",
    "    '''\n",
    "    if verbose:\n",
    "        print('###function get user article started')\n",
    "        \n",
    "    start = time()\n",
    "    art_cols = ['count', 'access_count']\n",
    "    #locate the rellevant articles for the focused user\n",
    "    article = df_user_item.loc[str(user_id)][df_user_item.loc[str(user_id)]==1]\n",
    "\n",
    "    if top_sort:\n",
    "        if verbose:\n",
    "            print('*top sort enhancement activated')\n",
    "\n",
    "        #first, count all the accesses for each article\n",
    "        article_val = df_inter_enc.index.value_counts()\n",
    "\n",
    "        #second, concatenate data  \n",
    "        art_concat = pd.concat(objs=[article, article_val], \n",
    "                               axis=1, \n",
    "                               join='inner') \n",
    "        art_concat.columns = art_cols\n",
    "        art_concat = art_concat.drop(['count'],\n",
    "                                     axis=1)\n",
    "        \n",
    "        #third, return it as a Series\n",
    "        sr_article = art_concat.sort_values(by=['access_count'], \n",
    "                                            ascending=False)\n",
    "\n",
    "\n",
    "    else:\n",
    "        if verbose:\n",
    "            print('*traditional function behavior')\n",
    "\n",
    "        #do nothing as a better sorting effort\n",
    "        sr_article = article\n",
    "\n",
    "    #final 1, get article IDs that were rellevant to an user\n",
    "    ls_id = sr_article.index.tolist()[0:max_art]\n",
    "\n",
    "    if verbose:\n",
    "        print('return format: {} items'.format(max_art))\n",
    "\n",
    "    #final 2, get articles names\n",
    "    ls_name = udc3.fn_get_article_name(\n",
    "                  df=df,\n",
    "                  ls_article=ls_id,\n",
    "                  alternative_df=False,\n",
    "                  verbose=verbose\n",
    "    )\n",
    "        \n",
    "    #final 3, if return as string names\n",
    "    if id_as_str:\n",
    "        if verbose:\n",
    "            print('returning articles IDs as strings')\n",
    "        list_aux = []\n",
    "\n",
    "        for item in ls_id:\n",
    "            list_aux.append(str(item))\n",
    "\n",
    "        ls_id = list_aux\n",
    "    \n",
    "    end = time()\n",
    "    \n",
    "    if verbose:\n",
    "        print('elapsed time: {:.4f}s'.format(end-start))\n",
    "    \n",
    "    return ls_id, ls_name #list of ids and names"
   ]
  },
  {
   "cell_type": "markdown",
   "metadata": {
    "id": "3c83MoFW4xsN"
   },
   "source": [
    "Traditional testing:\n",
    "\n",
    "- seems **OK**, so my enhancement don´t destroyed the old behavior of the function (for older modules)"
   ]
  },
  {
   "cell_type": "code",
   "execution_count": 120,
   "metadata": {
    "colab": {
     "base_uri": "https://localhost:8080/"
    },
    "executionInfo": {
     "elapsed": 253,
     "status": "ok",
     "timestamp": 1637086547784,
     "user": {
      "displayName": "Eduardo Passeto",
      "photoUrl": "https://lh3.googleusercontent.com/a-/AOh14GjI6hyWqRLc_tvBbX89lELJagwb0PXyrM8cuapKGQ=s64",
      "userId": "17164463605285505900"
     },
     "user_tz": 180
    },
    "id": "Qil-2BZvmBOq",
    "outputId": "4968bb9f-5393-4751-ba53-8635bf1ffecd"
   },
   "outputs": [
    {
     "name": "stdout",
     "output_type": "stream",
     "text": [
      "###function get user article started\n",
      "*traditional function behavior\n",
      "*return format: 10 items\n",
      "###get article name started\n",
      "working with df_inter_enc type of dataframe\n",
      "elapsed time: 0.023989s\n",
      "*returning articles IDs as strings\n",
      "elapsed time: 0.0260s\n"
     ]
    },
    {
     "data": {
      "text/plain": [
       "(['43', '109', '151', '268', '310', '329', '346', '390', '494', '525'],\n",
       " ['deep learning with tensorflow course by big data university',\n",
       "  'tensorflow quick tips',\n",
       "  'jupyter notebook tutorial',\n",
       "  'sector correlations shiny app',\n",
       "  'time series prediction using recurrent neural networks (lstms)',\n",
       "  'introduction to market basket analysis in\\xa0python',\n",
       "  'fighting gerrymandering: using data science to draw fairer congressional districts',\n",
       "  'introducing ibm watson studio ',\n",
       "  'python for loops explained (python for data science basics #5)',\n",
       "  'new shiny cheat sheet and video tutorial'])"
      ]
     },
     "execution_count": 120,
     "metadata": {},
     "output_type": "execute_result"
    }
   ],
   "source": [
    "udc3.fn_get_user_article(\n",
    "    df_user_item=df_user_item,\n",
    "    df=df_inter_enc,\n",
    "    user_id=1, \n",
    "    max_art=10,\n",
    "    id_as_str=True,\n",
    "    top_sort=False,\n",
    "    verbose=True\n",
    ")"
   ]
  },
  {
   "cell_type": "markdown",
   "metadata": {
    "id": "j9vmsCwV5Bo-"
   },
   "source": [
    "Function `fn_get_user_article` enhancement testing\n",
    "\n",
    "- seems **OK** too!"
   ]
  },
  {
   "cell_type": "code",
   "execution_count": 121,
   "metadata": {
    "colab": {
     "base_uri": "https://localhost:8080/"
    },
    "executionInfo": {
     "elapsed": 272,
     "status": "ok",
     "timestamp": 1637086555563,
     "user": {
      "displayName": "Eduardo Passeto",
      "photoUrl": "https://lh3.googleusercontent.com/a-/AOh14GjI6hyWqRLc_tvBbX89lELJagwb0PXyrM8cuapKGQ=s64",
      "userId": "17164463605285505900"
     },
     "user_tz": 180
    },
    "id": "8mh7J6iw4Ls6",
    "outputId": "2589f032-9a8a-48fc-db5e-76c382d6f518"
   },
   "outputs": [
    {
     "name": "stdout",
     "output_type": "stream",
     "text": [
      "###function get user article started\n",
      "*top sort enhancement activated\n",
      "*return format: 10 items\n",
      "###get article name started\n",
      "working with df_inter_enc type of dataframe\n",
      "elapsed time: 0.023990s\n",
      "*returning articles IDs as strings\n",
      "elapsed time: 0.0330s\n"
     ]
    },
    {
     "data": {
      "text/plain": [
       "(['1429',\n",
       "  '1431',\n",
       "  '1427',\n",
       "  '1293',\n",
       "  '1170',\n",
       "  '1436',\n",
       "  '43',\n",
       "  '1185',\n",
       "  '1368',\n",
       "  '1305'],\n",
       " ['use deep learning for image classification',\n",
       "  'visualize car data with brunel',\n",
       "  'use xgboost, scikit-learn & ibm watson machine learning apis',\n",
       "  'finding optimal locations of new store using decision optimization',\n",
       "  'apache spark lab, part 1: basic concepts',\n",
       "  'welcome to pixiedust',\n",
       "  'deep learning with tensorflow course by big data university',\n",
       "  'classify tumors with machine learning',\n",
       "  'putting a human face on machine learning',\n",
       "  'gosales transactions for naive bayes model'])"
      ]
     },
     "execution_count": 121,
     "metadata": {},
     "output_type": "execute_result"
    }
   ],
   "source": [
    "udc3.fn_get_user_article(\n",
    "    df_user_item=df_user_item,\n",
    "    df=df_inter_enc,\n",
    "    user_id=1, \n",
    "    max_art=10,\n",
    "    id_as_str=True,\n",
    "    top_sort=True,\n",
    "    verbose=True\n",
    ")"
   ]
  },
  {
   "cell_type": "code",
   "execution_count": 122,
   "metadata": {
    "id": "s_A291PiTw-X"
   },
   "outputs": [],
   "source": [
    "#########1#########2#########3#########4#########5#########6#########7#########8\n",
    "def fn_user_user_rec_part2(df_user_item,\n",
    "                           df,\n",
    "                           user_id,\n",
    "                           max_art=None,\n",
    "                           max_usr=None,\n",
    "                           max_rec=10,\n",
    "                           verbose=False):\n",
    "    '''This function takes and user and gives recommendations of new articles \n",
    "    for him. The engine is based on cartesian (dot product) similarity.\n",
    "\n",
    "    Enhancements over old fn_user_user_rec:\n",
    "    1. Users now have two selection criteria\n",
    "       - the first is cartesian product, for similarity (main)\n",
    "       - the second is by users that viewed more articles (secondary)\n",
    "    2. Articles now have a sorting enhancement:\n",
    "       - function fn_get_user_article was modified, for sorting by most viewed\n",
    "         articles before giving the recommendation\n",
    "    \n",
    "    It works in this way:\n",
    "    1. First, I give a user-item matrix (preprocessed), and one user id;\n",
    "    2. Then, the system goes into the user-item matrix and retrieves all the\n",
    "       articles viewed by this user and stores it (we don´t want to recommend as\n",
    "       a new article something the user has already viewed!);\n",
    "    3. In sequence, the system calculates the dot product for the user-item\n",
    "       matrix vs specific user vector and order it by the better value,\n",
    "       decreasing and gives the list of the most similar users for this user;\n",
    "    4. And then, the systems iterate into the first most similar user, takes the\n",
    "       viewed articles by him and it they were not already been viewed by the\n",
    "       main user, then store it for recommendation;\n",
    "    5. Finally, if the recommendation list was not already complete, then the\n",
    "       system goes into de second most similar user and so on.\n",
    "\n",
    "    If the possibilities exausted and we had not found a complete recommendation\n",
    "    list, we just give up and give an incomplete (or in the worst case, a empty\n",
    "    list for recommendations for this user, based on users similarity).    \n",
    "    \n",
    "    Inputs:\n",
    "      - df_user_item (mandatory) - a previously processed dataframe of users by \n",
    "        articles (Pandas Dataframe)\n",
    "        *it have an 1 when the article was viewed by an user (Pandas Dataframe)\n",
    "       - user_id (mandatory) - an user id (Integer/String)\n",
    "       - df (mandatory) - an article detailing dataframe (normally df_inter_enc) \n",
    "        (Panda Dataframe)       \n",
    "      - max_art (optional) - maximum number of articles for each other user\n",
    "        (one user per time) - (default=None)\n",
    "      - max_usr (optional) - maximum number of user for each other user\n",
    "        (one user per time) - (default=None)\n",
    "      - num_rec (optional) - the maximum number of recommendations you want for \n",
    "        the main user - (Integer, default=10)\n",
    "      - verbose (optional) - if you want some verbosity in your function -\n",
    "        (Boolean, default=False)\n",
    "    Output:\n",
    "      - rec - (list) a list of recommendations for the user\n",
    "      \n",
    "    Description:\n",
    "      Loops through the users based on closeness to the input user_id\n",
    "      For each user - finds articles the user hasn't seen before and provides \n",
    "      them as recs\n",
    "      Does this until m recommendations are found\n",
    "    Notes:\n",
    "      Users who are the same closeness are chosen arbitrarily as the 'next' user\n",
    "      For the user where the number of recommended articles starts below m \n",
    "      and ends exceeding max_rec, the last items are chosen arbitrarily\n",
    "    '''\n",
    "    if verbose:\n",
    "        print('###function user to user recommendations started')        \n",
    "\n",
    "    start1 = time()\n",
    "    #for user in similar_users:\n",
    "    #    similar_article_ids, similar_article_names = get_user_articles(user)\n",
    "    #    recommendations = np.setdiff1d(similar_article_ids, viewed_article_ids, assume_unique=True)\n",
    "    #    for rec in recommendations:\n",
    "    #        if len(recs) < m:\n",
    "    #            recs.append(rec)\n",
    "    #        else:\n",
    "    #            break\n",
    "    #rec_names = get_article_names(recs)\n",
    "    #output = rec, rec_name\n",
    "\n",
    "    rec_art = []\n",
    "\n",
    "    #get articles viewed by the main user\n",
    "    #using traditional calling, as we don´t need these ones sorted!\n",
    "    ls_art_view_id, ls_art_view_name = udc3.fn_get_user_article(\n",
    "                                           df_user_item=df_user_item,\n",
    "                                           df=df,\n",
    "                                           user_id=user_id, \n",
    "                                           max_art=max_art,\n",
    "                                           top_sort=False, #not sorting!\n",
    "                                           verbose=verbose\n",
    "    )\n",
    "    #new fancy function to do this job\n",
    "    top_user = udc3.fn_get_top_sorted_user(\n",
    "                   df_user_item=df_user_item,\n",
    "                   df_inter_enc=df_inter_enc,\n",
    "                   user_id=user_id,\n",
    "                   verbose=verbose\n",
    "    )\n",
    "    ls_sim_user = list(top_user[1])\n",
    "\n",
    "    #iterating on new users\n",
    "    for user in ls_sim_user:\n",
    "        if verbose:\n",
    "            print('*searching new articles from user', user)\n",
    "        #using the function enhancement, for sorting articles too!\n",
    "        ls_sim_art_id, ls_sim_art_name = udc3.fn_get_user_article(\n",
    "                                           df_user_item=df_user_item,\n",
    "                                           df=df,\n",
    "                                           user_id=user, \n",
    "                                           max_art=max_art,\n",
    "                                           top_sort=True, #sorting!\n",
    "                                           verbose=verbose\n",
    "        )\n",
    "        if verbose:\n",
    "            print('retrieved articles:', ls_sim_art_id)\n",
    "        #getting different articles from the new user\n",
    "        #rec_new = np.setdiff1d(        #using numpy was not so practical\n",
    "        #              ls_sim_art_id,   #I will try it later!\n",
    "        #              ls_art_view_id, \n",
    "        #              assume_unique=True)\n",
    "        rec_new = list(set(ls_sim_art_id) ^set(ls_art_view_id))\n",
    "        if verbose:\n",
    "            print('new arts:', rec_new)\n",
    "        #adding new recommendations, if they exist    \n",
    "        if len(rec_new) > 0:\n",
    "            more = max_rec - len(rec_art)\n",
    "            rec_art = rec_art + rec_new[:more]\n",
    "            if verbose:\n",
    "                print('*adding {} new recommendations from user {}'\\\n",
    "                      .format(more, user))\n",
    "            #testing for earlier break\n",
    "            if len(rec_art) == max_rec:\n",
    "                if verbose:\n",
    "                    print('*earlier break condition reached')\n",
    "                break #earlier break condition\n",
    "            elif len(rec_art) > max_rec:\n",
    "                raise Exception('something went wrong with recommendations')\n",
    "    \n",
    "    end = time()\n",
    "\n",
    "    if verbose:\n",
    "        print('elapsed time: {:.6f}s'.format(end-start1))\n",
    "    \n",
    "    return rec_art #articles recommendation for this user_id"
   ]
  },
  {
   "cell_type": "markdown",
   "metadata": {
    "id": "KOs2pvFRLVtI"
   },
   "source": [
    "Testing, and seems to run OK:"
   ]
  },
  {
   "cell_type": "code",
   "execution_count": 123,
   "metadata": {
    "colab": {
     "base_uri": "https://localhost:8080/"
    },
    "executionInfo": {
     "elapsed": 464,
     "status": "ok",
     "timestamp": 1637096329291,
     "user": {
      "displayName": "Eduardo Passeto",
      "photoUrl": "https://lh3.googleusercontent.com/a-/AOh14GjI6hyWqRLc_tvBbX89lELJagwb0PXyrM8cuapKGQ=s64",
      "userId": "17164463605285505900"
     },
     "user_tz": 180
    },
    "id": "8xMAptryaBhD",
    "outputId": "30d217a2-528d-4f31-cd14-dc289fa50659"
   },
   "outputs": [
    {
     "name": "stdout",
     "output_type": "stream",
     "text": [
      "###function user to user recommendations started\n",
      "###function get user article started\n",
      "*traditional function behavior\n",
      "*return format: None items\n",
      "###get article name started\n",
      "working with df_inter_enc type of dataframe\n",
      "elapsed time: 0.057967s\n",
      "elapsed time: 0.0620s\n",
      "###function get top sorted users started\n",
      "*rows for the new dataset: 5149\n",
      "*rows after self removal: 5148\n",
      "elapsed time: 0.0580s\n",
      "*searching new articles from user 3933\n",
      "###function get user article started\n",
      "*top sort enhancement activated\n",
      "*return format: None items\n",
      "###get article name started\n",
      "working with df_inter_enc type of dataframe\n",
      "elapsed time: 0.059962s\n",
      "elapsed time: 0.0899s\n",
      "retrieved articles: [1429, 1431, 1427, 1293, 1170, 1436, 43, 1185, 1368, 1305, 1430, 1052, 1400, 390, 732, 109, 1391, 1183, 268, 981, 910, 525, 310, 329, 1439, 1406, 494, 768, 585, 968, 346, 1363, 1232, 668, 626]\n",
      "new arts: [151]\n",
      "*adding 10 new recommendations from user 3933\n",
      "*searching new articles from user 23\n",
      "###function get user article started\n",
      "*top sort enhancement activated\n",
      "*return format: None items\n",
      "###get article name started\n",
      "working with df_inter_enc type of dataframe\n",
      "elapsed time: 0.222865s\n",
      "elapsed time: 0.2359s\n",
      "retrieved articles: [1429, 1330, 1431, 1427, 1364, 1314, 1293, 1170, 1162, 1304, 1436, 43, 1351, 1393, 1185, 1160, 1354, 1368, 1305, 1338, 1336, 1165, 1172, 1276, 1432, 1430, 1052, 124, 1343, 1163, 1164, 164, 1360, 1171, 1332, 1396, 237, 109, 1166, 1391, 1386, 108, 1367, 1025, 1176, 241, 482, 12, 1423, 812, 33, 969, 939, 409, 981, 120, 943, 910, 193, 641, 1357, 1395, 729, 1428, 1181, 1014, 194, 510, 213, 221, 833, 957, 477, 316, 26, 14, 50, 223, 336, 821, 658, 362, 131, 29, 1277, 682, 1366, 74, 617, 996, 1298, 16, 1439, 2, 76, 761, 444, 210, 422, 253, 744, 283, 887, 967, 843, 1051, 28, 825, 236, 295, 1299, 665, 634, 1159, 693, 337, 302, 359, 721, 952, 367, 299, 348, 252, 524, 656, 339, 720, 1000, 973, 1148, 517, 1291, 800, 1101]\n",
      "new arts: [1025, 2, 517, 12, 525, 524, 14, 16, 26, 1051, 28, 29, 33, 50, 585, 74, 76, 1101, 617, 108, 626, 120, 634, 1148, 124, 641, 131, 1159, 1160, 1162, 1163, 1164, 1165, 1166, 656, 658, 1171, 1172, 151, 1176, 665, 668, 1181, 1183, 164, 682, 693, 193, 194, 1232, 720, 721, 210, 213, 729, 732, 221, 223, 744, 236, 237, 241, 761, 1276, 1277, 253, 252, 768, 1291, 268, 1298, 1299, 1304, 283, 800, 1314, 295, 299, 812, 302, 1330, 1332, 821, 310, 1336, 825, 1338, 316, 1343, 833, 1351, 329, 1354, 843, 1357, 1360, 336, 337, 1363, 339, 1364, 1366, 1367, 346, 348, 359, 1386, 362, 367, 1393, 1395, 1396, 887, 1400, 1406, 390, 1423, 1428, 1432, 409, 422, 939, 943, 952, 444, 957, 967, 968, 969, 973, 477, 482, 996, 1000, 494, 1014, 510]\n",
      "*adding 9 new recommendations from user 23\n",
      "*earlier break condition reached\n",
      "###get article name started\n",
      "working with df_inter_enc type of dataframe\n",
      "elapsed time: 0.011994s\n",
      "elapsed time: 0.462716s\n",
      "[151, 1025, 2, 517, 12, 525, 524, 14, 16, 26]\n",
      "['jupyter notebook tutorial', 'data tidying in data science experience', 'this week in data science (april 18, 2017)', 'shaping data with ibm data refinery', 'timeseries data analysis of iot events by using jupyter notebook', 'new shiny cheat sheet and video tutorial', 'data science platforms are on the rise and ibm is leading the way', 'got zip code data? prep it for analytics. – ibm watson data lab – medium', 'higher-order logistic regression for large datasets', 'using machine learning to predict parking difficulty']\n"
     ]
    }
   ],
   "source": [
    "rec_id, rec_name = udc3.fn_user_user_rec_part2(\n",
    "                       df_user_item=df_user_item,\n",
    "                       df=df_inter_enc,\n",
    "                       user_id=1,\n",
    "                       max_art=None,\n",
    "                       max_usr=None,\n",
    "                       max_rec=10, #m <-similar, a single letter is not so nice!\n",
    "                       verbose=True\n",
    ")\n",
    "print(rec_id)\n",
    "print(rec_name)"
   ]
  },
  {
   "cell_type": "code",
   "execution_count": 124,
   "metadata": {
    "colab": {
     "base_uri": "https://localhost:8080/"
    },
    "executionInfo": {
     "elapsed": 338,
     "status": "ok",
     "timestamp": 1637096386184,
     "user": {
      "displayName": "Eduardo Passeto",
      "photoUrl": "https://lh3.googleusercontent.com/a-/AOh14GjI6hyWqRLc_tvBbX89lELJagwb0PXyrM8cuapKGQ=s64",
      "userId": "17164463605285505900"
     },
     "user_tz": 180
    },
    "id": "AM8k4R3J0sP4",
    "outputId": "ecd83007-7138-4eb2-fe47-a08ad806b911"
   },
   "outputs": [
    {
     "name": "stdout",
     "output_type": "stream",
     "text": [
      "The top 10 recommendations for user 20 are the following article ids:\n",
      "[1024, 1409, 1410, 1411, 1152, 1157, 1154, 1153, 1160, 1162]\n",
      "\n",
      "The top 10 recommendations for user 20 are the following article names:\n",
      "['using deep learning to reconstruct high-resolution audio', 'uci: red wine quality', 'uci: sms spam collection', 'uci: white wine quality', 'airbnb data for analytics: venice reviews', 'airbnb data for analytics: washington d.c. listings', 'airbnb data for analytics: vienna listings', 'airbnb data for analytics: vienna calendar', 'analyze accident reports on amazon emr spark', 'analyze energy consumption in buildings']\n"
     ]
    }
   ],
   "source": [
    "# Quick spot check - don't change this code - just use it to test your functions\n",
    "rec_id, rec_name = udc3.fn_user_user_rec_part2(\n",
    "                       df_user_item=df_user_item,\n",
    "                       df=df_inter_enc,\n",
    "                       user_id=20,\n",
    "                       max_art=None,\n",
    "                       max_usr=None,\n",
    "                       max_rec=10, #m <-similar, a single letter is not so nice!\n",
    "                       verbose=False\n",
    ")\n",
    "print(\"The top 10 recommendations for user 20 are the following article ids:\")\n",
    "print(rec_id)\n",
    "print()\n",
    "print(\"The top 10 recommendations for user 20 are the following article names:\")\n",
    "print(rec_name)"
   ]
  },
  {
   "cell_type": "markdown",
   "metadata": {
    "id": "Me0gvSGt0sP4"
   },
   "source": [
    "`5.` Use your functions from above to correctly fill in the solutions to the dictionary below.  Then test your dictionary against the solution.  Provide the code you need to answer each following the comments below."
   ]
  },
  {
   "cell_type": "code",
   "execution_count": 125,
   "metadata": {
    "id": "jrj0RDPdjL-m"
   },
   "outputs": [],
   "source": [
    "#The top 10 recommendations for user 20 are the following article ids:\n",
    "ls1 = [1024, 1409, 1410, 1411, 1152, 1157, 1154, 1153, 1160, 1162]\n",
    "\n",
    "#The top 10 recommendations for user 20 are the following article names:\n",
    "ls2 = ['using deep learning to reconstruct high-resolution audio', 'uci: red wine quality', \n",
    "       'uci: sms spam collection', 'uci: white wine quality', 'airbnb data for analytics: venice reviews', \n",
    "       'airbnb data for analytics: washington d.c. listings', 'airbnb data for analytics: vienna listings', \n",
    "       'airbnb data for analytics: vienna calendar', 'analyze accident reports on amazon emr spark', \n",
    "       'analyze energy consumption in buildings']"
   ]
  },
  {
   "cell_type": "markdown",
   "metadata": {
    "id": "DReMfACFkcmu"
   },
   "source": [
    "Listing, in my fancy way:"
   ]
  },
  {
   "cell_type": "code",
   "execution_count": 126,
   "metadata": {
    "colab": {
     "base_uri": "https://localhost:8080/",
     "height": 235
    },
    "executionInfo": {
     "elapsed": 356,
     "status": "ok",
     "timestamp": 1637096733083,
     "user": {
      "displayName": "Eduardo Passeto",
      "photoUrl": "https://lh3.googleusercontent.com/a-/AOh14GjI6hyWqRLc_tvBbX89lELJagwb0PXyrM8cuapKGQ=s64",
      "userId": "17164463605285505900"
     },
     "user_tz": 180
    },
    "id": "sLBFasJBR7cC",
    "outputId": "310d8ba7-d6fc-4591-f044-3ed205a2da6a"
   },
   "outputs": [
    {
     "data": {
      "text/html": [
       "<div>\n",
       "<style scoped>\n",
       "    .dataframe tbody tr th:only-of-type {\n",
       "        vertical-align: middle;\n",
       "    }\n",
       "\n",
       "    .dataframe tbody tr th {\n",
       "        vertical-align: top;\n",
       "    }\n",
       "\n",
       "    .dataframe thead th {\n",
       "        text-align: right;\n",
       "    }\n",
       "</style>\n",
       "<table border=\"1\" class=\"dataframe\">\n",
       "  <thead>\n",
       "    <tr style=\"text-align: right;\">\n",
       "      <th>user=1</th>\n",
       "      <th>cartesian_similarity</th>\n",
       "      <th>access_count</th>\n",
       "    </tr>\n",
       "    <tr>\n",
       "      <th>user_id</th>\n",
       "      <th></th>\n",
       "      <th></th>\n",
       "    </tr>\n",
       "  </thead>\n",
       "  <tbody>\n",
       "    <tr>\n",
       "      <th>3933</th>\n",
       "      <td>35.0</td>\n",
       "      <td>45</td>\n",
       "    </tr>\n",
       "    <tr>\n",
       "      <th>23</th>\n",
       "      <td>17.0</td>\n",
       "      <td>364</td>\n",
       "    </tr>\n",
       "    <tr>\n",
       "      <th>3782</th>\n",
       "      <td>17.0</td>\n",
       "      <td>363</td>\n",
       "    </tr>\n",
       "    <tr>\n",
       "      <th>203</th>\n",
       "      <td>15.0</td>\n",
       "      <td>160</td>\n",
       "    </tr>\n",
       "    <tr>\n",
       "      <th>4459</th>\n",
       "      <td>15.0</td>\n",
       "      <td>158</td>\n",
       "    </tr>\n",
       "  </tbody>\n",
       "</table>\n",
       "</div>"
      ],
      "text/plain": [
       "user=1   cartesian_similarity  access_count\n",
       "user_id                                    \n",
       "3933                     35.0            45\n",
       "23                       17.0           364\n",
       "3782                     17.0           363\n",
       "203                      15.0           160\n",
       "4459                     15.0           158"
      ]
     },
     "execution_count": 126,
     "metadata": {},
     "output_type": "execute_result"
    }
   ],
   "source": [
    "top_sorted = udc3.fn_get_top_sorted_user(\n",
    "                 df_user_item=df_user_item,\n",
    "                 df_inter_enc=df_inter_enc,\n",
    "                 user_id=1, #'1'\n",
    "                 verbose=False)\n",
    "top_sorted[0].head(5)"
   ]
  },
  {
   "cell_type": "code",
   "execution_count": 127,
   "metadata": {
    "colab": {
     "base_uri": "https://localhost:8080/",
     "height": 390
    },
    "executionInfo": {
     "elapsed": 343,
     "status": "ok",
     "timestamp": 1637096861033,
     "user": {
      "displayName": "Eduardo Passeto",
      "photoUrl": "https://lh3.googleusercontent.com/a-/AOh14GjI6hyWqRLc_tvBbX89lELJagwb0PXyrM8cuapKGQ=s64",
      "userId": "17164463605285505900"
     },
     "user_tz": 180
    },
    "id": "34L3awJMR-Ma",
    "outputId": "db223388-5360-441d-9a97-0da28cf55640"
   },
   "outputs": [
    {
     "data": {
      "text/html": [
       "<div>\n",
       "<style scoped>\n",
       "    .dataframe tbody tr th:only-of-type {\n",
       "        vertical-align: middle;\n",
       "    }\n",
       "\n",
       "    .dataframe tbody tr th {\n",
       "        vertical-align: top;\n",
       "    }\n",
       "\n",
       "    .dataframe thead th {\n",
       "        text-align: right;\n",
       "    }\n",
       "</style>\n",
       "<table border=\"1\" class=\"dataframe\">\n",
       "  <thead>\n",
       "    <tr style=\"text-align: right;\">\n",
       "      <th>user=131</th>\n",
       "      <th>cartesian_similarity</th>\n",
       "      <th>access_count</th>\n",
       "    </tr>\n",
       "    <tr>\n",
       "      <th>user_id</th>\n",
       "      <th></th>\n",
       "      <th></th>\n",
       "    </tr>\n",
       "  </thead>\n",
       "  <tbody>\n",
       "    <tr>\n",
       "      <th>3870</th>\n",
       "      <td>74.0</td>\n",
       "      <td>144</td>\n",
       "    </tr>\n",
       "    <tr>\n",
       "      <th>3782</th>\n",
       "      <td>39.0</td>\n",
       "      <td>363</td>\n",
       "    </tr>\n",
       "    <tr>\n",
       "      <th>23</th>\n",
       "      <td>38.0</td>\n",
       "      <td>364</td>\n",
       "    </tr>\n",
       "    <tr>\n",
       "      <th>203</th>\n",
       "      <td>33.0</td>\n",
       "      <td>160</td>\n",
       "    </tr>\n",
       "    <tr>\n",
       "      <th>4459</th>\n",
       "      <td>33.0</td>\n",
       "      <td>158</td>\n",
       "    </tr>\n",
       "    <tr>\n",
       "      <th>98</th>\n",
       "      <td>29.0</td>\n",
       "      <td>170</td>\n",
       "    </tr>\n",
       "    <tr>\n",
       "      <th>3764</th>\n",
       "      <td>29.0</td>\n",
       "      <td>169</td>\n",
       "    </tr>\n",
       "    <tr>\n",
       "      <th>49</th>\n",
       "      <td>29.0</td>\n",
       "      <td>147</td>\n",
       "    </tr>\n",
       "    <tr>\n",
       "      <th>3697</th>\n",
       "      <td>29.0</td>\n",
       "      <td>145</td>\n",
       "    </tr>\n",
       "    <tr>\n",
       "      <th>242</th>\n",
       "      <td>25.0</td>\n",
       "      <td>148</td>\n",
       "    </tr>\n",
       "  </tbody>\n",
       "</table>\n",
       "</div>"
      ],
      "text/plain": [
       "user=131  cartesian_similarity  access_count\n",
       "user_id                                     \n",
       "3870                      74.0           144\n",
       "3782                      39.0           363\n",
       "23                        38.0           364\n",
       "203                       33.0           160\n",
       "4459                      33.0           158\n",
       "98                        29.0           170\n",
       "3764                      29.0           169\n",
       "49                        29.0           147\n",
       "3697                      29.0           145\n",
       "242                       25.0           148"
      ]
     },
     "execution_count": 127,
     "metadata": {},
     "output_type": "execute_result"
    }
   ],
   "source": [
    "top_sorted2 = udc3.fn_get_top_sorted_user(\n",
    "                  df_user_item=df_user_item,\n",
    "                  df_inter_enc=df_inter_enc,\n",
    "                  user_id=131,\n",
    "                  verbose=False)\n",
    "top_sorted2[0].head(10)"
   ]
  },
  {
   "cell_type": "code",
   "execution_count": 128,
   "metadata": {
    "id": "Ex-DoBoQ0sP4"
   },
   "outputs": [],
   "source": [
    "### Tests with a dictionary of results\n",
    "user1_most_sim = 3933 # Find the user that is most similar to user 1 \n",
    "user131_10th_sim = 242 # Find the 10th most similar user to user 131"
   ]
  },
  {
   "cell_type": "code",
   "execution_count": 129,
   "metadata": {
    "colab": {
     "base_uri": "https://localhost:8080/"
    },
    "executionInfo": {
     "elapsed": 299,
     "status": "ok",
     "timestamp": 1637096940686,
     "user": {
      "displayName": "Eduardo Passeto",
      "photoUrl": "https://lh3.googleusercontent.com/a-/AOh14GjI6hyWqRLc_tvBbX89lELJagwb0PXyrM8cuapKGQ=s64",
      "userId": "17164463605285505900"
     },
     "user_tz": 180
    },
    "id": "mmmbSaFR0sP4",
    "outputId": "8771a4fe-fb02-4637-f348-6519e73dd719"
   },
   "outputs": [
    {
     "name": "stdout",
     "output_type": "stream",
     "text": [
      "This all looks good!  Nice job!\n"
     ]
    }
   ],
   "source": [
    "## Dictionary Test Here\n",
    "sol_5_dict = {\n",
    "    'The user that is most similar to user 1.': user1_most_sim, \n",
    "    'The user that is the 10th most similar to user 131': user131_10th_sim,\n",
    "}\n",
    "\n",
    "t.sol_5_test(sol_5_dict)"
   ]
  },
  {
   "cell_type": "markdown",
   "metadata": {
    "id": "U7RAqtXj0sP4"
   },
   "source": [
    "`6.` If we were given a new user, which of the above functions would you be able to use to make recommendations?  Explain.  Can you think of a better way we might make recommendations?  Use the cell below to explain a better method for new users."
   ]
  },
  {
   "cell_type": "markdown",
   "metadata": {
    "id": "7y_z8c0GSYhe"
   },
   "source": [
    "Suppose that I have a new user, named **John**. And I know nothing about John. So, I don't know if the tastes of **John** are similars of the tastes of **Paul**, or **Mary**, for example.\n",
    "\n",
    "I can already know what the tastes of **Paul** are, because he already seen a lot of articles, for example. And I already know that the tastes of **Paul** are quite similar of **Mary**'s, for example. \n",
    "\n",
    "Just because both accessed a lot of times the same articles. And if articles are **vectors**, I can do a quite nice job discovering how much similar is the dot product of the tastes of both of them.\n",
    "\n",
    "But how to deal with a **new kid on the block**? I cannot make a vector factorization when one of the vectors is just about zeroes! \n",
    "\n",
    "So, one strategy for new users, like **John** is kind of offering him first the products that we have in our shop that are the most selled. So I can offer him for example, the most viewed articles that I have.\n",
    "\n",
    "Is it a good strategy? Well, it is not the **best of all**. Perhaps the tastes of **John** are not like the tastes of our **average custommer**. But it can be a good start point.\n",
    "\n",
    "And when we know more about **John** by our information about the articles he accessed, and how his tastes could be similar to other users tastes, then we can start doing a better recommendation job!"
   ]
  },
  {
   "cell_type": "markdown",
   "metadata": {
    "id": "iUajkw3w0sP4"
   },
   "source": [
    "`7.` Using your existing functions, provide the top 10 recommended articles you would provide for the a new user below.  You can test your function against our thoughts to make sure we are all on the same page with how we might make a recommendation."
   ]
  },
  {
   "cell_type": "markdown",
   "metadata": {
    "id": "bklfnObsqXPO"
   },
   "source": [
    "I cannot do it using my existing functions! For providing this service (10 top recommended articles), I just enhanced my `udc3.fn_get_user_article`, creating a new attribute named `top_sort=True`.\n",
    "\n",
    "So I call it in this way:\n",
    "```\n",
    "fn_get_user_article(\n",
    "    df_user_item=df_user_item,\n",
    "    df=df_inter_enc,\n",
    "    user_id=XXX, \n",
    "    max_art=10,\n",
    "    top_sort=True, #sorting!\n",
    "    verbose=False)\n",
    "```\n",
    "But I can create a new function just to complete this task:"
   ]
  },
  {
   "cell_type": "code",
   "execution_count": 130,
   "metadata": {
    "id": "yXzVaKh81rM6"
   },
   "outputs": [],
   "source": [
    "b = pd.Series(df_inter_enc.index.value_counts()[:10].index)"
   ]
  },
  {
   "cell_type": "markdown",
   "metadata": {
    "id": "QuWLtAGXxjBU"
   },
   "source": [
    "Preparing the trick:"
   ]
  },
  {
   "cell_type": "code",
   "execution_count": 131,
   "metadata": {
    "colab": {
     "base_uri": "https://localhost:8080/",
     "height": 35
    },
    "executionInfo": {
     "elapsed": 306,
     "status": "ok",
     "timestamp": 1637101504391,
     "user": {
      "displayName": "Eduardo Passeto",
      "photoUrl": "https://lh3.googleusercontent.com/a-/AOh14GjI6hyWqRLc_tvBbX89lELJagwb0PXyrM8cuapKGQ=s64",
      "userId": "17164463605285505900"
     },
     "user_tz": 180
    },
    "id": "DTHyVnTh2k2F",
    "outputId": "5f58411f-9fe6-4416-9db4-578eabb174ed"
   },
   "outputs": [
    {
     "data": {
      "text/plain": [
       "'1429.0'"
      ]
     },
     "execution_count": 131,
     "metadata": {},
     "output_type": "execute_result"
    }
   ],
   "source": [
    "str(float(1429))"
   ]
  },
  {
   "cell_type": "code",
   "execution_count": 132,
   "metadata": {
    "colab": {
     "base_uri": "https://localhost:8080/"
    },
    "executionInfo": {
     "elapsed": 14,
     "status": "ok",
     "timestamp": 1637101379669,
     "user": {
      "displayName": "Eduardo Passeto",
      "photoUrl": "https://lh3.googleusercontent.com/a-/AOh14GjI6hyWqRLc_tvBbX89lELJagwb0PXyrM8cuapKGQ=s64",
      "userId": "17164463605285505900"
     },
     "user_tz": 180
    },
    "id": "pkZ4IUBoxhpH",
    "outputId": "4830fa56-c6ea-40f8-805b-7a92877aad43"
   },
   "outputs": [
    {
     "data": {
      "text/plain": [
       "['1429.0',\n",
       " '1330.0',\n",
       " '1431.0',\n",
       " '1427.0',\n",
       " '1364.0',\n",
       " '1314.0',\n",
       " '1293.0',\n",
       " '1170.0',\n",
       " '1162.0',\n",
       " '1304.0']"
      ]
     },
     "execution_count": 132,
     "metadata": {},
     "output_type": "execute_result"
    }
   ],
   "source": [
    "c = b.apply(lambda x: str(float(x)))\n",
    "list(c)"
   ]
  },
  {
   "cell_type": "code",
   "execution_count": 133,
   "metadata": {
    "id": "Op73hUwZn_s9"
   },
   "outputs": [],
   "source": [
    "#########1#########2#########3#########4#########5#########6#########7#########8\n",
    "def fn_get_top_article_id(df,\n",
    "                          max_art=10,\n",
    "                          special_out=False,\n",
    "                          verbose=False):\n",
    "    '''This function provides a list with the most accessed articles.\n",
    "    Inputs:\n",
    "      - df (mandatory) - dataframe containing the articles IDs (m) vs users IDs \n",
    "        (n) in a way as df_inter_enc (Pandas Dataframe)\n",
    "      - max_art (optional) - maximum number of articles (Integer, default=10)\n",
    "      - special_out (optional) - if you want in the required format, please set\n",
    "        it as True (default=False)\n",
    "      - verbose (optional) - if you want some verbosity (default=False)\n",
    "    Output:\n",
    "      - a list of strings in format '9999.0' (required for validation)\n",
    "    '''\n",
    "    if verbose:\n",
    "        print('###function get top articles started')\n",
    "\n",
    "    article_id = pd.Series(df.index.value_counts()[:max_art].index)\n",
    "\n",
    "    if special_out:\n",
    "        article_id = article_id.apply(lambda x: str(float(x)))\n",
    "\n",
    "    return list(article_id)"
   ]
  },
  {
   "cell_type": "markdown",
   "metadata": {
    "id": "8EKBKQo44sr2"
   },
   "source": [
    "function `fn_get_top_article_id` created!"
   ]
  },
  {
   "cell_type": "code",
   "execution_count": 134,
   "metadata": {
    "colab": {
     "base_uri": "https://localhost:8080/"
    },
    "executionInfo": {
     "elapsed": 17,
     "status": "ok",
     "timestamp": 1637102093407,
     "user": {
      "displayName": "Eduardo Passeto",
      "photoUrl": "https://lh3.googleusercontent.com/a-/AOh14GjI6hyWqRLc_tvBbX89lELJagwb0PXyrM8cuapKGQ=s64",
      "userId": "17164463605285505900"
     },
     "user_tz": 180
    },
    "id": "r7daM_kinFsZ",
    "outputId": "e8a4e0e9-14ea-4211-bfe1-9d80e9efa603"
   },
   "outputs": [
    {
     "name": "stdout",
     "output_type": "stream",
     "text": [
      "###function get top articles started\n"
     ]
    },
    {
     "data": {
      "text/plain": [
       "['1429.0',\n",
       " '1330.0',\n",
       " '1431.0',\n",
       " '1427.0',\n",
       " '1364.0',\n",
       " '1314.0',\n",
       " '1293.0',\n",
       " '1170.0',\n",
       " '1162.0',\n",
       " '1304.0']"
      ]
     },
     "execution_count": 134,
     "metadata": {},
     "output_type": "execute_result"
    }
   ],
   "source": [
    "udc3.fn_get_top_article_id2(\n",
    "    df=df_inter_enc,\n",
    "    max_art=10,\n",
    "    special_out=True,\n",
    "    verbose=True)"
   ]
  },
  {
   "cell_type": "code",
   "execution_count": 135,
   "metadata": {
    "colab": {
     "base_uri": "https://localhost:8080/"
    },
    "executionInfo": {
     "elapsed": 15,
     "status": "ok",
     "timestamp": 1637102110689,
     "user": {
      "displayName": "Eduardo Passeto",
      "photoUrl": "https://lh3.googleusercontent.com/a-/AOh14GjI6hyWqRLc_tvBbX89lELJagwb0PXyrM8cuapKGQ=s64",
      "userId": "17164463605285505900"
     },
     "user_tz": 180
    },
    "id": "ludhl0Ym0sP4",
    "outputId": "18d8ee18-c7f0-4e0e-8072-bd66bd70ae5a"
   },
   "outputs": [
    {
     "name": "stdout",
     "output_type": "stream",
     "text": [
      "###function get top articles started\n"
     ]
    }
   ],
   "source": [
    "new_user = '0.0'\n",
    "\n",
    "# What would your recommendations be for this new user '0.0'?  As a new user, they have no observed articles.\n",
    "# Provide a list of the top 10 article ids you would give to \n",
    "new_user_rec = udc3.fn_get_top_article_id2(\n",
    "                   df=df_inter_enc,\n",
    "                   max_art=10,\n",
    "                   special_out=True,\n",
    "                   verbose=True)"
   ]
  },
  {
   "cell_type": "code",
   "execution_count": 136,
   "metadata": {
    "colab": {
     "base_uri": "https://localhost:8080/"
    },
    "executionInfo": {
     "elapsed": 290,
     "status": "ok",
     "timestamp": 1637102114646,
     "user": {
      "displayName": "Eduardo Passeto",
      "photoUrl": "https://lh3.googleusercontent.com/a-/AOh14GjI6hyWqRLc_tvBbX89lELJagwb0PXyrM8cuapKGQ=s64",
      "userId": "17164463605285505900"
     },
     "user_tz": 180
    },
    "id": "Zd77YvLq0sP5",
    "outputId": "01fa8189-4375-43cd-e307-f0086b51f6ea"
   },
   "outputs": [
    {
     "name": "stdout",
     "output_type": "stream",
     "text": [
      "That's right!  Nice job!\n"
     ]
    }
   ],
   "source": [
    "assert set(new_user_rec) == set(['1314.0','1429.0','1293.0','1427.0','1162.0',\n",
    "                                 '1364.0','1304.0','1170.0','1431.0',\n",
    "                                 '1330.0']),\\\n",
    "\"Oops!  It makes sense that in this case we would want to recommend the most popular articles, because we don't know anything about these users.\"\n",
    "\n",
    "print(\"That's right!  Nice job!\")"
   ]
  },
  {
   "cell_type": "markdown",
   "metadata": {
    "id": "Hbrl8x670sP5"
   },
   "source": [
    "### <a class=\"anchor\" id=\"Content-Recs\">Part IV: Content Based Recommendations (EXTRA - NOT REQUIRED)</a>\n",
    "\n",
    "Another method we might use to make recommendations is to perform a ranking of the highest ranked articles associated with some term.  You might consider content to be the **doc_body**, **doc_description**, or **doc_full_name**.  There isn't one way to create a content based recommendation, especially considering that each of these columns hold content related information.  \n",
    "\n",
    "`1.` Use the function body below to create a content based recommender.  Since there isn't one right answer for this recommendation tactic, no test functions are provided.  Feel free to change the function inputs if you decide you want to try a method that requires more input values.  The input values are currently set with one idea in mind that you may use to make content based recommendations.  One additional idea is that you might want to choose the most popular recommendations that meet your 'content criteria', but again, there is a lot of flexibility in how you might make these recommendations.\n",
    "\n",
    "This part is NOT REQUIRED to pass this project.  However, you may choose to take this on as an extra way to show off your skills."
   ]
  },
  {
   "cell_type": "code",
   "execution_count": 137,
   "metadata": {
    "id": "Uw3ARFi20sP5"
   },
   "outputs": [],
   "source": [
    "#########1#########2#########3#########4#########5#########6#########7#########8\n",
    "def make_content_rec(verbose=False):\n",
    "    '''This function...\n",
    "    \n",
    "    Input:\n",
    "      - verbose (optional) - if you want some verbosity in your function -\n",
    "        (Boolean, default=False)\n",
    "    Output:\n",
    "      - \n",
    "    '''\n",
    "    if verbose:\n",
    "        print('###function power started - works by Trial  & Error')        \n",
    "    start = time()\n",
    "    \n",
    "    #code\n",
    "\n",
    "    end = time()\n",
    "    \n",
    "    if verbose:\n",
    "        print('elapsed time: {:.4f}s'.format(end-begin))\n",
    "    \n",
    "    return True"
   ]
  },
  {
   "cell_type": "code",
   "execution_count": 138,
   "metadata": {
    "id": "H2icsRzXgnJi"
   },
   "outputs": [],
   "source": [
    "#########1#########2#########3#########4#########5#########6#########7#########8\n",
    "def fn_popular_recommendation(df_ranked_movie,\n",
    "                              user_id,\n",
    "                              num_top,\n",
    "                              verbose=False):\n",
    "    '''this function makes a list of top recommended movies, by title. Laterly \n",
    "    this function can be forked for other purposes.\n",
    "    \n",
    "    Source: Udacity Data Science Course - Lesson 6 - Recomendation Engines - \n",
    "    Class 8 - Second Notebook - Intro to Recommendation data - Finding Most \n",
    "    Popular Movies.\n",
    "\n",
    "    Input:\n",
    "      - df_ranked_movie (mandatory) - a pandas dataframe of the already ranked \n",
    "        movies based on avg rating, count, and time\n",
    "      - user_id (mandatory) - the user_id (str) of the individual you are making \n",
    "        recommendations for\n",
    "      - num_top (mandatory) - an integer of the number recommendations you want\n",
    "        back\n",
    "      - verbose (optional) - if you want some verbosity in your function -\n",
    "        (Boolean, default=False)\n",
    "    Output:\n",
    "      - ls_top_movies - a Pandas Series of the num_top recommended movies by \n",
    "        movie title in order, from the best to the worst.\n",
    "    '''\n",
    "    if verbose:\n",
    "        print('###function popular recomendations started')\n",
    "        \n",
    "    begin = time()\n",
    "\n",
    "    ls_top_movie = list(df_ranked_movie['movie'][:num_top])\n",
    "\n",
    "    end = time()\n",
    "    \n",
    "    if verbose:\n",
    "        print('elapsed time: {:.6f}s'.format(end-begin))\n",
    "\n",
    "    return ls_top_movie"
   ]
  },
  {
   "cell_type": "code",
   "execution_count": 139,
   "metadata": {
    "id": "jLnMG8ONhCw7"
   },
   "outputs": [],
   "source": [
    "#########1#########2#########3#########4#########5#########6#########7#########8\n",
    "def fn_popular_recommendation_filtered(df_ranked_movie,\n",
    "                                       user_id, \n",
    "                                       num_top, \n",
    "                                       year=None, \n",
    "                                       genre=None,\n",
    "                                       verbose=False):\n",
    "    '''This function creates some filter for adding robustness for our model.\n",
    "    Laterly this function can be forked for other purposes.\n",
    "    \n",
    "    Source: Udacity Data Science Course - Lesson 6 - Recommendation Engines - \n",
    "    Class 5 - First Notebook - Intro to Recommendation data - Part II - Adding\n",
    "    Filters.\n",
    "    \n",
    "    Inputs:\n",
    "      - df_ranked_movie (mandatory) - a pandas dataframe of the already ranked movies\n",
    "        based on average rating, count, and time\n",
    "      - user_id (mandatory) - the user_id (str) of the individual you are making \n",
    "        recommendations for\n",
    "      - num_top (mandatory) - an integer of the number recommendations you want\n",
    "        back\n",
    "      - year (mandatory) - a list of strings with years of movies\n",
    "      - genre (mandatory) - a list of strings with genres of movies\n",
    "      - verbose (optional) - if you want some verbosity in your function -\n",
    "        (Boolean, default=False)\n",
    "    Output:\n",
    "      - ls_top_movie - a list of the num_top recommended movies by movie title in \n",
    "        order from the best to worst one\n",
    "    '''    \n",
    "    if verbose:\n",
    "        print('###function popular recommendations (filtered) started')\n",
    "        \n",
    "    begin = time()\n",
    "\n",
    "    #a year filter\n",
    "    if year is not None:\n",
    "        if verbose:\n",
    "            print('*year filter activated')\n",
    "        df_ranked_movie = df_ranked_movie[df_ranked_movie['date'].isin(year)]\n",
    "\n",
    "    #a genre filter    \n",
    "    if genre is not None:\n",
    "        if verbose:\n",
    "            print('*genre filter activated')\n",
    "        num_genre_match = df_ranked_movie[genre].sum(axis=1)\n",
    "        #at least one was found!\n",
    "        df_ranked_movie = df_ranked_movie.loc[num_genre_match >= 1, :] \n",
    "                  \n",
    "    #recreate a top list for movies (now filtered!)\n",
    "    #num_top is the cutting criteria!\n",
    "    ls_top_movie = list(df_ranked_movie['movie'][:num_top]) \n",
    "\n",
    "    end = time()\n",
    "    \n",
    "    if verbose:\n",
    "        print('elapsed time: {:.4f}s'.format(end-begin))\n",
    "\n",
    "    return ls_top_movie"
   ]
  },
  {
   "cell_type": "markdown",
   "metadata": {
    "id": "vyReAmnb0sP5"
   },
   "source": [
    "`2.` Now that you have put together your content-based recommendation system, use the cell below to write a summary explaining how your content based recommender works.  Do you see any possible improvements that could be made to your function?  Is there anything novel about your content based recommender?\n",
    "\n",
    "This part is NOT REQUIRED to pass this project.  However, you may choose to take this on as an extra way to show off your skills."
   ]
  },
  {
   "cell_type": "markdown",
   "metadata": {
    "id": "n6373bN90sP5"
   },
   "source": [
    "**Write an explanation of your content based recommendation system here.**"
   ]
  },
  {
   "cell_type": "markdown",
   "metadata": {
    "id": "-_AWY9EE0sP5"
   },
   "source": [
    "`3.` Use your content-recommendation system to make recommendations for the below scenarios based on the comments.  Again no tests are provided here, because there isn't one right answer that could be used to find these content based recommendations.\n",
    "\n",
    "This part is NOT REQUIRED to pass this project.  However, you may choose to take this on as an extra way to show off your skills."
   ]
  },
  {
   "cell_type": "code",
   "execution_count": 140,
   "metadata": {
    "id": "foH6Cktc0sP5"
   },
   "outputs": [],
   "source": [
    "# make recommendations for a brand new user\n",
    "\n",
    "\n",
    "# make a recommendations for a user who only has interacted with article id '1427.0'\n",
    "\n"
   ]
  },
  {
   "cell_type": "markdown",
   "metadata": {
    "id": "L-VYc5I-0sP5"
   },
   "source": [
    "### <a class=\"anchor\" id=\"Matrix-Fact\">Part V: Matrix Factorization</a>\n",
    "\n",
    "In this part of the notebook, you will build use matrix factorization to make article recommendations to the users on the IBM Watson Studio platform.\n",
    "\n",
    "`1.` You should have already created a **user_item** matrix above in **question 1** of **Part III** above.  This first question here will just require that you run the cells to get things set up for the rest of **Part V** of the notebook. "
   ]
  },
  {
   "cell_type": "code",
   "execution_count": 141,
   "metadata": {
    "id": "SHPgIPN80sP6"
   },
   "outputs": [],
   "source": [
    "#loading the pre-processed user_item matrix (compressed)\n",
    "df_user_item = pd.read_pickle('user_item_matrix.p')"
   ]
  },
  {
   "cell_type": "code",
   "execution_count": 142,
   "metadata": {
    "colab": {
     "base_uri": "https://localhost:8080/",
     "height": 284
    },
    "executionInfo": {
     "elapsed": 324,
     "status": "ok",
     "timestamp": 1637439267896,
     "user": {
      "displayName": "Eduardo Passeto",
      "photoUrl": "https://lh3.googleusercontent.com/a-/AOh14GjI6hyWqRLc_tvBbX89lELJagwb0PXyrM8cuapKGQ=s64",
      "userId": "17164463605285505900"
     },
     "user_tz": 180
    },
    "id": "scDm_U9Z0sP6",
    "outputId": "5c1c4d8b-29e9-4344-b711-994b4935ee11"
   },
   "outputs": [
    {
     "data": {
      "text/html": [
       "<div>\n",
       "<style scoped>\n",
       "    .dataframe tbody tr th:only-of-type {\n",
       "        vertical-align: middle;\n",
       "    }\n",
       "\n",
       "    .dataframe tbody tr th {\n",
       "        vertical-align: top;\n",
       "    }\n",
       "\n",
       "    .dataframe thead th {\n",
       "        text-align: right;\n",
       "    }\n",
       "</style>\n",
       "<table border=\"1\" class=\"dataframe\">\n",
       "  <thead>\n",
       "    <tr style=\"text-align: right;\">\n",
       "      <th>article_id</th>\n",
       "      <th>0.0</th>\n",
       "      <th>100.0</th>\n",
       "      <th>1000.0</th>\n",
       "      <th>1004.0</th>\n",
       "      <th>1006.0</th>\n",
       "      <th>1008.0</th>\n",
       "      <th>101.0</th>\n",
       "      <th>1014.0</th>\n",
       "      <th>1015.0</th>\n",
       "      <th>1016.0</th>\n",
       "      <th>...</th>\n",
       "      <th>977.0</th>\n",
       "      <th>98.0</th>\n",
       "      <th>981.0</th>\n",
       "      <th>984.0</th>\n",
       "      <th>985.0</th>\n",
       "      <th>986.0</th>\n",
       "      <th>990.0</th>\n",
       "      <th>993.0</th>\n",
       "      <th>996.0</th>\n",
       "      <th>997.0</th>\n",
       "    </tr>\n",
       "    <tr>\n",
       "      <th>user_id</th>\n",
       "      <th></th>\n",
       "      <th></th>\n",
       "      <th></th>\n",
       "      <th></th>\n",
       "      <th></th>\n",
       "      <th></th>\n",
       "      <th></th>\n",
       "      <th></th>\n",
       "      <th></th>\n",
       "      <th></th>\n",
       "      <th></th>\n",
       "      <th></th>\n",
       "      <th></th>\n",
       "      <th></th>\n",
       "      <th></th>\n",
       "      <th></th>\n",
       "      <th></th>\n",
       "      <th></th>\n",
       "      <th></th>\n",
       "      <th></th>\n",
       "      <th></th>\n",
       "    </tr>\n",
       "  </thead>\n",
       "  <tbody>\n",
       "    <tr>\n",
       "      <th>1</th>\n",
       "      <td>0.0</td>\n",
       "      <td>0.0</td>\n",
       "      <td>0.0</td>\n",
       "      <td>0.0</td>\n",
       "      <td>0.0</td>\n",
       "      <td>0.0</td>\n",
       "      <td>0.0</td>\n",
       "      <td>0.0</td>\n",
       "      <td>0.0</td>\n",
       "      <td>0.0</td>\n",
       "      <td>...</td>\n",
       "      <td>0.0</td>\n",
       "      <td>0.0</td>\n",
       "      <td>1.0</td>\n",
       "      <td>0.0</td>\n",
       "      <td>0.0</td>\n",
       "      <td>0.0</td>\n",
       "      <td>0.0</td>\n",
       "      <td>0.0</td>\n",
       "      <td>0.0</td>\n",
       "      <td>0.0</td>\n",
       "    </tr>\n",
       "    <tr>\n",
       "      <th>2</th>\n",
       "      <td>0.0</td>\n",
       "      <td>0.0</td>\n",
       "      <td>0.0</td>\n",
       "      <td>0.0</td>\n",
       "      <td>0.0</td>\n",
       "      <td>0.0</td>\n",
       "      <td>0.0</td>\n",
       "      <td>0.0</td>\n",
       "      <td>0.0</td>\n",
       "      <td>0.0</td>\n",
       "      <td>...</td>\n",
       "      <td>0.0</td>\n",
       "      <td>0.0</td>\n",
       "      <td>0.0</td>\n",
       "      <td>0.0</td>\n",
       "      <td>0.0</td>\n",
       "      <td>0.0</td>\n",
       "      <td>0.0</td>\n",
       "      <td>0.0</td>\n",
       "      <td>0.0</td>\n",
       "      <td>0.0</td>\n",
       "    </tr>\n",
       "    <tr>\n",
       "      <th>3</th>\n",
       "      <td>0.0</td>\n",
       "      <td>0.0</td>\n",
       "      <td>0.0</td>\n",
       "      <td>0.0</td>\n",
       "      <td>0.0</td>\n",
       "      <td>0.0</td>\n",
       "      <td>0.0</td>\n",
       "      <td>0.0</td>\n",
       "      <td>0.0</td>\n",
       "      <td>0.0</td>\n",
       "      <td>...</td>\n",
       "      <td>1.0</td>\n",
       "      <td>0.0</td>\n",
       "      <td>0.0</td>\n",
       "      <td>0.0</td>\n",
       "      <td>0.0</td>\n",
       "      <td>0.0</td>\n",
       "      <td>0.0</td>\n",
       "      <td>0.0</td>\n",
       "      <td>0.0</td>\n",
       "      <td>0.0</td>\n",
       "    </tr>\n",
       "    <tr>\n",
       "      <th>4</th>\n",
       "      <td>0.0</td>\n",
       "      <td>0.0</td>\n",
       "      <td>0.0</td>\n",
       "      <td>0.0</td>\n",
       "      <td>0.0</td>\n",
       "      <td>0.0</td>\n",
       "      <td>0.0</td>\n",
       "      <td>0.0</td>\n",
       "      <td>0.0</td>\n",
       "      <td>0.0</td>\n",
       "      <td>...</td>\n",
       "      <td>0.0</td>\n",
       "      <td>0.0</td>\n",
       "      <td>0.0</td>\n",
       "      <td>0.0</td>\n",
       "      <td>0.0</td>\n",
       "      <td>0.0</td>\n",
       "      <td>0.0</td>\n",
       "      <td>0.0</td>\n",
       "      <td>0.0</td>\n",
       "      <td>0.0</td>\n",
       "    </tr>\n",
       "    <tr>\n",
       "      <th>5</th>\n",
       "      <td>0.0</td>\n",
       "      <td>0.0</td>\n",
       "      <td>0.0</td>\n",
       "      <td>0.0</td>\n",
       "      <td>0.0</td>\n",
       "      <td>0.0</td>\n",
       "      <td>0.0</td>\n",
       "      <td>0.0</td>\n",
       "      <td>0.0</td>\n",
       "      <td>0.0</td>\n",
       "      <td>...</td>\n",
       "      <td>0.0</td>\n",
       "      <td>0.0</td>\n",
       "      <td>0.0</td>\n",
       "      <td>0.0</td>\n",
       "      <td>0.0</td>\n",
       "      <td>0.0</td>\n",
       "      <td>0.0</td>\n",
       "      <td>0.0</td>\n",
       "      <td>0.0</td>\n",
       "      <td>0.0</td>\n",
       "    </tr>\n",
       "  </tbody>\n",
       "</table>\n",
       "<p>5 rows × 714 columns</p>\n",
       "</div>"
      ],
      "text/plain": [
       "article_id  0.0  100.0  1000.0  1004.0  1006.0  1008.0  101.0  1014.0  1015.0  \\\n",
       "user_id                                                                         \n",
       "1           0.0    0.0     0.0     0.0     0.0     0.0    0.0     0.0     0.0   \n",
       "2           0.0    0.0     0.0     0.0     0.0     0.0    0.0     0.0     0.0   \n",
       "3           0.0    0.0     0.0     0.0     0.0     0.0    0.0     0.0     0.0   \n",
       "4           0.0    0.0     0.0     0.0     0.0     0.0    0.0     0.0     0.0   \n",
       "5           0.0    0.0     0.0     0.0     0.0     0.0    0.0     0.0     0.0   \n",
       "\n",
       "article_id  1016.0  ...  977.0  98.0  981.0  984.0  985.0  986.0  990.0  \\\n",
       "user_id             ...                                                   \n",
       "1              0.0  ...    0.0   0.0    1.0    0.0    0.0    0.0    0.0   \n",
       "2              0.0  ...    0.0   0.0    0.0    0.0    0.0    0.0    0.0   \n",
       "3              0.0  ...    1.0   0.0    0.0    0.0    0.0    0.0    0.0   \n",
       "4              0.0  ...    0.0   0.0    0.0    0.0    0.0    0.0    0.0   \n",
       "5              0.0  ...    0.0   0.0    0.0    0.0    0.0    0.0    0.0   \n",
       "\n",
       "article_id  993.0  996.0  997.0  \n",
       "user_id                          \n",
       "1             0.0    0.0    0.0  \n",
       "2             0.0    0.0    0.0  \n",
       "3             0.0    0.0    0.0  \n",
       "4             0.0    0.0    0.0  \n",
       "5             0.0    0.0    0.0  \n",
       "\n",
       "[5 rows x 714 columns]"
      ]
     },
     "execution_count": 142,
     "metadata": {},
     "output_type": "execute_result"
    }
   ],
   "source": [
    "#taking a look if everything is OK\n",
    "df_user_item.head()"
   ]
  },
  {
   "cell_type": "markdown",
   "metadata": {
    "id": "EqOjkHvb0sP6"
   },
   "source": [
    "`2.` In this situation, you can use Singular Value Decomposition from [numpy](https://docs.scipy.org/doc/numpy-1.14.0/reference/generated/numpy.linalg.svd.html) on the user-item matrix.  Use the cell to perform SVD, and explain why this is different than in the lesson."
   ]
  },
  {
   "cell_type": "code",
   "execution_count": 143,
   "metadata": {
    "colab": {
     "base_uri": "https://localhost:8080/"
    },
    "executionInfo": {
     "elapsed": 6894,
     "status": "ok",
     "timestamp": 1637439281339,
     "user": {
      "displayName": "Eduardo Passeto",
      "photoUrl": "https://lh3.googleusercontent.com/a-/AOh14GjI6hyWqRLc_tvBbX89lELJagwb0PXyrM8cuapKGQ=s64",
      "userId": "17164463605285505900"
     },
     "user_tz": 180
    },
    "id": "0Cjkvlo60sP6",
    "outputId": "c56be900-82c6-4ab9-ba86-73f9b2e17599"
   },
   "outputs": [
    {
     "name": "stdout",
     "output_type": "stream",
     "text": [
      "elapsed time: 12.3764 seconds\n"
     ]
    }
   ],
   "source": [
    "#Making the SVD on the User-Item array\n",
    "start = time()\n",
    "\n",
    "#decomposing the Array to his basic elements\n",
    "#(two Autovectors and one fundamental parameter)\n",
    "u, s, vt =  np.linalg.svd(df_user_item)\n",
    "\n",
    "end = time ()\n",
    "print('elapsed time: {:.4f} seconds'.format(end-start))"
   ]
  },
  {
   "cell_type": "markdown",
   "metadata": {
    "id": "PCQYW49lAOUt"
   },
   "source": [
    "Taking a look on these matrixes/vector:\n",
    "\n",
    "- these tutorials at Youtube are very illustrative about SVD [Steve Brunton](https://www.youtube.com/watch?v=H7qMMudo3e8&ab_channel=SteveBrunton)\n",
    "\n",
    "- what it does [Rajaraman Leskovec](https://www.youtube.com/watch?v=c7e-D2tmRE0&ab_channel=ArtificialIntelligence-AllinOne)\n",
    "\n",
    "- a bit of the analytic geometry involved [Gilbert Strang](https://www.youtube.com/watch?v=mBcLRGuAFUk&ab_channel=MITOpenCourseWare)"
   ]
  },
  {
   "cell_type": "code",
   "execution_count": 144,
   "metadata": {
    "colab": {
     "base_uri": "https://localhost:8080/"
    },
    "executionInfo": {
     "elapsed": 340,
     "status": "ok",
     "timestamp": 1637439296333,
     "user": {
      "displayName": "Eduardo Passeto",
      "photoUrl": "https://lh3.googleusercontent.com/a-/AOh14GjI6hyWqRLc_tvBbX89lELJagwb0PXyrM8cuapKGQ=s64",
      "userId": "17164463605285505900"
     },
     "user_tz": 180
    },
    "id": "GJze5Ywg6z9o",
    "outputId": "c81ecd1c-2eba-4587-acc1-df92ff66bdab"
   },
   "outputs": [
    {
     "data": {
      "text/plain": [
       "dtype('float64')"
      ]
     },
     "execution_count": 144,
     "metadata": {},
     "output_type": "execute_result"
    }
   ],
   "source": [
    "#u\n",
    "s.dtype\n",
    "#vt"
   ]
  },
  {
   "cell_type": "markdown",
   "metadata": {
    "id": "oXOLYRxn0sP6"
   },
   "source": [
    "In this case, SVD can work, as we are pretty sure tha we don´t have any **blank row**.\n",
    "\n",
    "What is the magic? Just because this data came from an **intermediary dataframe** in a database. In this kind of structure, you have an implicit consistence that if an **User** (a row) exists, an associated **Article** (a column with an 1.0) **must** exist!\n",
    "\n",
    "Why? Just because **intermediary tables** are used only to create **n:m** kind of relationships in a database. So, it is inherent the existence of the both sides for the consistence of the whole database!\n",
    "\n",
    "As we don´t have any row/column completely **blank** to melt the SV Decomposition, I can be a bit confident that nothing will go bad with this dataframe.\n",
    "\n",
    "And How is this one different from the **Users vs Movies** dataframe from the Lesson? Oh, the thing is: an user can be there, as it is kind of an **base** dataframe (for example: **John** already registered on Netflix service, but he is very new in there, and never published any **classification** for a movie).\n",
    "\n",
    "And so, we could **filter** that kind of User in the Lesson? The answer is **Yes**, but the idea was to present this new fancy idea, from **Funk SVD**, that is not to work only with **Movies** and **Users** and kind of **Classifications**, but to work with **Latent Features**!"
   ]
  },
  {
   "cell_type": "markdown",
   "metadata": {
    "id": "GF6TRgz60sP6"
   },
   "source": [
    "`3.` Now for the tricky part, how do we choose the number of latent features to use?  Running the below cell, you can see that as the number of latent features increases, we obtain a lower error rate on making predictions for the 1 and 0 values in the user-item matrix.  Run the cell below to get an idea of how the accuracy improves as we increase the number of latent features.\n",
    "\n",
    "Documentation for used functions:\n",
    "\n",
    "- [numpy.absolute or numpy.abs](https://numpy.org/doc/stable/reference/generated/numpy.absolute.html?highlight=numpy%20abs) → gives the module of a number, vector ou array\n",
    "\n",
    "- [numpy.arange](https://numpy.org/doc/stable/reference/generated/numpy.arange.html) → creates a sliced vector, for simulations\n",
    "\n",
    "- [numpy.around](https://numpy.org/doc/stable/reference/generated/numpy.around.html?highlight=numpy%20around#numpy.around) → rounds all the elements of the matrix for the same precision\n",
    "\n",
    "- [numpy.diag](https://numpy.org/doc/stable/reference/generated/numpy.diag.html?highlight=numpy%20diag#numpy.diag) → rebuilds the diagonal u matrix, from the given vector, for calculation\n",
    "\n",
    "- [numpy.dot](https://numpy.org/doc/stable/reference/generated/numpy.dot.html?highlight=numpy%20dot#numpy.dot) → makes de dot product (cartesian) from a matrix and a vector, or two matrix (geomety restrictions must be obeyed!)\n",
    "\n",
    "- [numpy.subtract](https://numpy.org/doc/stable/reference/generated/numpy.subtract.html?highlight=numpy%20subtract#numpy.subtract) → subtracts one number, vector or matrix from another one\n",
    "\n",
    "- [numpy.sum](https://numpy.org/doc/stable/reference/generated/numpy.sum.html?highlight=numpy%20sum#numpy.sum) → sum two numbers, in a number, vector or matrix way\n",
    "\n",
    "(Why to document them? Just to resist the tentation to use Python loops and other (slower) things to solve problems that are inherently mathematical!)\n",
    "\n",
    "Turning this into a function:"
   ]
  },
  {
   "cell_type": "code",
   "execution_count": 145,
   "metadata": {
    "colab": {
     "base_uri": "https://localhost:8080/",
     "height": 111
    },
    "executionInfo": {
     "elapsed": 319,
     "status": "ok",
     "timestamp": 1637439302939,
     "user": {
      "displayName": "Eduardo Passeto",
      "photoUrl": "https://lh3.googleusercontent.com/a-/AOh14GjI6hyWqRLc_tvBbX89lELJagwb0PXyrM8cuapKGQ=s64",
      "userId": "17164463605285505900"
     },
     "user_tz": 180
    },
    "id": "ctqHQ8r5hkO3",
    "outputId": "f7d0d167-fc6c-495a-8183-d82fbc4f593f"
   },
   "outputs": [
    {
     "data": {
      "text/html": [
       "<div>\n",
       "<style scoped>\n",
       "    .dataframe tbody tr th:only-of-type {\n",
       "        vertical-align: middle;\n",
       "    }\n",
       "\n",
       "    .dataframe tbody tr th {\n",
       "        vertical-align: top;\n",
       "    }\n",
       "\n",
       "    .dataframe thead th {\n",
       "        text-align: right;\n",
       "    }\n",
       "</style>\n",
       "<table border=\"1\" class=\"dataframe\">\n",
       "  <thead>\n",
       "    <tr style=\"text-align: right;\">\n",
       "      <th></th>\n",
       "      <th>title</th>\n",
       "      <th>user_id</th>\n",
       "    </tr>\n",
       "    <tr>\n",
       "      <th>article_id</th>\n",
       "      <th></th>\n",
       "      <th></th>\n",
       "    </tr>\n",
       "  </thead>\n",
       "  <tbody>\n",
       "    <tr>\n",
       "      <th>1430</th>\n",
       "      <td>using pixiedust for fast, flexible, and easier...</td>\n",
       "      <td>1</td>\n",
       "    </tr>\n",
       "  </tbody>\n",
       "</table>\n",
       "</div>"
      ],
      "text/plain": [
       "                                                        title user_id\n",
       "article_id                                                           \n",
       "1430        using pixiedust for fast, flexible, and easier...       1"
      ]
     },
     "execution_count": 145,
     "metadata": {},
     "output_type": "execute_result"
    }
   ],
   "source": [
    "df_inter_enc.head(1)"
   ]
  },
  {
   "cell_type": "code",
   "execution_count": 146,
   "metadata": {
    "colab": {
     "base_uri": "https://localhost:8080/"
    },
    "executionInfo": {
     "elapsed": 307,
     "status": "ok",
     "timestamp": 1637439308831,
     "user": {
      "displayName": "Eduardo Passeto",
      "photoUrl": "https://lh3.googleusercontent.com/a-/AOh14GjI6hyWqRLc_tvBbX89lELJagwb0PXyrM8cuapKGQ=s64",
      "userId": "17164463605285505900"
     },
     "user_tz": 180
    },
    "id": "IqrRyWCsRD6G",
    "outputId": "445ab9a0-1c96-41b7-8ff0-74ff640ef281"
   },
   "outputs": [
    {
     "data": {
      "text/plain": [
       "45993"
      ]
     },
     "execution_count": 146,
     "metadata": {},
     "output_type": "execute_result"
    }
   ],
   "source": [
    "df_inter_enc.shape[0]"
   ]
  },
  {
   "cell_type": "code",
   "execution_count": 147,
   "metadata": {
    "colab": {
     "base_uri": "https://localhost:8080/"
    },
    "executionInfo": {
     "elapsed": 14,
     "status": "ok",
     "timestamp": 1637439309966,
     "user": {
      "displayName": "Eduardo Passeto",
      "photoUrl": "https://lh3.googleusercontent.com/a-/AOh14GjI6hyWqRLc_tvBbX89lELJagwb0PXyrM8cuapKGQ=s64",
      "userId": "17164463605285505900"
     },
     "user_tz": 180
    },
    "id": "BTjwMqVphRlX",
    "outputId": "9e1904c7-d538-4f97-bf60-cd4d4d06a337"
   },
   "outputs": [
    {
     "data": {
      "text/plain": [
       "33682.0"
      ]
     },
     "execution_count": 147,
     "metadata": {},
     "output_type": "execute_result"
    }
   ],
   "source": [
    "df_user_item.sum().sum()"
   ]
  },
  {
   "cell_type": "code",
   "execution_count": 148,
   "metadata": {
    "id": "-kk0tZGj0sP6"
   },
   "outputs": [],
   "source": [
    "#########1#########2#########3#########4#########5#########6#########7#########8\n",
    "def fn_svd_plot (df_user_item,\n",
    "                 lat_start=10,\n",
    "                 lat_stop=710,\n",
    "                 lat_step=20,\n",
    "                 plot=False,\n",
    "                 verbose=False):\n",
    "    '''This function works as a toolkit for plotting/validating SVD Arrays.\n",
    "\n",
    "    The code here presented is strongly based on the Udacity Jupyter Notebook\n",
    "    Recommendations wit IBM, and is part of the learning exercise, necessary to\n",
    "    complete the third project of Data Scientist course. It was conceived as a\n",
    "    learning guide for students who wants to go deeper in Python/Pandas.\n",
    "\n",
    "    Inputs:\n",
    "      - df_user_item (mandatory) - an Array in the shape of User-Item (Pandas\n",
    "        Dataframe)\n",
    "      - latent parameters (optional) - defining (start, stop, step) for the\n",
    "        size of latent features to be measured in each step\n",
    "        (default: (10,710,20))\n",
    "        *if you want to simulate starting from less than 10 latent, please \n",
    "         alter lat_start parameter\n",
    "        *if you want a shorter/longer, alter lat_stop\n",
    "        *if you need more or less graining, ater lat_step\n",
    "      - plot (optional) - if you want to plot the graph (default=False)\n",
    "      - verbose (optional) - if you want some verbosity in your function -\n",
    "        (Boolean, default=False)\n",
    "    Output:\n",
    "      - a plotted graphic with the results\n",
    "    '''\n",
    "    start = time()\n",
    "\n",
    "    if verbose:\n",
    "        print('###function SVD plot toolkit started!')\n",
    "\n",
    "    #step zero - preparation\n",
    "    #Making the SVD on the User-Item array\n",
    "    #decomposing the Array to his basic elements\n",
    "    #(two Autovectors and one fundamental parameter)\n",
    "    u, s, vt =  np.linalg.svd(df_user_item)\n",
    "\n",
    "    #first, create an Array \n",
    "    #for simulating different choices on latent features\n",
    "    num_latent_feat = np.arange(lat_start,\n",
    "                                lat_stop,\n",
    "                                lat_step) #start, stop, step (X-axis)\n",
    "    sum_err = []\n",
    "\n",
    "    for k in num_latent_feat: #test for diverse parameters\n",
    "        #restructure, rebuilding with k latent features\n",
    "        #u[:, :k] <-this guy is an Array and all his rows will be shortened to k\n",
    "        #s[:k]<-this one is a vector (representing a diagonal Array), will be \n",
    "        #       chopped in both directions\n",
    "        #vt[:k, :] <-this one is an Array will be chopped to k lines\n",
    "        #the idea is to reduce dimensionallity\n",
    "        #less explanatory equations for the model, trying to NOT map noise\n",
    "        s_new, u_new, vt_new = np.diag(s[:k]), u[:, :k], vt[:k, :]    \n",
    "    \n",
    "        #make the dot product\n",
    "        #rebuild the user_item (now a estimated one), just makind the dot\n",
    "        #product between its components\n",
    "        df_user_item_est = np.around(np.dot(np.dot(u_new, s_new), vt_new))\n",
    "    \n",
    "        #compute the error for each prediction to actual value\n",
    "        #takes the user-item array and subtrat from it the estimated user-item\n",
    "        #this gives us an idea of the total error that we are impetrating by \n",
    "        #using a model, instead of raw data\n",
    "        diffs = np.subtract(df_user_item, df_user_item_est)\n",
    "    \n",
    "        #total errors and keep track of them\n",
    "        #sum the modules for both dimmensions\n",
    "        err = np.sum(np.sum(np.abs(diffs)))\n",
    "        #append them in a list, for plotting the graph (Y-axis)\n",
    "        sum_err.append(err)\n",
    "       \n",
    "    if plot:\n",
    "        item_num = df_user_item.sum().sum() #get the number of items\n",
    "        if verbose:\n",
    "            print('*plotting for {:.0f} items'.format(item_num))\n",
    "\n",
    "        plt.plot(num_latent_feat, 1 - np.array(sum_err)/item_num) #df_inter_enc.shape[0])\n",
    "        plt.xlabel('Latent Features')\n",
    "        plt.ylabel('Accuracy')\n",
    "        plt.title('Accuracy vs Latent Features');\n",
    "\n",
    "    end=time()\n",
    "    print('time to process: {:.4f}s'.format(end-start))\n",
    "\n",
    "    return True"
   ]
  },
  {
   "cell_type": "markdown",
   "metadata": {
    "id": "H5LSuknCBKyM"
   },
   "source": [
    "Function `fn_svd_plot` created!\n",
    "\n",
    "*New* version of `fn_svd_plot` created:    \n",
    "\n",
    "- now it can deal with only one dataset\n",
    "\n",
    "- or **two** datasets Train (named Main) and Test\n",
    "\n",
    "- it sepparates the features processing from the main body of the function"
   ]
  },
  {
   "cell_type": "code",
   "execution_count": 149,
   "metadata": {
    "colab": {
     "base_uri": "https://localhost:8080/",
     "height": 469
    },
    "executionInfo": {
     "elapsed": 13681,
     "status": "ok",
     "timestamp": 1637439940411,
     "user": {
      "displayName": "Eduardo Passeto",
      "photoUrl": "https://lh3.googleusercontent.com/a-/AOh14GjI6hyWqRLc_tvBbX89lELJagwb0PXyrM8cuapKGQ=s64",
      "userId": "17164463605285505900"
     },
     "user_tz": 180
    },
    "id": "PSJNV892BPnQ",
    "outputId": "e494e11e-c83c-4621-cf1c-1b1d3ef83733"
   },
   "outputs": [
    {
     "name": "stdout",
     "output_type": "stream",
     "text": [
      "###function SVD plot toolkit started\n",
      "###function SVD latent started\n",
      "*normal behavior started\n",
      "time to process: 54.9861s\n",
      "*plotting for 33682 items\n",
      "time to process: 55.1740s\n"
     ]
    },
    {
     "data": {
      "text/plain": [
       "True"
      ]
     },
     "execution_count": 149,
     "metadata": {},
     "output_type": "execute_result"
    },
    {
     "data": {
      "image/png": "[encoded data removed]",
      "text/plain": [
       "<Figure size 648x360 with 1 Axes>"
      ]
     },
     "metadata": {
      "needs_background": "light"
     },
     "output_type": "display_data"
    }
   ],
   "source": [
    "udc3.fn_svd_plot(\n",
    "    df_user_item=df_user_item,\n",
    "    lat_start=10,\n",
    "    lat_stop=710,\n",
    "    lat_step=20,\n",
    "    validate=False, #we are not validating by now!\n",
    "    plot=True,\n",
    "    verbose=True)"
   ]
  },
  {
   "cell_type": "markdown",
   "metadata": {
    "id": "QkAPRTgI0sP6"
   },
   "source": [
    "`4.` From the above, we can't really be sure how many features to use, because simply having a better way to predict the 1's and 0's of the matrix doesn't exactly give us an indication of if we are able to make good recommendations.  Instead, we might split our dataset into a training and test set of data, as shown in the cell below.  \n",
    "\n",
    "Use the code from question 3 to understand the impact on accuracy of the training and test sets of data with different numbers of latent features. Using the split below: \n",
    "\n",
    "* How many users can we make predictions for in the test set?  \n",
    "* How many users are we not able to make predictions for because of the cold start problem?\n",
    "* How many articles can we make predictions for in the test set?  \n",
    "* How many articles are we not able to make predictions for because of the cold start problem?"
   ]
  },
  {
   "cell_type": "code",
   "execution_count": 150,
   "metadata": {
    "colab": {
     "base_uri": "https://localhost:8080/"
    },
    "executionInfo": {
     "elapsed": 331,
     "status": "ok",
     "timestamp": 1637439961695,
     "user": {
      "displayName": "Eduardo Passeto",
      "photoUrl": "https://lh3.googleusercontent.com/a-/AOh14GjI6hyWqRLc_tvBbX89lELJagwb0PXyrM8cuapKGQ=s64",
      "userId": "17164463605285505900"
     },
     "user_tz": 180
    },
    "id": "J_Hc5Qru0sP7",
    "outputId": "d1e83ae8-88ef-4553-c3de-d7b8f6f08e59"
   },
   "outputs": [
    {
     "name": "stdout",
     "output_type": "stream",
     "text": [
      "original dataset: 45993 rows x 2 cols\n",
      "splitted in Train (Main): 40000 rows x 2 cols and Test: 5993 rows x 2 cols\n"
     ]
    }
   ],
   "source": [
    "#I could use a better splitting method, but I will not change it!\n",
    "df_train = df_inter_enc.head(40000)\n",
    "df_test = df_inter_enc.tail(5993)\n",
    "print('original dataset: {} rows x {} cols'\\\n",
    "      .format(df_inter_enc.shape[0], \n",
    "              df_inter_enc.shape[1]\n",
    "))\n",
    "print('splitted in Train (Main): {} rows x {} cols and Test: {} rows x {} cols'\\\n",
    "      .format(df_train.shape[0], \n",
    "              df_train.shape[1], \n",
    "              df_test.shape[0], \n",
    "              df_test.shape[1]\n",
    "))"
   ]
  },
  {
   "cell_type": "markdown",
   "metadata": {
    "id": "XkVh28zkgIrE"
   },
   "source": [
    "Testing subfunction:    "
   ]
  },
  {
   "cell_type": "code",
   "execution_count": 151,
   "metadata": {
    "colab": {
     "base_uri": "https://localhost:8080/"
    },
    "executionInfo": {
     "elapsed": 1488,
     "status": "ok",
     "timestamp": 1637439965174,
     "user": {
      "displayName": "Eduardo Passeto",
      "photoUrl": "https://lh3.googleusercontent.com/a-/AOh14GjI6hyWqRLc_tvBbX89lELJagwb0PXyrM8cuapKGQ=s64",
      "userId": "17164463605285505900"
     },
     "user_tz": 180
    },
    "id": "k8X2VkXdgF_s",
    "outputId": "6aeaee34-0b4a-4c85-c2e1-ce8ce652a049"
   },
   "outputs": [
    {
     "name": "stdout",
     "output_type": "stream",
     "text": [
      "29264 user-items in Train (Main): 4487 rows x 714 cols\n"
     ]
    }
   ],
   "source": [
    "df_user_item_train = udc3.fn_create_user_item_matrix(\n",
    "                          df=df_train,\n",
    "                          verbose=False\n",
    ")\n",
    "print('{:.0f} user-items in Train (Main): {} rows x {} cols'\\\n",
    "      .format(df_user_item_train.sum().sum(),\n",
    "              df_user_item_train.shape[0], \n",
    "              df_user_item_train.shape[1]\n",
    "))"
   ]
  },
  {
   "cell_type": "code",
   "execution_count": 152,
   "metadata": {
    "colab": {
     "base_uri": "https://localhost:8080/"
    },
    "executionInfo": {
     "elapsed": 776,
     "status": "ok",
     "timestamp": 1637439972183,
     "user": {
      "displayName": "Eduardo Passeto",
      "photoUrl": "https://lh3.googleusercontent.com/a-/AOh14GjI6hyWqRLc_tvBbX89lELJagwb0PXyrM8cuapKGQ=s64",
      "userId": "17164463605285505900"
     },
     "user_tz": 180
    },
    "id": "opSD-dq2hfaZ",
    "outputId": "6c4a24d6-3b52-4cd5-844d-fcb98b4a7873"
   },
   "outputs": [
    {
     "name": "stdout",
     "output_type": "stream",
     "text": [
      "4445 user-items in Test: 682 rows x 574 cols\n"
     ]
    }
   ],
   "source": [
    "df_user_item_test = udc3.fn_create_user_item_matrix(\n",
    "                          df=df_test,\n",
    "                          verbose=False\n",
    ")\n",
    "print('{:.0f} user-items in Test: {} rows x {} cols'\\\n",
    "      .format(df_user_item_test.sum().sum(),\n",
    "              df_user_item_test.shape[0], \n",
    "              df_user_item_test.shape[1]\n",
    "))"
   ]
  },
  {
   "cell_type": "markdown",
   "metadata": {
    "id": "t8IRMQbXh0dl"
   },
   "source": [
    "Creating the main function"
   ]
  },
  {
   "cell_type": "code",
   "execution_count": 153,
   "metadata": {
    "id": "46AYGoeF0sP7"
   },
   "outputs": [],
   "source": [
    "#########1#########2#########3#########4#########5#########6#########7#########8\n",
    "def fn_create_test_and_train_user_item(df,\n",
    "                                       train_size,\n",
    "                                       verbose=False):\n",
    "    '''This function takes a dataset, splits it in Train and Test and returns\n",
    "    some useful dataframes and series for analysis.\n",
    "\n",
    "\n",
    "    Inputs:\n",
    "      - df (mandatory) - a kind of df_inter_enc Dataframe to be splitted into a \n",
    "        Train and a Test Dataframe (Users as rows and Articles as columns) - \n",
    "        (Pandas Dataframe)\n",
    "      - train_size (mandatory) - size (number of rows) for the Train Dataframe\n",
    "        (Integer)\n",
    "      - verbose (optional) - if you want some verbosity in your function -\n",
    "        (Boolean, default=False)\n",
    "    Outputs:\n",
    "      - df_user_item_train - a Pandas user-item Dataframe for Train\n",
    "      - df_user_item_test - a Pandas user-item Dataframe for Test\n",
    "      - test_id - all of the test User IDs\n",
    "      - test_art - all of the test Article IDs\n",
    "    '''\n",
    "    if verbose:\n",
    "        print('###function create test and train user-item started')\n",
    "                \n",
    "    start_main = time()\n",
    "    orig_row = df.shape[0]\n",
    "    orig_col = df.shape[1]\n",
    "\n",
    "    if verbose:\n",
    "        print('original dataset: {} x {}'.format(orig_row, orig_col))\n",
    "\n",
    "    if train_size >= orig_row:\n",
    "        raise Exception('cannot process, train is as or larger than df')\n",
    "    else:\n",
    "        df_train = df.head(train_size)\n",
    "        df_test = df.tail(orig_row-train_size)\n",
    "        \n",
    "    #first step: create my user items Arrays\n",
    "    df_user_item_train = udc3.fn_create_user_item_matrix(\n",
    "                          df=df_train,\n",
    "                          verbose=verbose\n",
    "    )\n",
    "    df_user_item_test = udc3.fn_create_user_item_matrix(\n",
    "                         df=df_test,\n",
    "                         verbose=verbose\n",
    "    )\n",
    "    if verbose:\n",
    "        print('dataset sizes - train: {} x {}, test: {} x {}'\\\n",
    "              .format(df_train.shape[0], \n",
    "                      df_train.shape[1], \n",
    "                      df_test.shape[0], \n",
    "                      df_test.shape[1]\n",
    "    ))\n",
    "    #second step, rows (Users) and columns (Articles) for test dataframe\n",
    "    sr_test_id = df_user_item_test.index.values\n",
    "    sr_test_art = df_user_item_test.columns.values\n",
    "\n",
    "    end = time()\n",
    "\n",
    "    if verbose:\n",
    "        print('elapsed time: {:.4f}s'.format(end-start_main))\n",
    "\n",
    "    return df_user_item_train, df_user_item_test, sr_test_id, sr_test_art"
   ]
  },
  {
   "cell_type": "code",
   "execution_count": 154,
   "metadata": {
    "colab": {
     "base_uri": "https://localhost:8080/"
    },
    "executionInfo": {
     "elapsed": 1716,
     "status": "ok",
     "timestamp": 1637447281030,
     "user": {
      "displayName": "Eduardo Passeto",
      "photoUrl": "https://lh3.googleusercontent.com/a-/AOh14GjI6hyWqRLc_tvBbX89lELJagwb0PXyrM8cuapKGQ=s64",
      "userId": "17164463605285505900"
     },
     "user_tz": 180
    },
    "id": "1C-i65JM0sP7",
    "outputId": "4145ba6b-74fd-4d43-bee2-213fd5e131c9"
   },
   "outputs": [
    {
     "name": "stdout",
     "output_type": "stream",
     "text": [
      "###function create test and train user-item started\n",
      "original dataset: 45993 x 2\n",
      "###function create user item matrix started\n",
      "user matrix has 4487 users (rows) and 714 articles (columns)\n",
      "elapsed time: 3.6567s\n",
      "###function create user item matrix started\n",
      "user matrix has 682 users (rows) and 574 articles (columns)\n",
      "elapsed time: 1.4121s\n",
      "dataset sizes - train: 40000 x 2, test: 5993 x 2\n",
      "elapsed time: 5.0759s\n"
     ]
    }
   ],
   "source": [
    "df_user_item_train, df_user_item_test, sr_test_id, sr_test_art =\\\n",
    "udc3.fn_create_test_and_train_user_item(\n",
    "    df=df_inter_enc, \n",
    "    train_size=40000,\n",
    "    verbose=True\n",
    ")"
   ]
  },
  {
   "cell_type": "code",
   "execution_count": 155,
   "metadata": {
    "colab": {
     "base_uri": "https://localhost:8080/",
     "height": 253
    },
    "executionInfo": {
     "elapsed": 322,
     "status": "ok",
     "timestamp": 1637439996437,
     "user": {
      "displayName": "Eduardo Passeto",
      "photoUrl": "https://lh3.googleusercontent.com/a-/AOh14GjI6hyWqRLc_tvBbX89lELJagwb0PXyrM8cuapKGQ=s64",
      "userId": "17164463605285505900"
     },
     "user_tz": 180
    },
    "id": "K9N-w6AKTJNN",
    "outputId": "aac02dc2-cdb3-492b-c573-c0c54a9b4409"
   },
   "outputs": [
    {
     "data": {
      "text/html": [
       "<div>\n",
       "<style scoped>\n",
       "    .dataframe tbody tr th:only-of-type {\n",
       "        vertical-align: middle;\n",
       "    }\n",
       "\n",
       "    .dataframe tbody tr th {\n",
       "        vertical-align: top;\n",
       "    }\n",
       "\n",
       "    .dataframe thead th {\n",
       "        text-align: right;\n",
       "    }\n",
       "</style>\n",
       "<table border=\"1\" class=\"dataframe\">\n",
       "  <thead>\n",
       "    <tr style=\"text-align: right;\">\n",
       "      <th>article_id</th>\n",
       "      <th>0</th>\n",
       "      <th>2</th>\n",
       "      <th>4</th>\n",
       "      <th>8</th>\n",
       "      <th>9</th>\n",
       "      <th>12</th>\n",
       "      <th>14</th>\n",
       "      <th>15</th>\n",
       "      <th>16</th>\n",
       "      <th>18</th>\n",
       "      <th>...</th>\n",
       "      <th>1432</th>\n",
       "      <th>1433</th>\n",
       "      <th>1434</th>\n",
       "      <th>1435</th>\n",
       "      <th>1436</th>\n",
       "      <th>1437</th>\n",
       "      <th>1439</th>\n",
       "      <th>1440</th>\n",
       "      <th>1441</th>\n",
       "      <th>1443</th>\n",
       "    </tr>\n",
       "    <tr>\n",
       "      <th>user_id</th>\n",
       "      <th></th>\n",
       "      <th></th>\n",
       "      <th></th>\n",
       "      <th></th>\n",
       "      <th></th>\n",
       "      <th></th>\n",
       "      <th></th>\n",
       "      <th></th>\n",
       "      <th></th>\n",
       "      <th></th>\n",
       "      <th></th>\n",
       "      <th></th>\n",
       "      <th></th>\n",
       "      <th></th>\n",
       "      <th></th>\n",
       "      <th></th>\n",
       "      <th></th>\n",
       "      <th></th>\n",
       "      <th></th>\n",
       "      <th></th>\n",
       "      <th></th>\n",
       "    </tr>\n",
       "  </thead>\n",
       "  <tbody>\n",
       "    <tr>\n",
       "      <th>2917</th>\n",
       "      <td>0.0</td>\n",
       "      <td>0.0</td>\n",
       "      <td>0.0</td>\n",
       "      <td>0.0</td>\n",
       "      <td>0.0</td>\n",
       "      <td>0.0</td>\n",
       "      <td>0.0</td>\n",
       "      <td>0.0</td>\n",
       "      <td>0.0</td>\n",
       "      <td>0.0</td>\n",
       "      <td>...</td>\n",
       "      <td>0.0</td>\n",
       "      <td>0.0</td>\n",
       "      <td>0.0</td>\n",
       "      <td>0.0</td>\n",
       "      <td>0.0</td>\n",
       "      <td>0.0</td>\n",
       "      <td>0.0</td>\n",
       "      <td>0.0</td>\n",
       "      <td>0.0</td>\n",
       "      <td>0.0</td>\n",
       "    </tr>\n",
       "    <tr>\n",
       "      <th>3024</th>\n",
       "      <td>0.0</td>\n",
       "      <td>0.0</td>\n",
       "      <td>0.0</td>\n",
       "      <td>0.0</td>\n",
       "      <td>0.0</td>\n",
       "      <td>1.0</td>\n",
       "      <td>0.0</td>\n",
       "      <td>0.0</td>\n",
       "      <td>0.0</td>\n",
       "      <td>0.0</td>\n",
       "      <td>...</td>\n",
       "      <td>0.0</td>\n",
       "      <td>0.0</td>\n",
       "      <td>0.0</td>\n",
       "      <td>0.0</td>\n",
       "      <td>0.0</td>\n",
       "      <td>0.0</td>\n",
       "      <td>0.0</td>\n",
       "      <td>0.0</td>\n",
       "      <td>0.0</td>\n",
       "      <td>0.0</td>\n",
       "    </tr>\n",
       "    <tr>\n",
       "      <th>3093</th>\n",
       "      <td>0.0</td>\n",
       "      <td>0.0</td>\n",
       "      <td>0.0</td>\n",
       "      <td>0.0</td>\n",
       "      <td>0.0</td>\n",
       "      <td>0.0</td>\n",
       "      <td>0.0</td>\n",
       "      <td>0.0</td>\n",
       "      <td>0.0</td>\n",
       "      <td>0.0</td>\n",
       "      <td>...</td>\n",
       "      <td>0.0</td>\n",
       "      <td>0.0</td>\n",
       "      <td>0.0</td>\n",
       "      <td>0.0</td>\n",
       "      <td>1.0</td>\n",
       "      <td>0.0</td>\n",
       "      <td>0.0</td>\n",
       "      <td>0.0</td>\n",
       "      <td>0.0</td>\n",
       "      <td>0.0</td>\n",
       "    </tr>\n",
       "    <tr>\n",
       "      <th>3193</th>\n",
       "      <td>0.0</td>\n",
       "      <td>0.0</td>\n",
       "      <td>0.0</td>\n",
       "      <td>0.0</td>\n",
       "      <td>0.0</td>\n",
       "      <td>0.0</td>\n",
       "      <td>0.0</td>\n",
       "      <td>0.0</td>\n",
       "      <td>0.0</td>\n",
       "      <td>0.0</td>\n",
       "      <td>...</td>\n",
       "      <td>0.0</td>\n",
       "      <td>0.0</td>\n",
       "      <td>0.0</td>\n",
       "      <td>0.0</td>\n",
       "      <td>0.0</td>\n",
       "      <td>0.0</td>\n",
       "      <td>0.0</td>\n",
       "      <td>0.0</td>\n",
       "      <td>0.0</td>\n",
       "      <td>0.0</td>\n",
       "    </tr>\n",
       "  </tbody>\n",
       "</table>\n",
       "<p>4 rows × 574 columns</p>\n",
       "</div>"
      ],
      "text/plain": [
       "article_id  0     2     4     8     9     12    14    15    16    18    ...  \\\n",
       "user_id                                                                 ...   \n",
       "2917         0.0   0.0   0.0   0.0   0.0   0.0   0.0   0.0   0.0   0.0  ...   \n",
       "3024         0.0   0.0   0.0   0.0   0.0   1.0   0.0   0.0   0.0   0.0  ...   \n",
       "3093         0.0   0.0   0.0   0.0   0.0   0.0   0.0   0.0   0.0   0.0  ...   \n",
       "3193         0.0   0.0   0.0   0.0   0.0   0.0   0.0   0.0   0.0   0.0  ...   \n",
       "\n",
       "article_id  1432  1433  1434  1435  1436  1437  1439  1440  1441  1443  \n",
       "user_id                                                                 \n",
       "2917         0.0   0.0   0.0   0.0   0.0   0.0   0.0   0.0   0.0   0.0  \n",
       "3024         0.0   0.0   0.0   0.0   0.0   0.0   0.0   0.0   0.0   0.0  \n",
       "3093         0.0   0.0   0.0   0.0   1.0   0.0   0.0   0.0   0.0   0.0  \n",
       "3193         0.0   0.0   0.0   0.0   0.0   0.0   0.0   0.0   0.0   0.0  \n",
       "\n",
       "[4 rows x 574 columns]"
      ]
     },
     "execution_count": 155,
     "metadata": {},
     "output_type": "execute_result"
    }
   ],
   "source": [
    "df_user_item_test.head(4)"
   ]
  },
  {
   "cell_type": "markdown",
   "metadata": {
    "id": "bByd-SlYS8If"
   },
   "source": [
    "Index (**rows**) for Users IDs"
   ]
  },
  {
   "cell_type": "code",
   "execution_count": 156,
   "metadata": {
    "colab": {
     "base_uri": "https://localhost:8080/"
    },
    "executionInfo": {
     "elapsed": 319,
     "status": "ok",
     "timestamp": 1637440054859,
     "user": {
      "displayName": "Eduardo Passeto",
      "photoUrl": "https://lh3.googleusercontent.com/a-/AOh14GjI6hyWqRLc_tvBbX89lELJagwb0PXyrM8cuapKGQ=s64",
      "userId": "17164463605285505900"
     },
     "user_tz": 180
    },
    "id": "PPLD0bgTSmEq",
    "outputId": "344236bb-e62c-4e9a-b16a-a1aa5e703bf7"
   },
   "outputs": [
    {
     "data": {
      "text/plain": [
       "array(['2917', '3024', '3093', '3193'], dtype=object)"
      ]
     },
     "execution_count": 156,
     "metadata": {},
     "output_type": "execute_result"
    }
   ],
   "source": [
    "df_user_item_test.index.values[:4]"
   ]
  },
  {
   "cell_type": "markdown",
   "metadata": {
    "id": "I67FvMrZTvG2"
   },
   "source": [
    "Columns (**columns**) for Articles IDs"
   ]
  },
  {
   "cell_type": "code",
   "execution_count": 157,
   "metadata": {
    "colab": {
     "base_uri": "https://localhost:8080/"
    },
    "executionInfo": {
     "elapsed": 322,
     "status": "ok",
     "timestamp": 1637440060770,
     "user": {
      "displayName": "Eduardo Passeto",
      "photoUrl": "https://lh3.googleusercontent.com/a-/AOh14GjI6hyWqRLc_tvBbX89lELJagwb0PXyrM8cuapKGQ=s64",
      "userId": "17164463605285505900"
     },
     "user_tz": 180
    },
    "id": "sOeK_8X1TVD7",
    "outputId": "b4860bf0-9eff-4664-89cd-90012ca55b4c"
   },
   "outputs": [
    {
     "data": {
      "text/plain": [
       "array([0, 2, 4, 8], dtype=int64)"
      ]
     },
     "execution_count": 157,
     "metadata": {},
     "output_type": "execute_result"
    }
   ],
   "source": [
    "df_user_item_test.columns.values[:4]"
   ]
  },
  {
   "cell_type": "markdown",
   "metadata": {
    "id": "6HCmxS15_oK8"
   },
   "source": [
    "So, we will start talking about **Users**\n",
    "\n",
    "- Users in our user_item Array are **rows**\n",
    "\n",
    "- and rows in Pandas Dataframe are named **index** (and a Pandas Dataframe when it have only **numeric values** is nothing more than a Numpy Array embellished with a good frame for columns and rows names)\n",
    "\n",
    "- first task, find Users in common, so it will be an **Intersection**"
   ]
  },
  {
   "cell_type": "code",
   "execution_count": 158,
   "metadata": {
    "colab": {
     "base_uri": "https://localhost:8080/"
    },
    "executionInfo": {
     "elapsed": 351,
     "status": "ok",
     "timestamp": 1637440066917,
     "user": {
      "displayName": "Eduardo Passeto",
      "photoUrl": "https://lh3.googleusercontent.com/a-/AOh14GjI6hyWqRLc_tvBbX89lELJagwb0PXyrM8cuapKGQ=s64",
      "userId": "17164463605285505900"
     },
     "user_tz": 180
    },
    "id": "CiJ4DKFEWsyF",
    "outputId": "c708b6b7-c151-40a3-f6be-3baa3b448a77"
   },
   "outputs": [
    {
     "data": {
      "text/plain": [
       "20"
      ]
     },
     "execution_count": 158,
     "metadata": {},
     "output_type": "execute_result"
    }
   ],
   "source": [
    "len(np.intersect1d(df_user_item_test.index.values, #Users in common\n",
    "                   df_user_item_train.index.values,#Users \n",
    "                   assume_unique=True))"
   ]
  },
  {
   "cell_type": "markdown",
   "metadata": {
    "id": "DCevUA0XAgn4"
   },
   "source": [
    "- second task, find Users that are different, and it will be an **Diff 1D**"
   ]
  },
  {
   "cell_type": "code",
   "execution_count": 159,
   "metadata": {
    "colab": {
     "base_uri": "https://localhost:8080/"
    },
    "executionInfo": {
     "elapsed": 294,
     "status": "ok",
     "timestamp": 1637439414657,
     "user": {
      "displayName": "Eduardo Passeto",
      "photoUrl": "https://lh3.googleusercontent.com/a-/AOh14GjI6hyWqRLc_tvBbX89lELJagwb0PXyrM8cuapKGQ=s64",
      "userId": "17164463605285505900"
     },
     "user_tz": 180
    },
    "id": "tVLFJDq-WuKI",
    "outputId": "5556a7c8-cd00-42dc-caa7-2e231ad7b425"
   },
   "outputs": [
    {
     "data": {
      "text/plain": [
       "662"
      ]
     },
     "execution_count": 159,
     "metadata": {},
     "output_type": "execute_result"
    }
   ],
   "source": [
    "len(np.setdiff1d(df_user_item_test.index.values, #Users that are different\n",
    "                 df_user_item_train.index.values,#Users\n",
    "                 assume_unique=True))"
   ]
  },
  {
   "cell_type": "markdown",
   "metadata": {
    "id": "QzJVUlH_BWWu"
   },
   "source": [
    "Then, about **Articles**\n",
    "\n",
    "- Articles in our user_item Array are **columns**\n",
    "\n",
    "- first task, find Articles in common, so it will be an **Intersection**"
   ]
  },
  {
   "cell_type": "code",
   "execution_count": 160,
   "metadata": {
    "colab": {
     "base_uri": "https://localhost:8080/"
    },
    "executionInfo": {
     "elapsed": 397,
     "status": "ok",
     "timestamp": 1637439418520,
     "user": {
      "displayName": "Eduardo Passeto",
      "photoUrl": "https://lh3.googleusercontent.com/a-/AOh14GjI6hyWqRLc_tvBbX89lELJagwb0PXyrM8cuapKGQ=s64",
      "userId": "17164463605285505900"
     },
     "user_tz": 180
    },
    "id": "mLA9lnjNWza3",
    "outputId": "dee37161-00f7-4aa3-cf69-75f75948ae96"
   },
   "outputs": [
    {
     "data": {
      "text/plain": [
       "574"
      ]
     },
     "execution_count": 160,
     "metadata": {},
     "output_type": "execute_result"
    }
   ],
   "source": [
    "len(np.intersect1d(df_user_item_test.columns.values, #Articles in common\n",
    "                   df_user_item_train.columns.values,#Articles\n",
    "                   assume_unique=True))"
   ]
  },
  {
   "cell_type": "markdown",
   "metadata": {
    "id": "NuE1w29mB2wX"
   },
   "source": [
    "- second task, find Articles that are different, and it will be an **Diff 1D**"
   ]
  },
  {
   "cell_type": "code",
   "execution_count": 161,
   "metadata": {
    "colab": {
     "base_uri": "https://localhost:8080/"
    },
    "executionInfo": {
     "elapsed": 287,
     "status": "ok",
     "timestamp": 1637439424006,
     "user": {
      "displayName": "Eduardo Passeto",
      "photoUrl": "https://lh3.googleusercontent.com/a-/AOh14GjI6hyWqRLc_tvBbX89lELJagwb0PXyrM8cuapKGQ=s64",
      "userId": "17164463605285505900"
     },
     "user_tz": 180
    },
    "id": "y3diQI9cW3V4",
    "outputId": "a4fa6da6-1584-4c91-b60f-4ce166c86593"
   },
   "outputs": [
    {
     "data": {
      "text/plain": [
       "0"
      ]
     },
     "execution_count": 161,
     "metadata": {},
     "output_type": "execute_result"
    }
   ],
   "source": [
    "len(np.setdiff1d(df_user_item_test.columns.values, #Articles thar are different\n",
    "                 df_user_item_train.columns.values,#Articles\n",
    "                 assume_unique=True))"
   ]
  },
  {
   "cell_type": "markdown",
   "metadata": {
    "id": "wAe0y-1pEGHu"
   },
   "source": [
    "Well, I need to give here a better **explanation**:   \n",
    "\n",
    "- first, SVD (**not** FunkSVD) only works if you have some kind of \"consistence\";\n",
    "\n",
    "- this \"consistense\" says that when you break an Array int its most **Basic** form, that is one series of **line** Vectors, one kind of **Identity** Array (not properly **Identity**, as it have parameters and not only one, so it is a **diagonal** Array) and finally another series of **column** Vectors, you need to follow some rules;\n",
    "\n",
    "- and the rule is \"there should be no **Null** vector anywhere\", so if you have in some place a **User** or **Item** with no parameters, SVD will **not** work!\n",
    "\n",
    "When we were dealing with our **whole** user-item Array, this \"consistence\" had a kind of a \"magic\" garantee:    \n",
    "\n",
    "- as it came from a **intermediary** Dataframe (or in SQL language, a **Table**) from a Database;\n",
    "\n",
    "- the only reasont for an item to be in a intermediary Dataframe is to relate one item from one Table, with one item from the other Table, so creating a **n:m** relationship;\n",
    "\n",
    "- to the \"consistence\" necessary for SVD was ensured by the **data structure**.\n",
    "\n",
    "What happens when we break this dataframe in two? There is no more garantee:    \n",
    "\n",
    "- now, with some **luck**, it will not break;\n",
    "\n",
    "- sometimes it could break for **User**;\n",
    "\n",
    "- othertimes it could break for **Items**.\n",
    "\n",
    "Sorry for all this text, I made it only for organizing my ideas over this project!\n"
   ]
  },
  {
   "cell_type": "code",
   "execution_count": 162,
   "metadata": {
    "colab": {
     "base_uri": "https://localhost:8080/"
    },
    "executionInfo": {
     "elapsed": 297,
     "status": "ok",
     "timestamp": 1637439429470,
     "user": {
      "displayName": "Eduardo Passeto",
      "photoUrl": "https://lh3.googleusercontent.com/a-/AOh14GjI6hyWqRLc_tvBbX89lELJagwb0PXyrM8cuapKGQ=s64",
      "userId": "17164463605285505900"
     },
     "user_tz": 180
    },
    "id": "svVt4rj90sP7",
    "outputId": "1fabc508-b788-49e2-d1ec-6e6e710cfe73"
   },
   "outputs": [
    {
     "name": "stdout",
     "output_type": "stream",
     "text": [
      "Awesome job!  That's right!  All of the test movies are in the training data, but there are only 20 test users that were also in the training set.  All of the other users that are in the test set we have no data on.  Therefore, we cannot make predictions for these users using SVD.\n"
     ]
    }
   ],
   "source": [
    "# Replace the values in the dictionary below\n",
    "a = 662 \n",
    "b = 574 \n",
    "c = 20 \n",
    "d = 0 \n",
    "\n",
    "sol_4_dict = {\n",
    "    'How many users can we make predictions for in the test set?': c, \n",
    "    'How many users in the test set are we not able to make predictions for because of the cold start problem?': a, \n",
    "    'How many movies can we make predictions for in the test set?': b,\n",
    "    'How many movies in the test set are we not able to make predictions for because of the cold start problem?': d\n",
    "} #articles\n",
    "\n",
    "t.sol_4_test(sol_4_dict)"
   ]
  },
  {
   "cell_type": "markdown",
   "metadata": {
    "id": "YNC2-_jt0sP7"
   },
   "source": [
    "`5.` Now use the **user_item_train** dataset from above to find U, S, and V transpose using SVD. Then find the subset of rows in the **user_item_test** dataset that you can predict using this matrix decomposition with different numbers of latent features to see how many features makes sense to keep based on the accuracy on the test data. This will require combining what was done in questions `2` - `4`.\n",
    "\n",
    "Use the cells below to explore how well SVD works towards making predictions for recommendations on the test data.  "
   ]
  },
  {
   "cell_type": "code",
   "execution_count": 163,
   "metadata": {
    "colab": {
     "base_uri": "https://localhost:8080/",
     "height": 253
    },
    "executionInfo": {
     "elapsed": 322,
     "status": "ok",
     "timestamp": 1637440076722,
     "user": {
      "displayName": "Eduardo Passeto",
      "photoUrl": "https://lh3.googleusercontent.com/a-/AOh14GjI6hyWqRLc_tvBbX89lELJagwb0PXyrM8cuapKGQ=s64",
      "userId": "17164463605285505900"
     },
     "user_tz": 180
    },
    "id": "tYKia9V8Xkhd",
    "outputId": "0ae85f22-8aaa-4a10-d4bc-00c58211ca38"
   },
   "outputs": [
    {
     "data": {
      "text/html": [
       "<div>\n",
       "<style scoped>\n",
       "    .dataframe tbody tr th:only-of-type {\n",
       "        vertical-align: middle;\n",
       "    }\n",
       "\n",
       "    .dataframe tbody tr th {\n",
       "        vertical-align: top;\n",
       "    }\n",
       "\n",
       "    .dataframe thead th {\n",
       "        text-align: right;\n",
       "    }\n",
       "</style>\n",
       "<table border=\"1\" class=\"dataframe\">\n",
       "  <thead>\n",
       "    <tr style=\"text-align: right;\">\n",
       "      <th>article_id</th>\n",
       "      <th>0</th>\n",
       "      <th>2</th>\n",
       "      <th>4</th>\n",
       "      <th>8</th>\n",
       "      <th>9</th>\n",
       "      <th>12</th>\n",
       "      <th>14</th>\n",
       "      <th>15</th>\n",
       "      <th>16</th>\n",
       "      <th>18</th>\n",
       "      <th>...</th>\n",
       "      <th>1434</th>\n",
       "      <th>1435</th>\n",
       "      <th>1436</th>\n",
       "      <th>1437</th>\n",
       "      <th>1439</th>\n",
       "      <th>1440</th>\n",
       "      <th>1441</th>\n",
       "      <th>1442</th>\n",
       "      <th>1443</th>\n",
       "      <th>1444</th>\n",
       "    </tr>\n",
       "    <tr>\n",
       "      <th>user_id</th>\n",
       "      <th></th>\n",
       "      <th></th>\n",
       "      <th></th>\n",
       "      <th></th>\n",
       "      <th></th>\n",
       "      <th></th>\n",
       "      <th></th>\n",
       "      <th></th>\n",
       "      <th></th>\n",
       "      <th></th>\n",
       "      <th></th>\n",
       "      <th></th>\n",
       "      <th></th>\n",
       "      <th></th>\n",
       "      <th></th>\n",
       "      <th></th>\n",
       "      <th></th>\n",
       "      <th></th>\n",
       "      <th></th>\n",
       "      <th></th>\n",
       "      <th></th>\n",
       "    </tr>\n",
       "  </thead>\n",
       "  <tbody>\n",
       "    <tr>\n",
       "      <th>1</th>\n",
       "      <td>0.0</td>\n",
       "      <td>0.0</td>\n",
       "      <td>0.0</td>\n",
       "      <td>0.0</td>\n",
       "      <td>0.0</td>\n",
       "      <td>0.0</td>\n",
       "      <td>0.0</td>\n",
       "      <td>0.0</td>\n",
       "      <td>0.0</td>\n",
       "      <td>0.0</td>\n",
       "      <td>...</td>\n",
       "      <td>0.0</td>\n",
       "      <td>0.0</td>\n",
       "      <td>1.0</td>\n",
       "      <td>0.0</td>\n",
       "      <td>1.0</td>\n",
       "      <td>0.0</td>\n",
       "      <td>0.0</td>\n",
       "      <td>0.0</td>\n",
       "      <td>0.0</td>\n",
       "      <td>0.0</td>\n",
       "    </tr>\n",
       "    <tr>\n",
       "      <th>10</th>\n",
       "      <td>0.0</td>\n",
       "      <td>0.0</td>\n",
       "      <td>0.0</td>\n",
       "      <td>0.0</td>\n",
       "      <td>0.0</td>\n",
       "      <td>0.0</td>\n",
       "      <td>0.0</td>\n",
       "      <td>0.0</td>\n",
       "      <td>0.0</td>\n",
       "      <td>0.0</td>\n",
       "      <td>...</td>\n",
       "      <td>0.0</td>\n",
       "      <td>0.0</td>\n",
       "      <td>0.0</td>\n",
       "      <td>0.0</td>\n",
       "      <td>0.0</td>\n",
       "      <td>0.0</td>\n",
       "      <td>0.0</td>\n",
       "      <td>0.0</td>\n",
       "      <td>0.0</td>\n",
       "      <td>0.0</td>\n",
       "    </tr>\n",
       "    <tr>\n",
       "      <th>100</th>\n",
       "      <td>0.0</td>\n",
       "      <td>0.0</td>\n",
       "      <td>0.0</td>\n",
       "      <td>0.0</td>\n",
       "      <td>0.0</td>\n",
       "      <td>0.0</td>\n",
       "      <td>0.0</td>\n",
       "      <td>0.0</td>\n",
       "      <td>0.0</td>\n",
       "      <td>0.0</td>\n",
       "      <td>...</td>\n",
       "      <td>0.0</td>\n",
       "      <td>0.0</td>\n",
       "      <td>0.0</td>\n",
       "      <td>0.0</td>\n",
       "      <td>0.0</td>\n",
       "      <td>0.0</td>\n",
       "      <td>0.0</td>\n",
       "      <td>0.0</td>\n",
       "      <td>0.0</td>\n",
       "      <td>0.0</td>\n",
       "    </tr>\n",
       "    <tr>\n",
       "      <th>1000</th>\n",
       "      <td>0.0</td>\n",
       "      <td>0.0</td>\n",
       "      <td>0.0</td>\n",
       "      <td>0.0</td>\n",
       "      <td>0.0</td>\n",
       "      <td>0.0</td>\n",
       "      <td>0.0</td>\n",
       "      <td>0.0</td>\n",
       "      <td>0.0</td>\n",
       "      <td>0.0</td>\n",
       "      <td>...</td>\n",
       "      <td>0.0</td>\n",
       "      <td>0.0</td>\n",
       "      <td>0.0</td>\n",
       "      <td>0.0</td>\n",
       "      <td>0.0</td>\n",
       "      <td>0.0</td>\n",
       "      <td>0.0</td>\n",
       "      <td>0.0</td>\n",
       "      <td>0.0</td>\n",
       "      <td>0.0</td>\n",
       "    </tr>\n",
       "  </tbody>\n",
       "</table>\n",
       "<p>4 rows × 714 columns</p>\n",
       "</div>"
      ],
      "text/plain": [
       "article_id  0     2     4     8     9     12    14    15    16    18    ...  \\\n",
       "user_id                                                                 ...   \n",
       "1            0.0   0.0   0.0   0.0   0.0   0.0   0.0   0.0   0.0   0.0  ...   \n",
       "10           0.0   0.0   0.0   0.0   0.0   0.0   0.0   0.0   0.0   0.0  ...   \n",
       "100          0.0   0.0   0.0   0.0   0.0   0.0   0.0   0.0   0.0   0.0  ...   \n",
       "1000         0.0   0.0   0.0   0.0   0.0   0.0   0.0   0.0   0.0   0.0  ...   \n",
       "\n",
       "article_id  1434  1435  1436  1437  1439  1440  1441  1442  1443  1444  \n",
       "user_id                                                                 \n",
       "1            0.0   0.0   1.0   0.0   1.0   0.0   0.0   0.0   0.0   0.0  \n",
       "10           0.0   0.0   0.0   0.0   0.0   0.0   0.0   0.0   0.0   0.0  \n",
       "100          0.0   0.0   0.0   0.0   0.0   0.0   0.0   0.0   0.0   0.0  \n",
       "1000         0.0   0.0   0.0   0.0   0.0   0.0   0.0   0.0   0.0   0.0  \n",
       "\n",
       "[4 rows x 714 columns]"
      ]
     },
     "execution_count": 163,
     "metadata": {},
     "output_type": "execute_result"
    }
   ],
   "source": [
    "df_user_item_train.head(4)"
   ]
  },
  {
   "cell_type": "code",
   "execution_count": 164,
   "metadata": {
    "colab": {
     "base_uri": "https://localhost:8080/"
    },
    "executionInfo": {
     "elapsed": 5182,
     "status": "ok",
     "timestamp": 1637439478436,
     "user": {
      "displayName": "Eduardo Passeto",
      "photoUrl": "https://lh3.googleusercontent.com/a-/AOh14GjI6hyWqRLc_tvBbX89lELJagwb0PXyrM8cuapKGQ=s64",
      "userId": "17164463605285505900"
     },
     "user_tz": 180
    },
    "id": "4VidO_zbXzSl",
    "outputId": "b465c2a2-45b2-4902-a970-06d48895a2a1"
   },
   "outputs": [
    {
     "name": "stdout",
     "output_type": "stream",
     "text": [
      "elapsed time: 12.5892s\n"
     ]
    },
    {
     "data": {
      "text/plain": [
       "((4487, 4487), (714,), (714, 714))"
      ]
     },
     "execution_count": 164,
     "metadata": {},
     "output_type": "execute_result"
    }
   ],
   "source": [
    "# Use these cells to see how well you can use the training \n",
    "# decomposition to predict on test data\n",
    "start = time()\n",
    "u_train, s_train, vt_train =  np.linalg.svd(df_user_item_train)\n",
    "end = time()\n",
    "print('elapsed time: {:.4f}s'.format(end-start))\n",
    "\n",
    "u_train.shape, s_train.shape, vt_train.shape"
   ]
  },
  {
   "cell_type": "code",
   "execution_count": 165,
   "metadata": {
    "colab": {
     "base_uri": "https://localhost:8080/"
    },
    "executionInfo": {
     "elapsed": 341,
     "status": "ok",
     "timestamp": 1637439484287,
     "user": {
      "displayName": "Eduardo Passeto",
      "photoUrl": "https://lh3.googleusercontent.com/a-/AOh14GjI6hyWqRLc_tvBbX89lELJagwb0PXyrM8cuapKGQ=s64",
      "userId": "17164463605285505900"
     },
     "user_tz": 180
    },
    "id": "n84cJCB6X_nX",
    "outputId": "c9c4d704-92a5-4495-9b9f-5b0de908b2fd"
   },
   "outputs": [
    {
     "name": "stdout",
     "output_type": "stream",
     "text": [
      "elapsed time: 0.8505s\n"
     ]
    },
    {
     "data": {
      "text/plain": [
       "((682, 682), (574, 574))"
      ]
     },
     "execution_count": 165,
     "metadata": {},
     "output_type": "execute_result"
    }
   ],
   "source": [
    "start = time()\n",
    "u_test, s_test, vt_test =  np.linalg.svd(df_user_item_test)\n",
    "end = time()\n",
    "print('elapsed time: {:.4f}s'.format(end-start))\n",
    "\n",
    "u_test.shape, vt_test.shape"
   ]
  },
  {
   "cell_type": "code",
   "execution_count": 166,
   "metadata": {
    "colab": {
     "base_uri": "https://localhost:8080/"
    },
    "executionInfo": {
     "elapsed": 298,
     "status": "ok",
     "timestamp": 1637439488532,
     "user": {
      "displayName": "Eduardo Passeto",
      "photoUrl": "https://lh3.googleusercontent.com/a-/AOh14GjI6hyWqRLc_tvBbX89lELJagwb0PXyrM8cuapKGQ=s64",
      "userId": "17164463605285505900"
     },
     "user_tz": 180
    },
    "id": "i7A6QZAEYJLO",
    "outputId": "49ed86cd-ffbb-4cb2-cb06-5fdac09df847"
   },
   "outputs": [
    {
     "data": {
      "text/plain": [
       "20"
      ]
     },
     "execution_count": 166,
     "metadata": {},
     "output_type": "execute_result"
    }
   ],
   "source": [
    "sr_train_id = df_user_item_train.index\n",
    "sr_test_id = df_user_item_test.index\n",
    "\n",
    "comm_id = list(set(sr_train_id) & set(sr_test_id))\n",
    "df_user_item_test = df_user_item_test.loc[comm_id]\n",
    "df_user_item_test.shape[0]"
   ]
  },
  {
   "cell_type": "code",
   "execution_count": 167,
   "metadata": {
    "colab": {
     "base_uri": "https://localhost:8080/"
    },
    "executionInfo": {
     "elapsed": 17,
     "status": "ok",
     "timestamp": 1637439489449,
     "user": {
      "displayName": "Eduardo Passeto",
      "photoUrl": "https://lh3.googleusercontent.com/a-/AOh14GjI6hyWqRLc_tvBbX89lELJagwb0PXyrM8cuapKGQ=s64",
      "userId": "17164463605285505900"
     },
     "user_tz": 180
    },
    "id": "D4MidjNkYOLB",
    "outputId": "91526d81-b11f-4f16-fb31-04c3627486ff"
   },
   "outputs": [
    {
     "data": {
      "text/plain": [
       "(20, 574)"
      ]
     },
     "execution_count": 167,
     "metadata": {},
     "output_type": "execute_result"
    }
   ],
   "source": [
    "df_user_item_test.shape"
   ]
  },
  {
   "cell_type": "markdown",
   "metadata": {
    "id": "TeXyOVJaQ8dW"
   },
   "source": [
    "Original curve:"
   ]
  },
  {
   "cell_type": "code",
   "execution_count": 168,
   "metadata": {
    "colab": {
     "base_uri": "https://localhost:8080/"
    },
    "executionInfo": {
     "elapsed": 1660,
     "status": "ok",
     "timestamp": 1637439658940,
     "user": {
      "displayName": "Eduardo Passeto",
      "photoUrl": "https://lh3.googleusercontent.com/a-/AOh14GjI6hyWqRLc_tvBbX89lELJagwb0PXyrM8cuapKGQ=s64",
      "userId": "17164463605285505900"
     },
     "user_tz": 180
    },
    "id": "2BuUYsSrQMBb",
    "outputId": "f09c2cd5-2d57-4d8b-f4e0-d97c575e6752"
   },
   "outputs": [
    {
     "name": "stdout",
     "output_type": "stream",
     "text": [
      "###function create test and train user-item started\n",
      "original dataset: 45993 x 2\n",
      "###function create user item matrix started\n",
      "user matrix has 4487 users (rows) and 714 articles (columns)\n",
      "elapsed time: 3.2730s\n",
      "###function create user item matrix started\n",
      "user matrix has 682 users (rows) and 574 articles (columns)\n",
      "elapsed time: 0.8245s\n",
      "dataset sizes - train: 40000 x 2, test: 5993 x 2\n",
      "elapsed time: 4.1055s\n"
     ]
    }
   ],
   "source": [
    "df_user_item_train, df_user_item_test, sr_test_id, sr_test_art =\\\n",
    "udc3.fn_create_test_and_train_user_item(\n",
    "    df=df_inter_enc, \n",
    "    train_size=40000,\n",
    "    verbose=True\n",
    ")"
   ]
  },
  {
   "cell_type": "code",
   "execution_count": 169,
   "metadata": {
    "id": "6dXs8rRjCtT6"
   },
   "outputs": [],
   "source": [
    "#########1#########2#########3#########4#########5#########6#########7#########8\n",
    "def fn_svd_latent(df_user_item,\n",
    "                  ls_latent_feat,\n",
    "                  validate=False,\n",
    "                  df_test=None,\n",
    "                  verbose=False):\n",
    "    '''This function iterates latent features for SVD Arrays.\n",
    "\n",
    "    New version: implemented Train feature. So the function was adapted in a way\n",
    "    that it will not affect his original behavior. Now it is possible to plot\n",
    "    graphs for model validation;\n",
    "\n",
    "    The code here presented is strongly based on the Udacity Jupyter Notebook\n",
    "    Recommendations wit IBM, and is part of the learning exercise, necessary to\n",
    "    complete the third project of Data Scientist course. It was conceived as a\n",
    "    learning guide for students who wants to go deeper in Python/Pandas.\n",
    "\n",
    "    Inputs:\n",
    "      - df_user_item (mandatory) - dataframe ind user-item for making the\n",
    "        copycat model and compare to the original\n",
    "      - ls_latent_feat (mandatory) - a list of latent features sizes to be \n",
    "        simulated (List)\n",
    "      - validate (optional) - if you will be validating, set it as True -\n",
    "        (Boolean, default=False) \n",
    "      - verbose (optional) - if you want some verbosity in your function -\n",
    "        (Boolean, default=False)\n",
    "    Outputs:\n",
    "      - sum_err - a list of summation errors for each step of the simulation\n",
    "      - s_new - the intermediary diagonal matrix (for future validation, with\n",
    "        new data)\n",
    "    '''\n",
    "    start = time()\n",
    "\n",
    "    if verbose:\n",
    "        print('###function SVD latent started')\n",
    "\n",
    "    #Making the SVD on the User-Item array\n",
    "    #decomposing the Array to his basic elements\n",
    "    #(two Autovectors and one fundamental parameter in a Diagonal Array)\n",
    "    u, s, vt =  np.linalg.svd(df_user_item)\n",
    "    sum_err = []\n",
    "\n",
    "    if validate:\n",
    "        if verbose:\n",
    "            print ('*validation behavior started')\n",
    "\n",
    "        #step zero (preparation)\n",
    "        sum_test = []\n",
    "        sr_main_id = df_user_item.index #now user-item will be our Train data\n",
    "        sr_test_id = df_test.index\n",
    "        sr_test_art = df_test.columns.values\n",
    "\n",
    "        comm_id = list(set(sr_main_id) & set(sr_test_id)) #users in common\n",
    "        comm_col = df_user_item.columns.intersection(sr_test_art)\n",
    "\n",
    "        main_comm_id = df_user_item.index.isin(sr_test_id)\n",
    "        main_comm_col = df_user_item.columns.isin(sr_test_art)\n",
    "\n",
    "        u_test = u[main_comm_id, :]\n",
    "        vt_test= vt[:, main_comm_col]\n",
    "        \n",
    "        for k in ls_latent_feat: #more explanations on normal behavior    \n",
    "            u_main, s_main, vt_main = u[:, :k], np.diag(s[:k]), vt[:k, :]\n",
    "            #only two to chop, as Test uses main parameter learned from Train \n",
    "            u_val, vt_val = u_test[:, :k], vt_test[:k, :]\n",
    "\n",
    "            #1.creating model estimates\n",
    "            df_user_item_main = np.around(np.dot(np.dot(u_main, s_main), \n",
    "                                         vt_main))\n",
    "            df_user_item_val = np.around(np.dot(np.dot(u_val, s_main), \n",
    "                                         vt_val))\n",
    "            \n",
    "            #2.taking the differences between actual and modellized\n",
    "            diff_main = np.subtract(df_user_item, \n",
    "                                    df_user_item_main)\n",
    "            diff_val = np.subtract(df_test.loc[comm_id, :],\n",
    "                                   df_user_item_val) #predicted user_item\n",
    "\n",
    "            err_main = np.sum(np.sum(np.abs(diff_main)))\n",
    "            err_val = np.sum(np.sum(np.abs(diff_val)))\n",
    "            #print('*err {} err test {}'.format(err_main, err_val))\n",
    "            #take errors for each simulation cicle\n",
    "            sum_err.append(err_main)\n",
    "            sum_test.append(err_val)\n",
    "\n",
    "        end=time()\n",
    "        if verbose:\n",
    "            print('time to process: {:.4f}s'.format(end-start))\n",
    "\n",
    "        return sum_err, sum_test, comm_id\n",
    "\n",
    "    else:\n",
    "        if verbose:\n",
    "            print ('*normal behavior started')\n",
    "\n",
    "        for k in ls_latent_feat: #test for diverse parameters\n",
    "            #restructure, rebuilding with k latent features\n",
    "            #u[:, :k] <-this guy is an Array and rows will be shortened to k\n",
    "            #s[:k]<-is a vector (representing a diagonal Array), will be \n",
    "            #       chopped in both directions\n",
    "            #vt[:k, :] <-this one is an Array will be chopped to k lines\n",
    "            #the idea is to reduce dimensionallity\n",
    "            #less explanatory equations for the model, trying to NOT map noise\n",
    "            u_new, s_new, vt_new = u[:, :k], np.diag(s[:k]), vt[:k, :]    \n",
    "    \n",
    "            #make the dot product between its components, rebuild user_item\n",
    "            #a similar Array, following the rules of our reduced model\n",
    "            df_user_item_est = np.around(np.dot(np.dot(u_new, s_new), vt_new))\n",
    "    \n",
    "            #compute the error for each prediction to actual value\n",
    "            #takes user-item array and subtrat from it the estimated user-item\n",
    "            #this gives us an idea of the total error that we are impetrating by \n",
    "            #using a model, instead of raw data\n",
    "            diffs = np.subtract(df_user_item, df_user_item_est)\n",
    "    \n",
    "            #total errors and keep track of them\n",
    "            #sum the modules for both dimmensions\n",
    "            err = np.sum(np.sum(np.abs(diffs)))\n",
    "            #append them in a list, for plotting the graph (Y-axis)\n",
    "            sum_err.append(err)\n",
    "\n",
    "        end=time()\n",
    "        if verbose:\n",
    "            print('time to process: {:.4f}s'.format(end-start))\n",
    "\n",
    "        return sum_err"
   ]
  },
  {
   "cell_type": "markdown",
   "metadata": {
    "id": "HpOd0GHPYpkZ"
   },
   "source": [
    "function `fn_svd_client` created!"
   ]
  },
  {
   "cell_type": "code",
   "execution_count": 170,
   "metadata": {
    "id": "0-ixq8KrxLmd"
   },
   "outputs": [],
   "source": [
    "#########1#########2#########3#########4#########5#########6#########7#########8\n",
    "def fn_svd_plot (df_user_item,\n",
    "                 lat_start=10,\n",
    "                 lat_stop=710,\n",
    "                 lat_step=20,\n",
    "                 df_test=None,\n",
    "                 validate=False,\n",
    "                 plot=False,\n",
    "                 verbose=False):\n",
    "    '''This function works as a toolkit for plotting/validating SVD Arrays.\n",
    "\n",
    "    The code here presented is strongly based on the Udacity Jupyter Notebook\n",
    "    Recommendations wit IBM, and is part of the learning exercise, necessary to\n",
    "    complete the third project of Data Scientist course. It was conceived as a\n",
    "    learning guide for students who wants to go deeper in Python/Pandas.\n",
    "\n",
    "    Inputs:\n",
    "      - df_user_item (mandatory) - an Array in the shape of User-Item (Pandas\n",
    "        Dataframe)\n",
    "      - latent parameters (optional) - defining (start, stop, step) for the\n",
    "        size of latent features to be measured in each step\n",
    "        (default: (10,710,20))\n",
    "        *if you want to simulate starting from less than 10 latent, please \n",
    "         alter lat_start parameter\n",
    "        *if you want a shorter/longer, alter lat_stop\n",
    "        *if you need more or less graining, ater lat_step\n",
    "      - validate (optional) - if you are doing a validation, please, inform\n",
    "        the second dataframe (df_test) - (default=False)\n",
    "      - plot (optional) - if you want to plot the graph (default=False)\n",
    "      - verbose (optional) - if you want some verbosity in your function -\n",
    "        (Boolean, default=False)\n",
    "    Output:\n",
    "      - a plotted graphic with the results\n",
    "    '''\n",
    "    start = time()\n",
    "\n",
    "    if verbose:\n",
    "        print('###function SVD plot toolkit started')\n",
    "\n",
    "    #step zero - preparation    \n",
    "    #for simulating different choices on latent features\n",
    "    ls_latent_feat = np.arange(lat_start,\n",
    "                               lat_stop,\n",
    "                               lat_step) #start, stop, step (X-axis)\n",
    "    if validate:\n",
    "        sum_err, sum_test, comm_id = fn_svd_latent(\n",
    "                                          df_user_item,\n",
    "                                          ls_latent_feat=ls_latent_feat,\n",
    "                                          validate=True,\n",
    "                                          df_test=df_test,\n",
    "                                          verbose=verbose\n",
    "    )\n",
    "    else:    \n",
    "        sum_err = fn_svd_latent(\n",
    "                      df_user_item,\n",
    "                      ls_latent_feat=ls_latent_feat,\n",
    "                      validate=False,\n",
    "                      verbose=verbose\n",
    "    )\n",
    "    if plot:\n",
    "        #determination of the normalization factior for only one curve\n",
    "        item_num = df_user_item.sum().sum() #get the number of valid items\n",
    "      \n",
    "        if validate:\n",
    "            #determination of the normalization factor for both curves\n",
    "            #this part is very tricky, because I need to normallize the sum of\n",
    "            #errors by ne number of elements. And what is that number?\n",
    "            #so, for train, I took the total number of users and multiplied it\n",
    "            #by a factor that says the total number of \n",
    "            item_num_add = df_test.sum().sum() #complete the number of valids\n",
    "            tot_item = item_num + item_num_add #new valid items total\n",
    "            tot_row = df_user_item.shape[0] + df_test.shape[0] #total users\n",
    "            item_num = df_user_item.shape[0] * (tot_item/tot_row)\n",
    "            #this part is really tricky, as we are dealing with only a group of\n",
    "            #selected, most active users (20 with this dataset). So, how to find\n",
    "            #a reasonable metric?\n",
    "            #my old metric don´t gave me a fair result, let´s try another idea \n",
    "            #item_num_test = df_test.shape[0] * (tot_item/tot_row)\n",
    "            #the idea is that the population from Test cames from only 20 Users\n",
    "            #and what is the population? The total of items consumed from our\n",
    "            #original user_item dataframe, so:\n",
    "            item1 = df_user_item_train.loc[comm_id].sum().sum()\n",
    "            item2 = df_user_item_test.loc[comm_id].sum().sum()\n",
    "            item_num_test = item1 + item2\n",
    "        \n",
    "        sim_val = 1 - np.array(sum_err) / item_num #simulated values\n",
    "\n",
    "        if verbose:\n",
    "            print('*plotting for {:.0f} items'.format(item_num))\n",
    "\n",
    "        fig, ax = plt.subplots(figsize=(9, 5))\n",
    "        ax.plot(ls_latent_feat, \n",
    "                sim_val, \n",
    "                color='blue', \n",
    "                label='train')\n",
    "\n",
    "        if validate:\n",
    "            if verbose:\n",
    "                print('plotting test for {:.0f} items'.format(item_num_test))\n",
    "\n",
    "            sim_val2 = 1 - np.array(sum_test) / item_num_test\n",
    "            ax.plot(ls_latent_feat, \n",
    "                    sim_val2, \n",
    "                    color='red',\n",
    "                    label='test')\n",
    "            ax.vlines(x=245, \n",
    "                      ymin=0, \n",
    "                      ymax=1, \n",
    "                      colors='green', \n",
    "                      linestyles='dashed', \n",
    "                      label='best fitting')\n",
    "\n",
    "        ax.legend(loc='best')\n",
    "        ax.set_xlabel('Latent Features')\n",
    "        ax.set_ylabel('Accuracy')\n",
    "        ax.set_title('Accuracy vs Latent Features');\n",
    " \n",
    "    end=time()\n",
    "    print('time to process: {:.4f}s'.format(end-start))\n",
    "\n",
    "    return True"
   ]
  },
  {
   "cell_type": "markdown",
   "metadata": {
    "id": "wyUx5OKLZFg8"
   },
   "source": [
    "function `fn_svd_plot` created!\n",
    "\n",
    "Important observation about this graph:\n",
    "\n",
    "- it is not **accurate** about the behavior of **Test** data, so it can be used only for illustrative purposes;\n",
    "\n",
    "- it takes account of all Users into **Test** dataset, that is not real. The problem is almost these Users were **excluded** from the analysis, due to the problem of **Cold Start Problem** (in fact only 20 Users were saved for testing);\n",
    "\n",
    "- so this graph is **too optimistic** about the problem of **degradation** on Test, when you take so much **latent parameters**."
   ]
  },
  {
   "cell_type": "code",
   "execution_count": 171,
   "metadata": {
    "colab": {
     "base_uri": "https://localhost:8080/",
     "height": 469
    },
    "executionInfo": {
     "elapsed": 12457,
     "status": "ok",
     "timestamp": 1637455656982,
     "user": {
      "displayName": "Eduardo Passeto",
      "photoUrl": "https://lh3.googleusercontent.com/a-/AOh14GjI6hyWqRLc_tvBbX89lELJagwb0PXyrM8cuapKGQ=s64",
      "userId": "17164463605285505900"
     },
     "user_tz": 180
    },
    "id": "E7QLxHAqGlYZ",
    "outputId": "7dc90d45-dd4d-4e58-8bd0-cc2458d357b2"
   },
   "outputs": [
    {
     "name": "stdout",
     "output_type": "stream",
     "text": [
      "###function SVD plot toolkit started\n",
      "###function SVD latent started\n",
      "*validation behavior started\n",
      "time to process: 41.7303s\n",
      "*plotting for 29261 items\n",
      "*plotting test for 890 items\n",
      "time to process: 41.8692s\n"
     ]
    },
    {
     "data": {
      "image/png": "[encoded data removed]",
      "text/plain": [
       "<Figure size 648x360 with 1 Axes>"
      ]
     },
     "metadata": {
      "needs_background": "light"
     },
     "output_type": "display_data"
    }
   ],
   "source": [
    "plot= udc3.fn_svd_plot(\n",
    "    df_user_item=df_user_item_train,\n",
    "    lat_start=40,\n",
    "    lat_stop=720,\n",
    "    lat_step=20,\n",
    "    df_test=df_user_item_test,\n",
    "    validate=True,\n",
    "    plot=True,\n",
    "    verbose=True\n",
    ")"
   ]
  },
  {
   "cell_type": "code",
   "execution_count": 172,
   "metadata": {
    "colab": {
     "base_uri": "https://localhost:8080/",
     "height": 231
    },
    "executionInfo": {
     "elapsed": 27,
     "status": "error",
     "timestamp": 1637498874557,
     "user": {
      "displayName": "Eduardo Passeto",
      "photoUrl": "https://lh3.googleusercontent.com/a-/AOh14GjI6hyWqRLc_tvBbX89lELJagwb0PXyrM8cuapKGQ=s64",
      "userId": "17164463605285505900"
     },
     "user_tz": 180
    },
    "id": "FmhlocT-ca0E",
    "outputId": "498230d6-a235-4198-8f9b-8df02220b2ac"
   },
   "outputs": [
    {
     "name": "stdout",
     "output_type": "stream",
     "text": [
      "items for train: 29261, for test: 4448\n"
     ]
    }
   ],
   "source": [
    "tot_usr = df_user_item_train.shape[0] + df_user_item_test.shape[0]\n",
    "tot_item = df_user_item_train.sum().sum() + df_user_item_test.sum().sum()\n",
    "train_rel = df_user_item_train.shape[0] / tot_usr\n",
    "test_rel = df_user_item_test.shape[0] / tot_usr\n",
    "item_train = tot_item * train_rel\n",
    "item_test = tot_item * test_rel\n",
    "print('items for train: {:.0f}, for test: {:.0f}'.format(item_train, item_test))"
   ]
  },
  {
   "cell_type": "markdown",
   "metadata": {
    "collapsed": true,
    "id": "9zuYGV_t0sP8"
   },
   "source": [
    "`6.` Use the cell below to comment on the results you found in the previous question. Given the circumstances of your results, discuss what you might do to determine if the recommendations you make with any of the above recommendation systems are an improvement to how users currently find articles? "
   ]
  },
  {
   "cell_type": "markdown",
   "metadata": {
    "id": "Ezt5U8mW0sP8"
   },
   "source": [
    "Features decrease their **explanatory power**, as you add more and more of them.\n",
    "\n",
    "The mechanics are quite simple. In this case have two sets of data, taken by alleatory from the **same** mother dataset. It could be quite different. For example, I want to create a **mathematical model** for explaining some kind of phenomenam, that is quite complex.\n",
    "\n",
    "When we don't have any equation, the explanatory power of my whole model is **zero**. That means that I am completely blind. When I add my first equation, things start to change a bit.\n",
    "\n",
    "My first equation adds a lot of explanatory power, whithout adding too much noise. So, from **0.5** Accuracy (only by chance I can correctly explain **50%** of a binary phenomenon), and with only one my **first** equation, I jump to near to **90%** of explanatory power.\n",
    "\n",
    "Adding the second equation, I increase the complexity of my mathematical model, and also the explanatory power of my model. And so on. And in some cases, with only like 5-10 equations, I reach the best explanatory power of my **whole model**. So, adding more equations, I am only fitting more **noise** from my training dataset.\n",
    "\n",
    "This can be seen when my model fits so well with my **train** data, but when I try to use it with my **test** data, things don't go so well! This phenomenon is named **overfitting**.\n",
    "\n",
    "If I am using SVD to map other **physical** phenomena, like the movement of particles, normally I don't go so far and the best thing to do normally is to stop at the 5th... 10th equation! In this case, if I want a better explanatory power, I will need to collect more data (or get data in a more accurate way), or start trying other **nonlinear** approaches.\n",
    "\n",
    "In our case, noise is **not a so terrible** problem. I want to go further and try to recommend so many articles as I can do in this way. So, I can go further and try to recommend, I don't know... using **150-240** explanatory equations? (in other words, 150-240 **latent features**)\n",
    "\n",
    "After 240 explanatory equations, I can see an evident problem of overfitting. And what I am adding, after that, are equations that are only trying to \"model\" noise!"
   ]
  },
  {
   "cell_type": "markdown",
   "metadata": {
    "collapsed": true,
    "id": "NUq7PTsZ0sP8"
   },
   "source": [
    "<a id='conclusions'></a>\n",
    "### Extras\n",
    "Using your workbook, you could now save your recommendations for each user, develop a class to make new predictions and update your results, and make a flask app to deploy your results.  These tasks are beyond what is required for this project.  However, from what you learned in the lessons, you certainly capable of taking these tasks on to improve upon your work here!\n",
    "\n",
    "\n",
    "## Conclusion\n",
    "\n",
    "> Congratulations!  You have reached the end of the Recommendations with IBM project! \n",
    "\n",
    "> **Tip**: Once you are satisfied with your work here, check over your report to make sure that it is satisfies all the areas of the [rubric](https://review.udacity.com/#!/rubrics/2322/view). You should also probably remove all of the \"Tips\" like this one so that the presentation is as polished as possible.\n",
    "\n",
    "\n",
    "## Directions to Submit\n",
    "\n",
    "> Before you submit your project, you need to create a .html or .pdf version of this notebook in the workspace here. To do that, run the code cell below. If it worked correctly, you should get a return code of 0, and you should see the generated .html file in the workspace directory (click on the orange Jupyter icon in the upper left).\n",
    "\n",
    "> Alternatively, you can download this report as .html via the **File** > **Download as** submenu, and then manually upload it into the workspace directory by clicking on the orange Jupyter icon in the upper left, then using the Upload button.\n",
    "\n",
    "> Once you've done this, you can submit your project by clicking on the \"Submit Project\" button in the lower right here. This will create and submit a zip file with this .ipynb doc and the .html or .pdf version you created. Congratulations! "
   ]
  },
  {
   "cell_type": "code",
   "execution_count": 173,
   "metadata": {
    "id": "dP0iSGXn0sP8"
   },
   "outputs": [
    {
     "data": {
      "text/plain": [
       "4294967295"
      ]
     },
     "execution_count": 173,
     "metadata": {},
     "output_type": "execute_result"
    }
   ],
   "source": [
    "from subprocess import call\n",
    "call(['python', '-m', 'nbconvert', 'Recommendations_with_IBM.ipynb'])"
   ]
  }
 ],
 "metadata": {
  "colab": {
   "collapsed_sections": [
    "It09Wrg00sPs",
    "rjDZ60U-0sPy",
    "cqUqNddz0sP0",
    "Hbrl8x670sP5",
    "NUq7PTsZ0sP8"
   ],
   "name": "Recommendations_with_IBM.ipynb",
   "provenance": []
  },
  "kernelspec": {
   "display_name": "Python 3 (ipykernel)",
   "language": "python",
   "name": "python3"
  },
  "language_info": {
   "codemirror_mode": {
    "name": "ipython",
    "version": 3
   },
   "file_extension": ".py",
   "mimetype": "text/x-python",
   "name": "python",
   "nbconvert_exporter": "python",
   "pygments_lexer": "ipython3",
   "version": "3.8.12"
  }
 },
 "nbformat": 4,
 "nbformat_minor": 1
}
